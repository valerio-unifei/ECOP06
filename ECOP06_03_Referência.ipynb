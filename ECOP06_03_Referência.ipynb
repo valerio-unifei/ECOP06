{
  "nbformat": 4,
  "nbformat_minor": 0,
  "metadata": {
    "colab": {
      "provenance": [],
      "authorship_tag": "ABX9TyORpsZbe3si/rJl89v0UYa2",
      "include_colab_link": true
    },
    "kernelspec": {
      "name": "python3",
      "display_name": "Python 3"
    },
    "language_info": {
      "name": "python"
    }
  },
  "cells": [
    {
      "cell_type": "markdown",
      "metadata": {
        "id": "view-in-github",
        "colab_type": "text"
      },
      "source": [
        "<a href=\"https://colab.research.google.com/github/valerio-unifei/ECOP06/blob/main/ECOP06_03_Refer%C3%AAncia.ipynb\" target=\"_parent\"><img src=\"https://colab.research.google.com/assets/colab-badge.svg\" alt=\"Open In Colab\"/></a>"
      ]
    },
    {
      "cell_type": "markdown",
      "source": [
        "# Referência"
      ],
      "metadata": {
        "id": "emdhZFw9_luN"
      }
    },
    {
      "cell_type": "markdown",
      "source": [
        "Objetos são acessados por referência na classe: SELF\n",
        "\n",
        "Exemplo de Classe"
      ],
      "metadata": {
        "id": "xvOxF5z2McsY"
      }
    },
    {
      "cell_type": "code",
      "source": [
        "class Conta:\n",
        "  def __init__(self,cpf):\n",
        "    self.cpf=cpf\n",
        "    self.corrente=0.0\n",
        "    self.historico=[]\n",
        "  def __repr__(self):\n",
        "    return str(self.__dict__)\n",
        "\n",
        "c1 = Conta('00011122233')\n",
        "c2 = Conta('00011122233')\n",
        "print('c1 =',c1)\n",
        "print('c2 =',c2)"
      ],
      "metadata": {
        "id": "scPbC-Jm_oaD"
      },
      "execution_count": null,
      "outputs": []
    },
    {
      "cell_type": "code",
      "source": [
        "if (c1 == c2):\n",
        "  print('c1 é igual a c2')\n",
        "else:\n",
        "  print('c1 é diferente a c2')"
      ],
      "metadata": {
        "id": "9LLR4CHkPvnv"
      },
      "execution_count": null,
      "outputs": []
    },
    {
      "cell_type": "markdown",
      "source": [
        "Use a função id() para identificar a referência dos objetos c1 e c2"
      ],
      "metadata": {
        "id": "JYngHrOpDnHY"
      }
    },
    {
      "cell_type": "code",
      "source": [
        "id(c1), id(c2)"
      ],
      "metadata": {
        "id": "vlRvmj6eDwag"
      },
      "execution_count": null,
      "outputs": []
    },
    {
      "cell_type": "markdown",
      "source": [
        "Referenciando conteúdo:"
      ],
      "metadata": {
        "id": "9HwHoVvNDv6X"
      }
    },
    {
      "cell_type": "code",
      "source": [
        "c3 = c1\n",
        "c3.cpf = '66677788899'\n",
        "print('c1 =',c1)\n",
        "print('c3 =',c3)\n",
        "\n",
        "if (c1 == c3):\n",
        "  print('c1 é igual a c3')\n",
        "else:\n",
        "  print('c1 é diferente a c3')\n",
        "\n",
        "print('Referências:',id(c1),id(c3))"
      ],
      "metadata": {
        "id": "YGdfOU1WD4yG"
      },
      "execution_count": null,
      "outputs": []
    },
    {
      "cell_type": "code",
      "source": [
        "import copy\n",
        "c3 = copy.copy(c1)\n",
        "c3.cpf = '99988877766'\n",
        "print('c1 =',c1)\n",
        "print('c3 =',c3)\n",
        "\n",
        "if (c1 == c3):\n",
        "  print('c1 é igual a c3')\n",
        "else:\n",
        "  print('c1 é diferente a c3')\n",
        "\n",
        "print('Referências:',id(c1),id(c3))"
      ],
      "metadata": {
        "id": "IAjcZDSf0JpA"
      },
      "execution_count": null,
      "outputs": []
    },
    {
      "cell_type": "markdown",
      "source": [
        "Usando a referência em método de tranferência de valor entre duas contas."
      ],
      "metadata": {
        "id": "bIss8NUTRDv_"
      }
    },
    {
      "cell_type": "code",
      "source": [
        "class Conta:\n",
        "  def __init__(self,cpf):\n",
        "    self.cpf=cpf\n",
        "    self.corrente=0.0\n",
        "    self.historico=[]\n",
        "  def __repr__(self):\n",
        "    return str(self.__dict__)\n",
        "\n",
        "  def transfere(self, origem:Conta, valor:float):\n",
        "    self.corrente += valor\n",
        "    origem.corrente -= valor\n",
        "    self.historico.append((origem, valor))\n",
        "    origem.historico.append((self, -valor))\n",
        "\n",
        "c1 = Conta('11122233344')\n",
        "c1.corrente = 500\n",
        "c2 = Conta('22233344455')\n",
        "c2.corrente = 1600\n",
        "c1.transfere(c2, 300)\n",
        "print('c1 =',c1)\n",
        "print('c2 =',c2)"
      ],
      "metadata": {
        "id": "zOh5gTi6RNde"
      },
      "execution_count": null,
      "outputs": []
    },
    {
      "cell_type": "markdown",
      "source": [
        "Criando classe de histórico de transferencias para as contas"
      ],
      "metadata": {
        "id": "Gr9WTps_Rxvv"
      }
    },
    {
      "cell_type": "code",
      "source": [
        "class HistoricoConta:\n",
        "  def __init__(self, conta:Conta, valor:float):\n",
        "    self.conta = conta\n",
        "    self.valor = valor\n",
        "  def __repr__(self):\n",
        "    return f'Conta:{self.conta.cpf}, Valor:{self.valor}'\n",
        "\n",
        "class Conta:\n",
        "  def __init__(self,cpf):\n",
        "    self.cpf=cpf\n",
        "    self.corrente=0.0\n",
        "    self.historico=[]\n",
        "  def __repr__(self):\n",
        "    return str(self.__dict__)\n",
        "  def transfere(self, origem:Conta, valor:float):\n",
        "    self.corrente += valor\n",
        "    origem.corrente -= valor\n",
        "    self.historico.append(HistoricoConta(origem, valor))\n",
        "    origem.historico.append(HistoricoConta(self, -valor))\n",
        "\n",
        "c1 = Conta('11122233344')\n",
        "c1.corrente = 500\n",
        "c2 = Conta('22233344455')\n",
        "c2.corrente = 1600\n",
        "c1.transfere(c2, 300)\n",
        "print('c1 =',c1)\n",
        "print('c2 =',c2)"
      ],
      "metadata": {
        "id": "o5yU4YkeR3v-"
      },
      "execution_count": null,
      "outputs": []
    },
    {
      "cell_type": "markdown",
      "source": [
        "Listando métodos da classe com função dir(\\<class\\>)"
      ],
      "metadata": {
        "id": "Dy-hem1bR8vm"
      }
    },
    {
      "cell_type": "code",
      "source": [
        "dir(Conta)"
      ],
      "metadata": {
        "id": "uYPqhNWESDb2"
      },
      "execution_count": null,
      "outputs": []
    },
    {
      "cell_type": "code",
      "source": [
        "c1.__class__.__name__"
      ],
      "metadata": {
        "id": "ti-6tUhh6nwJ"
      },
      "execution_count": null,
      "outputs": []
    },
    {
      "cell_type": "markdown",
      "source": [
        "## Atividade"
      ],
      "metadata": {
        "id": "EQPje3ksirP3"
      }
    },
    {
      "cell_type": "markdown",
      "source": [
        "Crie uma classe para \"cadeira\" com altura, largura, número de pés, com encosto.\n",
        "\n",
        "Gere uma lista de 10 objetos das carteiras.\n",
        "\n",
        "Gere 2 listas (sala1, sala2) e referencie 5 cadeiras para cada."
      ],
      "metadata": {
        "id": "qw4b4ZOxivSP"
      }
    },
    {
      "cell_type": "code",
      "source": [
        "class Cadeira:\n",
        "  def __init__(self, altura:float, largura:float, numPes:int, encosto:bool):\n",
        "    self.altura = altura\n",
        "    self.largura = largura\n",
        "    self.numPes = numPes\n",
        "    self.encosto = encosto\n",
        "  def __repr__(self):\n",
        "    return str(self.__dict__)\n",
        "import random\n",
        "cadeiras = []\n",
        "for _ in range(10):\n",
        "  cadeiras.append(Cadeira(\n",
        "      altura = round(random.random()*20 + 10, 3),\n",
        "      largura = random.random()*20 + 10,\n",
        "      numPes = random.randint(3,10),\n",
        "      encosto = random.choice([True, False]),\n",
        "      ))\n",
        "cadeiras"
      ],
      "metadata": {
        "id": "eTNOfunMjXu-"
      },
      "execution_count": null,
      "outputs": []
    },
    {
      "cell_type": "markdown",
      "source": [
        "# Instâncias na Classe"
      ],
      "metadata": {
        "id": "yQQ0Dx9RSQRH"
      }
    },
    {
      "cell_type": "markdown",
      "source": [
        "Modificadores de acesso às propriedades e métodos de uma classe.\n",
        "\n",
        "Veja o exemplo:"
      ],
      "metadata": {
        "id": "us4NZL-9SVAX"
      }
    },
    {
      "cell_type": "code",
      "source": [
        "class CLP:\n",
        "  def __init__(self,tag):\n",
        "    self.__tag = tag\n",
        "  def Tag(self):\n",
        "    return self.__tag\n",
        "  def __editTag(self,tag):\n",
        "    self.__tag = tag\n",
        "\n",
        "dispositivo = CLP('CA53BN')\n",
        "dispositivo.Tag()"
      ],
      "metadata": {
        "id": "Ps6zdrZaOP5H"
      },
      "execution_count": null,
      "outputs": []
    },
    {
      "cell_type": "code",
      "source": [
        "dispositivo._CLP__tag"
      ],
      "metadata": {
        "id": "WwpOaQzbZ4kj"
      },
      "execution_count": null,
      "outputs": []
    },
    {
      "cell_type": "code",
      "source": [
        "dispositivo._CLP__editTag('UF29SQ')\n",
        "dispositivo.Tag()"
      ],
      "metadata": {
        "id": "CbSwg3WnaPDq"
      },
      "execution_count": null,
      "outputs": []
    },
    {
      "cell_type": "code",
      "source": [
        "dir(dispositivo)"
      ],
      "metadata": {
        "id": "8Gc3i1faZhGk"
      },
      "execution_count": null,
      "outputs": []
    },
    {
      "cell_type": "markdown",
      "source": [
        "## Encapsular"
      ],
      "metadata": {
        "id": "4Kzzhrora1pq"
      }
    },
    {
      "cell_type": "markdown",
      "source": [
        "Variáveis acessíveis via métodos apenas, com possibilidade de alteração."
      ],
      "metadata": {
        "id": "yQDOtjQgdiix"
      }
    },
    {
      "cell_type": "code",
      "source": [
        "from math import sqrt\n",
        "class Motor:\n",
        "  def __init__(self,tensao,potencia):\n",
        "    self._tensao = tensao\n",
        "    self._potencia = potencia\n",
        "\n",
        "  def get_tensao(self): # leitura\n",
        "    return self._tensao\n",
        "\n",
        "  def get_tensaoPico(self): # leitura alterada\n",
        "    return self._tensao * sqrt(2)\n",
        "\n",
        "  def set_tensao(self, tensao): # edição\n",
        "    if tensao < 0:\n",
        "      print('Tensão incorreta!')\n",
        "    else:\n",
        "      self._tensao = tensao\n",
        "\n",
        "m = Motor(127,100)\n",
        "m.set_tensao(-220)\n",
        "print('Tensão:',m.get_tensao())\n",
        "print('Tensão Pico:',m.get_tensaoPico())"
      ],
      "metadata": {
        "id": "aTEMS6WIa4WK"
      },
      "execution_count": null,
      "outputs": []
    },
    {
      "cell_type": "markdown",
      "source": [
        "Encapsulando funções de atribuição e entrega:"
      ],
      "metadata": {
        "id": "hdk8X88Sga_n"
      }
    },
    {
      "cell_type": "code",
      "source": [
        "from math import sqrt\n",
        "class Motor:\n",
        "  def __init__(self,tensao,potencia):\n",
        "    self._tensao = tensao\n",
        "    self._potencia = potencia\n",
        "\n",
        "  @property\n",
        "  def tensao(self): # leitura\n",
        "    return self._tensao\n",
        "\n",
        "  def get_tensaoPico(self): # leitura alterada\n",
        "    return self._tensao * sqrt(2)\n",
        "\n",
        "  @tensao.setter\n",
        "  def tensao(self, tensao): # edição\n",
        "    if tensao < 0:\n",
        "      print('Tensão incorreta!')\n",
        "    else:\n",
        "      self._tensao = tensao\n",
        "\n",
        "m = Motor(127,100)\n",
        "m.tensao = -220\n",
        "print('Tensão:',m.tensao)\n",
        "print('Tensão Pico:',m.get_tensaoPico())"
      ],
      "metadata": {
        "id": "bO8fXAb-gxiQ"
      },
      "execution_count": null,
      "outputs": []
    },
    {
      "cell_type": "markdown",
      "source": [
        "## Atividade"
      ],
      "metadata": {
        "id": "CDIWBJCvnBaJ"
      }
    },
    {
      "cell_type": "markdown",
      "source": [
        "Crie uma classe \"Computador\" com processador, ram e disco restritos.\n",
        "\n",
        "Monte o encapsulamento para leitura de todas, mas escrita apenas de ram e disco.\n",
        "\n",
        "Crie um objeto de \"Computador\" e verifique o funcionamento dos encapsulamentos"
      ],
      "metadata": {
        "id": "qHqBMenCnFS9"
      }
    },
    {
      "cell_type": "code",
      "source": [],
      "metadata": {
        "id": "AmI-QZ89nEUw"
      },
      "execution_count": null,
      "outputs": []
    },
    {
      "cell_type": "markdown",
      "source": [
        "# Elementos da Classe"
      ],
      "metadata": {
        "id": "jUl4rZcOiK_f"
      }
    },
    {
      "cell_type": "markdown",
      "source": [
        "## Atributos da Classe"
      ],
      "metadata": {
        "id": "urWlCqK9pCqV"
      }
    },
    {
      "cell_type": "markdown",
      "source": [
        "Criando variáveis da classe, desconectada dos objetos gerados por ela."
      ],
      "metadata": {
        "id": "W88uewVYie1-"
      }
    },
    {
      "cell_type": "code",
      "source": [
        "class Video:\n",
        "\n",
        "  total_videos = 0\n",
        "\n",
        "  def __init__(self, url):\n",
        "    self.url = url\n",
        "    Video.total_videos += 1\n",
        "\n",
        "Video.total_videos = 1000\n",
        "\n",
        "for i in range(100):\n",
        "  _  = Video('https://youtu.be/GVwpQhwFcH0')\n",
        "\n",
        "Video('https://youtu.be/GVwpQhwFcH0')\n",
        "Video.total_videos"
      ],
      "metadata": {
        "id": "KBcw5NKyiZ0Y"
      },
      "execution_count": null,
      "outputs": []
    },
    {
      "cell_type": "markdown",
      "source": [
        "## Métodos da Classe"
      ],
      "metadata": {
        "id": "eaHuD5DSpFgU"
      }
    },
    {
      "cell_type": "code",
      "source": [
        "class Video:\n",
        "\n",
        "  _total_videos = 0\n",
        "\n",
        "  def __init__(self, url):\n",
        "    self.url = url\n",
        "    Video._total_videos += 1\n",
        "\n",
        "  @classmethod\n",
        "  def get_total(cls):\n",
        "    return cls._total_videos\n",
        "\n",
        "videos = []\n",
        "for i in range(100):\n",
        "  videos.append(Video('https://youtu.be/dQw4w9WgXcQ))\n",
        "\n",
        "videos[0].get_total()"
      ],
      "metadata": {
        "id": "NpjTLJ91pIoQ"
      },
      "execution_count": null,
      "outputs": []
    },
    {
      "cell_type": "markdown",
      "source": [
        "## SLOTS"
      ],
      "metadata": {
        "id": "rlZbiAdRphGL"
      }
    },
    {
      "cell_type": "code",
      "source": [
        "class Endereco:\n",
        "  __slots__ = ['continente','pais','estado','cidade',\n",
        "               'bairro','logradouro','numero',\n",
        "               'complemento','cep','__dict__']\n",
        "\n",
        "  def __init__(self, continente, pais, estado, cidade,\n",
        "               bairro, logradouro, numero, complemento, cep):\n",
        "\n",
        "    self.continente=continente\n",
        "    self.pais=pais\n",
        "    self.estado=estado\n",
        "    self.cidade=cidade\n",
        "    self.bairro=bairro\n",
        "    self.logradouro=logradouro\n",
        "    self.numero=numero\n",
        "    self.complemento=complemento\n",
        "    self.cep=cep\n",
        "\n",
        "end = Endereco('america','brasil','minas gerais','itajubá','pinheirinho','avenida bps',1303,'','37500903')\n",
        "end.bairro"
      ],
      "metadata": {
        "id": "-zfdbAGRpjqc"
      },
      "execution_count": null,
      "outputs": []
    },
    {
      "cell_type": "markdown",
      "source": [
        "**prós**\n",
        "\n",
        "\\_\\_slots\\_\\_ pode ser definitivamente útil quando você tem uma pressão sobre o uso da memória.\n",
        "\n",
        "É extremamente fácil adicionar ou remover com apenas uma linha de código.\n",
        "\n",
        "A possibilidade de ter \\_\\_dict\\_\\_ como atributo em \\_\\_slots\\_\\_ dá aos desenvolvedores mais flexibilidade para gerenciar atributos enquanto cuidam do desempenho.\n",
        "\n",
        "**contras**\n",
        "\n",
        "Você precisa ser claro sobre o que está fazendo e o que deseja alcançar com o \\_\\_slots\\_\\_, especialmente ao herdar uma classe com ele.\n",
        "\n",
        "A ordem de herança, os nomes dos atributos podem fazer uma grande diferença no desempenho.\n",
        "\n",
        "Você não pode herdar um tipo interno como int, bytes, tuple não vazio \\_\\_slots\\_\\_.\n",
        "\n",
        "Além disso, você não pode atribuir um valor padrão aos atributos em \\_\\_slots\\_\\_. Isso ocorre porque esses atributos devem ser descritores. Em vez disso, você pode atribuir o valor padrão em \\_\\_init\\_\\_()."
      ],
      "metadata": {
        "id": "Nfq4DeUFHTfp"
      }
    },
    {
      "cell_type": "markdown",
      "source": [
        "## Atividade"
      ],
      "metadata": {
        "id": "Bh8iS6S3IrL0"
      }
    },
    {
      "cell_type": "markdown",
      "source": [
        "Crie uma classe \"Fabrica\" para armazenar nos objetos: cnpj, pais, estado, cidade, logradouro e número de funcionarios.\n",
        "\n",
        "Todos os atributos devem ser propriedades com 'get' e 'set' encapsulados.\n",
        "\n",
        "A classe \"Fabrica\" deve armazenar número de filiais e cnpj da matriz.\n",
        "\n",
        "Toda nova fábrica deve incrementar o número de filiais. O CNPJ da Matriz deve ser atribuído na primeira fábrica."
      ],
      "metadata": {
        "id": "zgQckuLYIsqU"
      }
    },
    {
      "cell_type": "code",
      "source": [],
      "metadata": {
        "id": "VJv7fhFIIjJA"
      },
      "execution_count": null,
      "outputs": []
    },
    {
      "cell_type": "markdown",
      "source": [
        "Altere o código acima para funcionar com \\_\\_slot\\_\\_."
      ],
      "metadata": {
        "id": "lVVcYEP0JnmM"
      }
    },
    {
      "cell_type": "code",
      "source": [],
      "metadata": {
        "id": "FpwH7iptJtcr"
      },
      "execution_count": null,
      "outputs": []
    }
  ]
}