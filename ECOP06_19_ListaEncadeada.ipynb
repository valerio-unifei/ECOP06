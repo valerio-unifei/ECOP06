{
  "nbformat": 4,
  "nbformat_minor": 0,
  "metadata": {
    "colab": {
      "provenance": [],
      "authorship_tag": "ABX9TyPgIcBC47fybGgF7/C9xNFV",
      "include_colab_link": true
    },
    "kernelspec": {
      "name": "python3",
      "display_name": "Python 3"
    },
    "language_info": {
      "name": "python"
    }
  },
  "cells": [
    {
      "cell_type": "markdown",
      "metadata": {
        "id": "view-in-github",
        "colab_type": "text"
      },
      "source": [
        "<a href=\"https://colab.research.google.com/github/valerio-unifei/ECOP06/blob/main/ECOP06_19_ListaEncadeada.ipynb\" target=\"_parent\"><img src=\"https://colab.research.google.com/assets/colab-badge.svg\" alt=\"Open In Colab\"/></a>"
      ]
    },
    {
      "cell_type": "markdown",
      "source": [
        "# Lista Encadeada"
      ],
      "metadata": {
        "id": "HELd7LH3Zgug"
      }
    },
    {
      "cell_type": "markdown",
      "source": [
        "Vincula células da lista por meio de ponteiros, portanto, um elemento se conecta aos seus vizinhos por meio de ponteiros de memória.\n",
        "\n",
        "<img src=\"https://res.cloudinary.com/practicaldev/image/fetch/s--7LU_Bdwj--/c_limit%2Cf_auto%2Cfl_progressive%2Cq_auto%2Cw_880/https://dev-to-uploads.s3.amazonaws.com/i/cz7nxpb3lganr6nc42ha.png\" width=\"70%\" />\n",
        "\n",
        "As lista encadeada podem ser **simples**, com encadeamento para frente ou para trás:\n",
        "\n",
        "<img src=\"http://4.bp.blogspot.com/-1Olc0ieiy8c/US2aqQhst2I/AAAAAAAAF_E/vW5_r5jt2fI/s1600/LC.png\" width=\"70%\" />\n",
        "\n",
        "**Duplamente encadeada**:\n",
        "\n",
        "<img src=\"http://1.bp.blogspot.com/-7c2ywkpxzso/US2jNYdnK3I/AAAAAAAAF_k/wQAaMkTjIkc/s1600/LDE.png\" width=\"70%\" />\n",
        "\n",
        "**Lista circular**:\n",
        "\n",
        "<img src=\"http://2.bp.blogspot.com/-MCBt9Xjss4E/US2kzPR42NI/AAAAAAAAF_0/9tiseyOm2iY/s1600/LCir.png\" width=\"70%\" />"
      ],
      "metadata": {
        "id": "yvwGrO1CZi5G"
      }
    },
    {
      "cell_type": "markdown",
      "source": [
        "## Características"
      ],
      "metadata": {
        "id": "lITN_WekaafY"
      }
    },
    {
      "cell_type": "markdown",
      "source": [
        "Diferença de ocupação de memória:"
      ],
      "metadata": {
        "id": "NALXeA_9acb3"
      }
    },
    {
      "cell_type": "code",
      "execution_count": null,
      "metadata": {
        "id": "RJLLXzuYZdrz"
      },
      "outputs": [],
      "source": [
        "from collections import deque #(Doubly Ended Queue)\n",
        "import sys, time\n",
        "\n",
        "lista = list(range(10_000))\n",
        "encad = deque(lista)\n",
        "\n",
        "print('Lista',sys.getsizeof(lista))\n",
        "print('Deque',sys.getsizeof(encad))"
      ]
    },
    {
      "cell_type": "markdown",
      "source": [
        "Tempo de inserção de objetos:"
      ],
      "metadata": {
        "id": "zn2LfQIDa3Ky"
      }
    },
    {
      "cell_type": "code",
      "source": [
        "inicio= time.time()\n",
        "for _ in range(10_000):\n",
        "    lista.append(lista.pop())\n",
        "print('Lista insere tempo',time.time() - inicio)\n",
        "\n",
        "\n",
        "inicio= time.time()\n",
        "for _ in range(10_000):\n",
        "    encad.append(encad.pop())\n",
        "print('Deque insere tempo',time.time() - inicio)\n",
        "\n",
        "inicio= time.time()\n",
        "for _ in range(10_000):\n",
        "    encad.appendleft(encad.popleft())\n",
        "print('Deque insere reverso',time.time() - inicio)"
      ],
      "metadata": {
        "id": "yE9proC3a1Eo"
      },
      "execution_count": null,
      "outputs": []
    },
    {
      "cell_type": "markdown",
      "source": [
        "Tempo de acesso aleatório:"
      ],
      "metadata": {
        "id": "bpFG1lUCbC2P"
      }
    },
    {
      "cell_type": "code",
      "source": [
        "inicio = time.time()\n",
        "for _ in range(10_000):\n",
        "    for i in lista:\n",
        "        _ = i\n",
        "print('Lista acesso tempo',time.time() - inicio)\n",
        "\n",
        "inicio = time.time()\n",
        "for _ in range(10_000):\n",
        "    for i in encad:\n",
        "        _ = i\n",
        "print('Deque acesso tempo',time.time() - inicio)"
      ],
      "metadata": {
        "id": "hN-goVYCbCkX"
      },
      "execution_count": null,
      "outputs": []
    },
    {
      "cell_type": "markdown",
      "source": [
        "Tempo de acesso fixo:"
      ],
      "metadata": {
        "id": "tsasj9kubPXg"
      }
    },
    {
      "cell_type": "code",
      "source": [
        "inicio = time.time()\n",
        "for _ in range(10_000):\n",
        "    _ = lista[100]\n",
        "print('Lista acesso fixo',time.time() - inicio)\n",
        "\n",
        "inicio = time.time()\n",
        "for _ in range(10_000):\n",
        "    _ = encad[100]\n",
        "print('Deque acesso fixo',time.time() - inicio)"
      ],
      "metadata": {
        "id": "p6iHRc-5bPAu"
      },
      "execution_count": null,
      "outputs": []
    },
    {
      "cell_type": "markdown",
      "source": [
        "## Atividade"
      ],
      "metadata": {
        "id": "-HUphaTBcFrP"
      }
    },
    {
      "cell_type": "markdown",
      "source": [
        "Neste exemplo, a classe Banco possui um método `entrar_na_fila` para adicionar clientes à fila e um método `atender_cliente` para atender o próximo cliente na fila.\n",
        "\n",
        "Utilizando a classe Banco, crie um sistema de atendimento bancários onde 1 cliente entra a cada 2 minutos e o atendimento leva 3 minutos."
      ],
      "metadata": {
        "id": "UEiS0_34cIMh"
      }
    },
    {
      "cell_type": "code",
      "source": [
        "from collections import deque\n",
        "\n",
        "class Banco:\n",
        "  def __init__(self):\n",
        "    self.fila_atendimento = deque()\n",
        "\n",
        "  def entrar_na_fila(self, cliente):\n",
        "    self.fila_atendimento.append(cliente)\n",
        "    print(f\"{cliente} entrou na fila de atendimento.\")\n",
        "\n",
        "  def atender_cliente(self):\n",
        "    if self.fila_atendimento:\n",
        "      cliente_atual = self.fila_atendimento.popleft()\n",
        "      print(f\"Atendendo o cliente: {cliente_atual}\")\n",
        "    else:\n",
        "      print(\"A fila de atendimento está vazia.\")"
      ],
      "metadata": {
        "id": "1bWXGeIncFRI"
      },
      "execution_count": null,
      "outputs": []
    }
  ]
}