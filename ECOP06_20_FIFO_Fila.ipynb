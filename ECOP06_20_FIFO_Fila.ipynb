{
  "nbformat": 4,
  "nbformat_minor": 0,
  "metadata": {
    "colab": {
      "provenance": [],
      "toc_visible": true,
      "authorship_tag": "ABX9TyPkkmME9J7Olsk+A9LerQKH",
      "include_colab_link": true
    },
    "kernelspec": {
      "name": "python3",
      "display_name": "Python 3"
    },
    "language_info": {
      "name": "python"
    }
  },
  "cells": [
    {
      "cell_type": "markdown",
      "metadata": {
        "id": "view-in-github",
        "colab_type": "text"
      },
      "source": [
        "<a href=\"https://colab.research.google.com/github/valerio-unifei/ECOP06/blob/main/ECOP06_20_FIFO_Fila.ipynb\" target=\"_parent\"><img src=\"https://colab.research.google.com/assets/colab-badge.svg\" alt=\"Open In Colab\"/></a>"
      ]
    },
    {
      "cell_type": "markdown",
      "source": [
        "# First-In First-Out (FIFO) - Fila"
      ],
      "metadata": {
        "id": "eLFvwRqSpUVx"
      }
    },
    {
      "cell_type": "markdown",
      "source": [
        "Fonte:\n",
        "\n",
        "<a href=\"https://realpython.com/queue-in-python/\">\n",
        "<img src=\"https://files.realpython.com/media/How-to-Implement-A-Queue-in-Python_Watermarked.993460fe2ffc.jpg\"></a>"
      ],
      "metadata": {
        "id": "Jp1vyochqKr3"
      }
    },
    {
      "cell_type": "markdown",
      "source": [
        "As filas são a espinha dorsal de vários algoritmos encontrados em jogos, inteligência artificial, navegação por satélite e agendamento de tarefas. Eles estão entre os principais **tipos de dados abstratos** que os alunos de ciência da computação aprendem no início de sua educação. Ao mesmo tempo, os engenheiros de software geralmente aproveitam as **filas de mensagens** de nível superior para obter melhor escalabilidade de uma arquitetura de microsserviço."
      ],
      "metadata": {
        "id": "Nx7KvvPlqiX4"
      }
    },
    {
      "cell_type": "markdown",
      "source": [
        "FIFO é a abreviação de **First-In, First-Out**, que descreve o fluxo de elementos pela fila.\n",
        "\n",
        "Os elementos em tal fila serão processados ​​por ordem de chegada, que é como a maioria das filas da vida real funciona.\n",
        "\n",
        "<img src=\"https://www.embarcados.com.br/wp-content/uploads/2018/08/rtos-queue-fifo-animacao.gif\">"
      ],
      "metadata": {
        "id": "MbhAVEEoq3Ks"
      }
    },
    {
      "cell_type": "code",
      "execution_count": null,
      "metadata": {
        "id": "kBnkRmAupN-7"
      },
      "outputs": [],
      "source": [
        "# Lista\n",
        "lista = list(range(1,21))\n",
        "lista"
      ]
    },
    {
      "cell_type": "markdown",
      "source": [
        "## SimpleQueue - Fila Ilimitada"
      ],
      "metadata": {
        "id": "nkb6GAXdu7tF"
      }
    },
    {
      "cell_type": "markdown",
      "source": [
        "Adicionar um elemento à fila FIFO é comumente referido como uma operação de **enfileiramento**, enquanto a recuperação de um elemento é conhecida como uma operação de **desenfileiramento** .\n",
        "\n",
        "Enfileirar e desenfileirar são duas operações independentes que podem ocorrer em velocidades diferentes. Esse fato torna as filas FIFO a ferramenta perfeita para armazenar **dados em buffer** em cenários de streaming e para **agendar tarefas** que precisam aguardar até que algum recurso compartilhado fique disponível. Por exemplo, um servidor da Web inundado com solicitações HTTP pode colocá-los em uma fila em vez de rejeitá-los imediatamente com um erro."
      ],
      "metadata": {
        "id": "MqVp6LuRx_3R"
      }
    },
    {
      "cell_type": "code",
      "source": [
        "# Montando a Fila\n",
        "import queue\n",
        "q = queue.SimpleQueue()\n",
        "for i in lista:\n",
        "  q.put(i)\n",
        "q.empty()"
      ],
      "metadata": {
        "id": "Gf0b9bXztuq1"
      },
      "execution_count": null,
      "outputs": []
    },
    {
      "cell_type": "code",
      "source": [
        "# Extraindo dados da fila\n",
        "while not q.empty():\n",
        "  print(q.get(),end=', ')\n",
        "q.empty()"
      ],
      "metadata": {
        "id": "kGcpDlyxuMqG"
      },
      "execution_count": null,
      "outputs": []
    },
    {
      "cell_type": "markdown",
      "source": [
        "## Queue - Fila Limitada"
      ],
      "metadata": {
        "id": "inWxhYWFvhoS"
      }
    },
    {
      "cell_type": "markdown",
      "source": [
        "Outro ponto digno de nota sobre a fila descrita acima é que ela pode crescer sem limites à medida que novos elementos chegam. Imagine uma fila de caixa se estendendo até o fundo da loja durante uma movimentada temporada de compras! Em algumas situações, no entanto, você pode preferir trabalhar com uma **fila limitada** que tenha uma capacidade fixa conhecida antecipadamente."
      ],
      "metadata": {
        "id": "-IMuIhXnyPFf"
      }
    },
    {
      "cell_type": "code",
      "source": [
        "q = queue.Queue(maxsize=3)\n",
        "for i in lista:\n",
        "  q.put(i, block=False)\n",
        "q.empty()"
      ],
      "metadata": {
        "id": "QrTCABhZvg0o"
      },
      "execution_count": null,
      "outputs": []
    },
    {
      "cell_type": "code",
      "source": [
        "q = queue.Queue(maxsize=3)\n",
        "\n",
        "try:\n",
        "  for i in lista:\n",
        "    q.put(i, block=False)\n",
        "except queue.Full:\n",
        "  print(f'Fila cheia com {q.maxsize} itens')\n",
        "\n",
        "q.empty()"
      ],
      "metadata": {
        "id": "VihxlT_i2jAa"
      },
      "execution_count": null,
      "outputs": []
    },
    {
      "cell_type": "code",
      "source": [
        "# Extraindo dados da fila\n",
        "while not q.empty():\n",
        "  print(q.get(),end=', ')\n",
        "q.empty()"
      ],
      "metadata": {
        "id": "FVsHInCOxQQ1"
      },
      "execution_count": null,
      "outputs": []
    },
    {
      "cell_type": "markdown",
      "source": [
        "# Atividades"
      ],
      "metadata": {
        "id": "ZuFNJ0nZ5r2r"
      }
    },
    {
      "cell_type": "markdown",
      "source": [
        "## Fila Limitada por Negação"
      ],
      "metadata": {
        "id": "gHfik03k6CFh"
      }
    },
    {
      "cell_type": "markdown",
      "source": [
        "Faça um código que produza 2 mensagens por segundo, mas consuma apenas 1.\n",
        "\n",
        "Quando a lista estiver cheia, a mensagem mais nova deve ser ignorada sem processar, somente entra novas mensagens caso tenha espaço."
      ],
      "metadata": {
        "id": "HTb4Kafb7F8y"
      }
    },
    {
      "cell_type": "code",
      "source": [],
      "metadata": {
        "id": "eKzvwh1V7EKb"
      },
      "execution_count": null,
      "outputs": []
    },
    {
      "cell_type": "markdown",
      "source": [
        "## Fila Limitada por Descarte"
      ],
      "metadata": {
        "id": "msv0QqDL5uNn"
      }
    },
    {
      "cell_type": "markdown",
      "source": [
        "Faça um código que produza 2 mensagens por segundo, mas consuma apenas 1.\n",
        "\n",
        "Quando a lista estiver cheia, a mensagem mais antiga deve ser descartada sem processar para receber a nova."
      ],
      "metadata": {
        "id": "kKWV9g9t5xJJ"
      }
    },
    {
      "cell_type": "code",
      "source": [],
      "metadata": {
        "id": "EM_M34Hi6BuP"
      },
      "execution_count": null,
      "outputs": []
    }
  ]
}