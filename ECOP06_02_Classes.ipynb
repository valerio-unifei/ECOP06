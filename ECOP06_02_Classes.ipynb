{
  "nbformat": 4,
  "nbformat_minor": 0,
  "metadata": {
    "colab": {
      "provenance": [],
      "authorship_tag": "ABX9TyPtQ40keEbmTTD5/02+o2fz",
      "include_colab_link": true
    },
    "kernelspec": {
      "name": "python3",
      "display_name": "Python 3"
    },
    "language_info": {
      "name": "python"
    }
  },
  "cells": [
    {
      "cell_type": "markdown",
      "metadata": {
        "id": "view-in-github",
        "colab_type": "text"
      },
      "source": [
        "<a href=\"https://colab.research.google.com/github/valerio-unifei/ECOP06/blob/main/ECOP06_02_Classes.ipynb\" target=\"_parent\"><img src=\"https://colab.research.google.com/assets/colab-badge.svg\" alt=\"Open In Colab\"/></a>"
      ]
    },
    {
      "cell_type": "markdown",
      "source": [
        "# Classe"
      ],
      "metadata": {
        "id": "MItUDFXcbqOu"
      }
    },
    {
      "cell_type": "markdown",
      "source": [
        "[Documentação](https://www.geeksforgeeks.org/python-classes-and-objects/)\n",
        "\n",
        "[Documentação Oficial](https://docs.python.org/pt-br/3.8/)\n",
        "\n",
        "A programação orientada a objetos é uma das abordagens mais eficientes para escrever software. Na programação orientada a objetos, escrevemos classes que  representam entidades e situações do mundo real, e criamos objetos com base nessas classes. Quando escrevemos uma classe, definimos o comportamento geral que toda uma categoria de objetos pode ter.\n",
        "\n",
        "Criar um objeto a partir de uma classe é uma operação conhecida como instanciação, e trabalhamos com instâncias de uma classe.\n",
        "Especificaremos o tipo de informação que pode ser armazenado nas instâncias e definiremos ações que podem ser executadas nessas instâncias. Também escreveremos classes que estendem a funcionalidade de classes existentes, de modo que classes semelhantes\n",
        "possam compartilhar códigos de forma eficiente.\n",
        "\n",
        "Armazenaremos nossas classes em módulos e  importaremos classes escritas por outros programadores para nossos próprios arquivos de programa."
      ],
      "metadata": {
        "id": "Og8B3CzWeyfy"
      }
    },
    {
      "cell_type": "markdown",
      "source": [
        "## Criando uma Classe"
      ],
      "metadata": {
        "id": "FRixT4DwfWRj"
      }
    },
    {
      "cell_type": "markdown",
      "source": [
        "As classes também facilitam sua vida e a vida de outros programadores com quem você precisará  trabalhar à medida que assumir desafios cada vez mais complexos. Quando você e outros programadores escreverem códigos baseados no mesmo tipo de lógica, vocês serão capazes de entender o trabalho uns dos outros. Seus programas farão sentido para muitos colaboradores, permitindo que todos façam mais."
      ],
      "metadata": {
        "id": "0mM55tasfYQL"
      }
    },
    {
      "cell_type": "markdown",
      "source": [
        "Elementos iniciais de uma classe:\n",
        " - Atributos;\n",
        " - Construtor;\n",
        " - Métodos;"
      ],
      "metadata": {
        "id": "IOSgcU7ciXSK"
      }
    },
    {
      "cell_type": "markdown",
      "source": [
        "### Classe Pessoa"
      ],
      "metadata": {
        "id": "n1BbWxbGfmSj"
      }
    },
    {
      "cell_type": "markdown",
      "source": [
        "Atributos da Pessoa:\n",
        "- None\n",
        "- CPF\n",
        "- Nascimento\n",
        "- E-mail\n",
        "- Celular\n",
        "- Estado Civil\n",
        "- Nome Pai\n",
        "- Nome Mãe\n",
        "- Tipo Sanguíneo"
      ],
      "metadata": {
        "id": "KOiabjwTg7Ca"
      }
    },
    {
      "cell_type": "code",
      "source": [],
      "metadata": {
        "id": "ZPgxW661fX7U"
      },
      "execution_count": null,
      "outputs": []
    },
    {
      "cell_type": "code",
      "source": [],
      "metadata": {
        "id": "DZ0upIfaZ3Zz"
      },
      "execution_count": null,
      "outputs": []
    },
    {
      "cell_type": "markdown",
      "source": [
        "**Instanciando um objeto de Pessoa:**"
      ],
      "metadata": {
        "id": "hmRk3evgixsL"
      }
    },
    {
      "cell_type": "markdown",
      "source": [
        "Informações da pessoa_1:\n",
        "- Nome: Pafúncio Pinpinela\n",
        "- CPF: 123.456.789-10\n",
        "- Nascimento: 06/08/1984\n",
        "- E-mail: pafuncio@unifei.edu.br\n",
        "- Celular: +55 35 99402-0234\n",
        "- Estado Civil: Solteiro\n",
        "- Nome Pai: Jupiler Natalino Pinpinela\n",
        "- Nome Mãe: Sigismunda Pinpinela\n",
        "- Tipo Sanguíneo: AB+"
      ],
      "metadata": {
        "id": "Xm5LJcAwi91a"
      }
    },
    {
      "cell_type": "code",
      "source": [],
      "metadata": {
        "id": "vatdOegdi71E"
      },
      "execution_count": null,
      "outputs": []
    },
    {
      "cell_type": "code",
      "source": [],
      "metadata": {
        "id": "HL2NvvrXdpGu"
      },
      "execution_count": null,
      "outputs": []
    },
    {
      "cell_type": "markdown",
      "source": [
        "### Classe Instituto"
      ],
      "metadata": {
        "id": "kCOFPJl5jw0C"
      }
    },
    {
      "cell_type": "markdown",
      "source": [
        "Atributos do Instituto:\n",
        "- Nome\n",
        "- Sigla\n",
        "- CNPJ\n",
        "- Alunos (lista)\n",
        "- Docentes (lista)\n",
        "- Técnicos (lista)"
      ],
      "metadata": {
        "id": "6Flm5TXFj-dB"
      }
    },
    {
      "cell_type": "code",
      "source": [],
      "metadata": {
        "id": "tgSyuG17k2ZR"
      },
      "execution_count": null,
      "outputs": []
    },
    {
      "cell_type": "code",
      "source": [],
      "metadata": {
        "id": "DALfaziQiZ7O"
      },
      "execution_count": null,
      "outputs": []
    },
    {
      "cell_type": "markdown",
      "source": [
        "# Atividade"
      ],
      "metadata": {
        "id": "ipuqlMcbY2iH"
      }
    },
    {
      "cell_type": "markdown",
      "source": [
        "## Catálogo Netflix"
      ],
      "metadata": {
        "id": "Ni5x0v40aSnA"
      }
    },
    {
      "cell_type": "markdown",
      "source": [
        "\n",
        "Netflix é um serviço de streaming popular que oferece um vasto catálogo de filmes, programas de TV e conteúdos originais. Este conjunto de dados é uma versão limpa da versão original que pode ser encontrada [aqui](https://www.kaggle.com/datasets/shivamb/netflix-shows).\n",
        "\n",
        "Os dados consistem em conteúdos adicionados à Netflix de 2008 a 2021. O conteúdo mais antigo é de 1925 e o mais novo de 2021.\n",
        "\n",
        "Os dados limpos podem ser encontrados abaixo e o painel do Tableau pode ser encontrado [aqui](https://public.tableau.com/app/profile/abdulrasaq.ariyo/viz/NetflixTVShowsMovies_16615029026580/NetflixDashboard)."
      ],
      "metadata": {
        "id": "wPmCD7L7Z2NZ"
      }
    },
    {
      "cell_type": "markdown",
      "source": [
        "### Proposta"
      ],
      "metadata": {
        "id": "T6dsb-KYaVHG"
      }
    },
    {
      "cell_type": "markdown",
      "source": [
        "Crie duas classes, uma \"netflix\" e outra \"conteudo\" para armazenar o catálogo abaixo."
      ],
      "metadata": {
        "id": "rt7va11zaXv9"
      }
    },
    {
      "cell_type": "markdown",
      "source": [
        "[Base de Dados da Netflix](https://drive.google.com/file/d/1RXg3Sd7tkg8TvgtrXRlXDLqbABD7C11t/view?usp=sharing)"
      ],
      "metadata": {
        "id": "DUMRFzcLZ3yc"
      }
    },
    {
      "cell_type": "code",
      "source": [
        "!gdown --fuzzy https://drive.google.com/file/d/1RXg3Sd7tkg8TvgtrXRlXDLqbABD7C11t -O netflix_data.csv"
      ],
      "metadata": {
        "id": "4MlQkbqkatqz"
      },
      "execution_count": null,
      "outputs": []
    },
    {
      "cell_type": "code",
      "source": [],
      "metadata": {
        "id": "2v3zz8VVZ7tV"
      },
      "execution_count": null,
      "outputs": []
    },
    {
      "cell_type": "markdown",
      "source": [
        "## Inteligência Canina"
      ],
      "metadata": {
        "id": "j2daTPqObRqc"
      }
    },
    {
      "cell_type": "markdown",
      "source": [
        "Este conjunto de dados é baseado em pesquisa de Stanley Coren, professor de psicologia canina da Universidade da Colúmbia Britânica. Quando Coren publicou seu livro pela primeira vez em 1994, havia um alto grau de disputa de sua análise, embora ao longo do tempo seu trabalho tenha sido amplamente aceito."
      ],
      "metadata": {
        "id": "yoAAf2i6cMCa"
      }
    },
    {
      "cell_type": "markdown",
      "source": [
        "### Proposta"
      ],
      "metadata": {
        "id": "-jZphGvecSb5"
      }
    },
    {
      "cell_type": "markdown",
      "source": [
        "Crie uma classe para armazenar os caes listados no conjunto de dados, verifique as propriedades para serem armazenados."
      ],
      "metadata": {
        "id": "qEjLjqk7cXKp"
      }
    },
    {
      "cell_type": "code",
      "source": [
        "!gdown --fuzzy https://drive.google.com/file/d/1lColCUDGB28j3_a79nst-ZOoy2zHX2CI -O Inteligencia_canina.csv"
      ],
      "metadata": {
        "id": "Se7Ie9RqcFCd"
      },
      "execution_count": null,
      "outputs": []
    },
    {
      "cell_type": "code",
      "source": [],
      "metadata": {
        "id": "Sg4urXLgcHLE"
      },
      "execution_count": null,
      "outputs": []
    }
  ]
}