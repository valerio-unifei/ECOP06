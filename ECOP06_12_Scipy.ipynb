{
  "nbformat": 4,
  "nbformat_minor": 0,
  "metadata": {
    "colab": {
      "provenance": [],
      "authorship_tag": "ABX9TyOLD3ci9xp3lyBKp/2j5QDu",
      "include_colab_link": true
    },
    "kernelspec": {
      "name": "python3",
      "display_name": "Python 3"
    },
    "language_info": {
      "name": "python"
    }
  },
  "cells": [
    {
      "cell_type": "markdown",
      "metadata": {
        "id": "view-in-github",
        "colab_type": "text"
      },
      "source": [
        "<a href=\"https://colab.research.google.com/github/valerio-unifei/ECOP06/blob/main/ECOP06_12_Scipy.ipynb\" target=\"_parent\"><img src=\"https://colab.research.google.com/assets/colab-badge.svg\" alt=\"Open In Colab\"/></a>"
      ]
    },
    {
      "cell_type": "markdown",
      "source": [
        "#  SciPy - Biblioteca Científica"
      ],
      "metadata": {
        "id": "folk3ankIOS7"
      }
    },
    {
      "cell_type": "markdown",
      "source": [
        "SciPy é uma coleção de algoritmos matemáticos e funções de conveniência construídas na extensão NumPy do Python.\n",
        "\n",
        "Ele adiciona poder significativo à sessão interativa do Python, fornecendo ao usuário comandos e classes de alto nível para manipular e visualizar dados.\n",
        "\n",
        "Com o SciPy, uma sessão interativa do Python torna-se um ambiente de processamento de dados e prototipagem de sistemas que rivaliza com sistemas, como MATLAB, IDL, Octave, R-Lab e SciLab."
      ],
      "metadata": {
        "id": "WhGBqa4YJcKp"
      }
    },
    {
      "cell_type": "code",
      "execution_count": null,
      "metadata": {
        "id": "OkYUiNOwIJVH"
      },
      "outputs": [],
      "source": [
        "import scipy\n",
        "scipy.__version__"
      ]
    },
    {
      "cell_type": "markdown",
      "source": [
        "# Funções Especiais"
      ],
      "metadata": {
        "id": "x400fBuBKA8m"
      }
    },
    {
      "cell_type": "markdown",
      "source": [
        "A principal característica do scipy.specialpacote é a definição de inúmeras funções especiais da física matemática.\n",
        "\n",
        "As funções disponíveis incluem airy, elliptic, bessel, gamma, beta, hypergeometric, parabolic cylinder, mathieu, spheroidal wave, struve, e kelvin."
      ],
      "metadata": {
        "id": "wiMDf4uJKEM7"
      }
    },
    {
      "cell_type": "markdown",
      "source": [
        "## Funções de Bessel de ordem real"
      ],
      "metadata": {
        "id": "gxOLGHoBKNra"
      }
    },
    {
      "cell_type": "markdown",
      "source": [
        "As funções de Bessel são uma família de soluções para a equação diferencial de Bessel com alfa de ordem real ou complexa.\n",
        "\n",
        "Entre outros usos, essas funções surgem em problemas de propagação de ondas, como os modos vibracionais de uma pele fina de tambor.\n",
        "\n",
        "Aqui está um exemplo de uma cabeça de tambor circular ancorada na borda:"
      ],
      "metadata": {
        "id": "Zax7wG1rKqIy"
      }
    },
    {
      "cell_type": "code",
      "source": [
        "import numpy as np\n",
        "from scipy import special\n",
        "import matplotlib.pyplot as plt\n",
        "\n",
        "def drumhead_height(n, k, distance, angle, t):\n",
        "   kth_zero = special.jn_zeros(n, k)[-1]\n",
        "   result = np.cos(t) * np.cos(n*angle) * special.jn(n, distance*kth_zero)\n",
        "   return result\n",
        "\n",
        "theta = np.r_[0:2*np.pi:50j]\n",
        "radius = np.r_[0:1:50j]\n",
        "\n",
        "x = np.array([r * np.cos(theta) for r in radius])\n",
        "y = np.array([r * np.sin(theta) for r in radius])\n",
        "z = np.array([drumhead_height(1, 1, r, theta, 0.5) for r in radius])\n",
        "\n",
        "fig = plt.figure()\n",
        "ax = fig.add_subplot(111, projection='3d')\n",
        "ax.plot_surface(x, y, z, rstride=1, cstride=1, cmap='RdBu_r', vmin=-0.5, vmax=0.5)\n",
        "ax.set_xlabel('X')\n",
        "ax.set_ylabel('Y')\n",
        "ax.set_xticks(np.arange(-1, 1.1, 0.5))\n",
        "ax.set_yticks(np.arange(-1, 1.1, 0.5))\n",
        "ax.set_zlabel('Z')\n",
        "plt.show()"
      ],
      "metadata": {
        "id": "wmxau7Z6K9gu"
      },
      "execution_count": null,
      "outputs": []
    },
    {
      "cell_type": "markdown",
      "source": [
        "# Integração"
      ],
      "metadata": {
        "id": "TZV6NNYbNVAQ"
      }
    },
    {
      "cell_type": "markdown",
      "source": [
        "Fornece várias técnicas de integração, incluindo um integrador de equações diferenciais ordinárias."
      ],
      "metadata": {
        "id": "cdgTgFcmNaWH"
      }
    },
    {
      "cell_type": "markdown",
      "source": [
        "## Integração geral"
      ],
      "metadata": {
        "id": "2G5JWssBNdUO"
      }
    },
    {
      "cell_type": "markdown",
      "source": [
        "A função quad é fornecida para integrar uma função de uma variável entre dois pontos. Os pontos podem ser +/- inf para indicar limites infinitos."
      ],
      "metadata": {
        "id": "fs7kiYmsNhGq"
      }
    },
    {
      "cell_type": "markdown",
      "source": [
        "Exemplo: Integrar uma função de bessel ao longo do intervalo \\[0, 4.5\\]:\n",
        "\n",
        "![image.png](data:image/png;base64,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)"
      ],
      "metadata": {
        "id": "dipZll2PP4Y-"
      }
    },
    {
      "cell_type": "code",
      "source": [
        "import scipy.integrate as integrate\n",
        "import scipy.special as special\n",
        "\n",
        "resultado = integrate.quad(lambda x: special.jv(2.5,x), 0, 4.5)\n",
        "resultado"
      ],
      "metadata": {
        "id": "2yjW3alFNzN3"
      },
      "execution_count": null,
      "outputs": []
    },
    {
      "cell_type": "markdown",
      "source": [
        "Valor real da integral acima:\n",
        "\n",
        "![image.png](data:image/png;base64,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)"
      ],
      "metadata": {
        "id": "M7Mk4W8RP91q"
      }
    },
    {
      "cell_type": "code",
      "source": [
        "from numpy import sqrt, sin, cos, pi\n",
        "I = sqrt(2/pi)*(18.0/27*sqrt(2)*cos(4.5) - 4.0/27*sqrt(2)*sin(4.5) + sqrt(2*pi) * special.fresnel(3/sqrt(pi))[0])\n",
        "I"
      ],
      "metadata": {
        "id": "ZhURnS68N-hz"
      },
      "execution_count": null,
      "outputs": []
    },
    {
      "cell_type": "markdown",
      "source": [
        "Comparando os resultados:"
      ],
      "metadata": {
        "id": "vhAO1p0ZQXFs"
      }
    },
    {
      "cell_type": "code",
      "source": [
        "abs(resultado[0]-I)"
      ],
      "metadata": {
        "id": "m4ukdm35OE69"
      },
      "execution_count": null,
      "outputs": []
    },
    {
      "cell_type": "markdown",
      "source": [
        "Se a função a ser integrada receber parâmetros adicionais, eles poderão ser fornecidos no argumento *args*.\n",
        "\n",
        "Suponha que a seguinte integral seja calculada:\n",
        "\n",
        "![image.png](data:image/png;base64,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)"
      ],
      "metadata": {
        "id": "-9r-8UV_Qg2c"
      }
    },
    {
      "cell_type": "code",
      "source": [
        "from scipy.integrate import quad\n",
        "def integrand(x, a, b):\n",
        "  return a*x**2 + b\n",
        "\n",
        "a = 2\n",
        "b = 1\n",
        "I = quad(integrand, 0, 1, args=(a,b))\n",
        "I"
      ],
      "metadata": {
        "id": "wW4APa73QjrL"
      },
      "execution_count": null,
      "outputs": []
    },
    {
      "cell_type": "markdown",
      "source": [
        "Entradas infinitas também são permitidas quadusando *inf* como um dos argumentos.\n",
        "\n",
        "Por exemplo, suponha que um valor numérico para a integral exponencial:\n",
        "\n",
        "![image.png](data:image/png;base64,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)"
      ],
      "metadata": {
        "id": "EJ2HMTOkRAYT"
      }
    },
    {
      "cell_type": "code",
      "source": [
        "from scipy.integrate import quad\n",
        "import scipy.special as special\n",
        "\n",
        "def integrand(t, n, x):\n",
        "  return np.exp(-x*t) / t**n\n",
        "\n",
        "def expint(n, x):\n",
        "  return quad(integrand, 1, np.inf, args=(n, x))[0]\n",
        "\n",
        "special.expn(3, np.arange(1.0,4.0,0.5))"
      ],
      "metadata": {
        "id": "DrTClGAdRFfG"
      },
      "execution_count": null,
      "outputs": []
    },
    {
      "cell_type": "markdown",
      "source": [
        "## Integração múltipla geral"
      ],
      "metadata": {
        "id": "LqD8W25XRx3I"
      }
    },
    {
      "cell_type": "markdown",
      "source": [
        "A mecânica para integração dupla e tripla foi incluída nas funções **dblquad** e **tplquad**.\n",
        "\n",
        "Essas funções levam a função para integrar e quatro ou seis argumentos, respectivamente.\n",
        "\n",
        "Os limites de todas as integrais internas precisam ser definidos como funções."
      ],
      "metadata": {
        "id": "XX6XipF2Rz82"
      }
    },
    {
      "cell_type": "markdown",
      "source": [
        "![image.png](data:image/png;base64,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)"
      ],
      "metadata": {
        "id": "s2EcXRJJVaBL"
      }
    },
    {
      "cell_type": "code",
      "source": [
        "from scipy import integrate\n",
        "\n",
        "N = 5\n",
        "def f(t, x):\n",
        "  return np.exp(-x*t) / t**N\n",
        "\n",
        "integrate.nquad(f, [[1, np.inf],[0, np.inf]])"
      ],
      "metadata": {
        "id": "btEPf1u6VeEA"
      },
      "execution_count": null,
      "outputs": []
    },
    {
      "cell_type": "code",
      "source": [
        "from scipy import integrate\n",
        "\n",
        "def f(x, y):\n",
        "    return x*y\n",
        "\n",
        "def bounds_y():\n",
        "    return [0, 0.5]\n",
        "\n",
        "def bounds_x(y):\n",
        "    return [0, 1-2*y]\n",
        "\n",
        "integrate.nquad(f, [bounds_x, bounds_y])"
      ],
      "metadata": {
        "id": "hwcr2vRiWBhJ"
      },
      "execution_count": null,
      "outputs": []
    },
    {
      "cell_type": "markdown",
      "source": [
        "## Integrando usando Samples"
      ],
      "metadata": {
        "id": "8I7Nv-zEY_xe"
      }
    },
    {
      "cell_type": "markdown",
      "source": [
        "Se as amostras estiverem igualmente espaçadas e o número de amostras disponíveis para '2\\*\\*k + 1' para algum inteiro k, então a integração de Romberg **romb** pode ser usada para obter estimativas de alta precisão da integral usando as amostras disponíveis."
      ],
      "metadata": {
        "id": "5juBoI3iZCWq"
      }
    },
    {
      "cell_type": "code",
      "source": [
        "import numpy as np\n",
        "from scipy import integrate\n",
        "\n",
        "def f1(x):\n",
        "   return x**2\n",
        "\n",
        "def f2(x):\n",
        "   return x**3\n",
        "\n",
        "x = np.array([1,3,4])\n",
        "\n",
        "y1 = f1(x)\n",
        "I1 = integrate.simpson(y1, x)\n",
        "print('I1 =',I1)\n",
        "\n",
        "y2 = f2(x)\n",
        "I2 = integrate.simpson(y2, x)\n",
        "print('I2 =',I2)"
      ],
      "metadata": {
        "id": "4erNQCxCZYhw"
      },
      "execution_count": null,
      "outputs": []
    },
    {
      "cell_type": "markdown",
      "source": [
        "# Otimização"
      ],
      "metadata": {
        "id": "rCLZ6XSYbRov"
      }
    },
    {
      "cell_type": "markdown",
      "source": [
        "Buscar a minização da função:\n",
        "\n",
        "![image.png](data:image/png;base64,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)"
      ],
      "metadata": {
        "id": "u6e9YGhKbX8C"
      }
    },
    {
      "cell_type": "markdown",
      "source": [
        "O valor mínimo é conhecido = 0 quando aplicado um vetor X com valores 1."
      ],
      "metadata": {
        "id": "GlSqgifAbn3E"
      }
    },
    {
      "cell_type": "code",
      "source": [
        "import numpy as np\n",
        "from scipy.optimize import minimize\n",
        "\n",
        "def rosen(x):\n",
        "    \"\"\"The Rosenbrock function\"\"\"\n",
        "    return sum(100.0*(x[1:]-x[:-1]**2.0)**2.0 + (1-x[:-1])**2.0)\n",
        "\n",
        "x0 = np.array([1.3, 0.7, 0.8, 1.9, 1.2])\n",
        "res = minimize(rosen, x0, method='nelder-mead',\n",
        "               options={'xatol': 1e-8, 'disp': True})\n",
        "\n",
        "res.x"
      ],
      "metadata": {
        "id": "yZb4N3MnbbSI"
      },
      "execution_count": null,
      "outputs": []
    },
    {
      "cell_type": "markdown",
      "source": [
        "## Otimização Global"
      ],
      "metadata": {
        "id": "flWpWQpOcLEk"
      }
    },
    {
      "cell_type": "markdown",
      "source": [
        "Função teste:"
      ],
      "metadata": {
        "id": "acmNEqgrcdjn"
      }
    },
    {
      "cell_type": "code",
      "source": [
        "import matplotlib.pyplot as plt\n",
        "from mpl_toolkits.mplot3d import Axes3D\n",
        "\n",
        "def eggholder(x):\n",
        "  return (-(x[1] + 47) * np.sin(np.sqrt(abs(x[0]/2 + (x[1]  + 47))))\n",
        "    -x[0] * np.sin(np.sqrt(abs(x[0] - (x[1]  + 47)))))\n",
        "\n",
        "x = np.arange(-512, 513)\n",
        "y = np.arange(-512, 513)\n",
        "xgrid, ygrid = np.meshgrid(x, y)\n",
        "xy = np.stack([xgrid, ygrid])\n",
        "\n",
        "fig = plt.figure()\n",
        "ax = fig.add_subplot(111, projection='3d')\n",
        "ax.view_init(45, -45)\n",
        "ax.plot_surface(xgrid, ygrid, eggholder(xy), cmap='terrain')\n",
        "ax.set_xlabel('x')\n",
        "ax.set_ylabel('y')\n",
        "ax.set_zlabel('eggholder(x, y)')\n",
        "plt.show()"
      ],
      "metadata": {
        "id": "-Wcoq_4PcRgO"
      },
      "execution_count": null,
      "outputs": []
    },
    {
      "cell_type": "markdown",
      "source": [
        "Otimizando função EggHolder:"
      ],
      "metadata": {
        "id": "3utGzLdociwJ"
      }
    },
    {
      "cell_type": "code",
      "source": [
        "from scipy import optimize\n",
        "\n",
        "limites = [(-512, 512), (-512, 512)]\n",
        "\n",
        "optimize.shgo(eggholder, limites)"
      ],
      "metadata": {
        "id": "NsyKKlmIcrCn"
      },
      "execution_count": null,
      "outputs": []
    },
    {
      "cell_type": "code",
      "source": [
        "optimize.dual_annealing(eggholder, limites)"
      ],
      "metadata": {
        "id": "NeMEWhIXc08A"
      },
      "execution_count": null,
      "outputs": []
    },
    {
      "cell_type": "code",
      "source": [
        "optimize.differential_evolution(eggholder, limites)"
      ],
      "metadata": {
        "id": "mrQ_ElvVc6FS"
      },
      "execution_count": null,
      "outputs": []
    },
    {
      "cell_type": "code",
      "source": [
        "optimize.shgo(eggholder, limites, n=200, iters=5, sampling_method='sobol')"
      ],
      "metadata": {
        "id": "YRc7-gxKdEpP"
      },
      "execution_count": null,
      "outputs": []
    },
    {
      "cell_type": "markdown",
      "source": [
        "## Minimização de mínimos quadrados"
      ],
      "metadata": {
        "id": "uyju0hJQdUFn"
      }
    },
    {
      "cell_type": "code",
      "source": [
        "from scipy.optimize import least_squares\n",
        "\n",
        "def model(x, u):\n",
        "  return x[0] * (u ** 2 + x[1] * u) / (u ** 2 + x[2] * u + x[3])\n",
        "\n",
        "def fun(x, u, y):\n",
        "  return model(x, u) - y\n",
        "\n",
        "def jac(x, u, y):\n",
        "  J = np.empty((u.size, x.size))\n",
        "  den = u ** 2 + x[2] * u + x[3]\n",
        "  num = u ** 2 + x[1] * u\n",
        "  J[:, 0] = num / den\n",
        "  J[:, 1] = x[0] * u / den\n",
        "  J[:, 2] = -x[0] * num * u / den ** 2\n",
        "  J[:, 3] = -x[0] * num / den ** 2\n",
        "  return J\n",
        "\n",
        "u = np.array([4.0, 2.0, 1.0, 5.0e-1, 2.5e-1, 1.67e-1, 1.25e-1, 1.0e-1, 8.33e-2, 7.14e-2, 6.25e-2])\n",
        "y = np.array([1.957e-1, 1.947e-1, 1.735e-1, 1.6e-1, 8.44e-2, 6.27e-2, 4.56e-2, 3.42e-2, 3.23e-2, 2.35e-2, 2.46e-2])\n",
        "x0 = np.array([2.5, 3.9, 4.15, 3.9])\n",
        "res = least_squares(fun, x0, jac=jac, bounds=(0, 100), args=(u, y), verbose=1)\n",
        "res.x"
      ],
      "metadata": {
        "id": "-ZA1bDYPdXMw"
      },
      "execution_count": null,
      "outputs": []
    },
    {
      "cell_type": "code",
      "source": [
        "import matplotlib.pyplot as plt\n",
        "u_test = np.linspace(0, 5)\n",
        "y_test = model(res.x, u_test)\n",
        "plt.plot(u, y, 'o', markersize=4, label='dados reais')\n",
        "plt.plot(u_test, y_test, label='dados do modelo')\n",
        "plt.xlabel(\"u\")\n",
        "plt.ylabel(\"y\")\n",
        "plt.legend(loc='lower right')\n",
        "plt.show()"
      ],
      "metadata": {
        "id": "dzpKcH-xdnmE"
      },
      "execution_count": null,
      "outputs": []
    },
    {
      "cell_type": "markdown",
      "source": [
        "# Interpolação"
      ],
      "metadata": {
        "id": "U7dyV5nJd2yZ"
      }
    },
    {
      "cell_type": "markdown",
      "source": [
        "## Interpolação 1-Dimensão"
      ],
      "metadata": {
        "id": "aImP1iYUd5XV"
      }
    },
    {
      "cell_type": "code",
      "source": [
        "from scipy.interpolate import interp1d\n",
        "\n",
        "x = np.linspace(0, 10, num=11, endpoint=True)\n",
        "y = np.cos(-x**2/9.0)\n",
        "f = interp1d(x, y)\n",
        "f2 = interp1d(x, y, kind='cubic')\n",
        "\n",
        "xnew = np.linspace(0, 10, num=41, endpoint=True)\n",
        "\n",
        "import matplotlib.pyplot as plt\n",
        "\n",
        "plt.plot(x, y, 'o', xnew, f(xnew), '-', xnew, f2(xnew), '--')\n",
        "plt.legend(['original', 'linear', 'cúbica'], loc='best')\n",
        "plt.show()"
      ],
      "metadata": {
        "id": "OKo5ZjEFd7hD"
      },
      "execution_count": null,
      "outputs": []
    },
    {
      "cell_type": "code",
      "source": [
        "from scipy.interpolate import interp1d\n",
        "\n",
        "x = np.linspace(0, 10, num=11, endpoint=True)\n",
        "y = np.cos(-x**2/9.0)\n",
        "f1 = interp1d(x, y, kind='nearest')\n",
        "f2 = interp1d(x, y, kind='previous')\n",
        "f3 = interp1d(x, y, kind='next')\n",
        "\n",
        "xnew = np.linspace(0, 10, num=1001, endpoint=True)\n",
        "import matplotlib.pyplot as plt\n",
        "plt.plot(x, y, 'o')\n",
        "plt.plot(xnew, f1(xnew), '-', xnew, f2(xnew), '--', xnew, f3(xnew), ':')\n",
        "plt.legend(['original', 'nearest', 'previous', 'next'], loc='best')\n",
        "plt.show()"
      ],
      "metadata": {
        "id": "e8AxR6aJeIHS"
      },
      "execution_count": null,
      "outputs": []
    },
    {
      "cell_type": "markdown",
      "source": [
        "## Interpolação Multivariada"
      ],
      "metadata": {
        "id": "JPsVU5ydeS4p"
      }
    },
    {
      "cell_type": "code",
      "source": [
        "from scipy.interpolate import griddata\n",
        "\n",
        "def func(x, y):\n",
        "  return x*(1-x)*np.cos(4*np.pi*x) * np.sin(4*np.pi*y**2)**2\n",
        "\n",
        "grid_x, grid_y = np.mgrid[0:1:100j, 0:1:200j]\n",
        "\n",
        "rng = np.random.default_rng()\n",
        "points = rng.random((1000, 2))\n",
        "values = func(points[:,0], points[:,1])\n",
        "\n",
        "from scipy.interpolate import griddata\n",
        "grid_z0 = griddata(points, values, (grid_x, grid_y), method='nearest')\n",
        "grid_z1 = griddata(points, values, (grid_x, grid_y), method='linear')\n",
        "grid_z2 = griddata(points, values, (grid_x, grid_y), method='cubic')\n",
        "\n",
        "import matplotlib.pyplot as plt\n",
        "plt.subplot(221)\n",
        "plt.imshow(func(grid_x, grid_y).T, extent=(0,1,0,1), origin='lower')\n",
        "plt.plot(points[:,0], points[:,1], 'k.', ms=1)\n",
        "plt.title('Original')\n",
        "plt.subplot(222)\n",
        "plt.imshow(grid_z0.T, extent=(0,1,0,1), origin='lower')\n",
        "plt.title('Nearest')\n",
        "plt.subplot(223)\n",
        "plt.imshow(grid_z1.T, extent=(0,1,0,1), origin='lower')\n",
        "plt.title('Linear')\n",
        "plt.subplot(224)\n",
        "plt.imshow(grid_z2.T, extent=(0,1,0,1), origin='lower')\n",
        "plt.title('Cubic')\n",
        "plt.gcf().set_size_inches(6, 6)\n",
        "plt.show()"
      ],
      "metadata": {
        "id": "iB5sqkBHeaem"
      },
      "execution_count": null,
      "outputs": []
    },
    {
      "cell_type": "markdown",
      "source": [
        "## Interpolação Multivariada em Grade"
      ],
      "metadata": {
        "id": "QLRk_TnSenvj"
      }
    },
    {
      "cell_type": "code",
      "source": [
        "import matplotlib.pyplot as plt\n",
        "from scipy.interpolate import RegularGridInterpolator\n",
        "\n",
        "def F(u, v):\n",
        "  return u * np.cos(u * v) + v * np.sin(u * v)\n",
        "\n",
        "fit_points = [np.linspace(0, 3, 8), np.linspace(0, 3, 8)]\n",
        "values = F(*np.meshgrid(*fit_points, indexing='ij'))\n",
        "\n",
        "ut, vt = np.meshgrid(np.linspace(0, 3, 80), np.linspace(0, 3, 80), indexing='ij')\n",
        "true_values = F(ut, vt)\n",
        "test_points = np.array([ut.ravel(), vt.ravel()]).T\n",
        "\n",
        "fig, axes = plt.subplots(1, 2, figsize=(10, 6))\n",
        "axes = axes.ravel()\n",
        "fig_index = 0\n",
        "\n",
        "for method in ['linear', 'nearest']:\n",
        "  interp = RegularGridInterpolator(fit_points, values)\n",
        "  im = interp(test_points, method=method).reshape(80, 80)\n",
        "  axes[fig_index].imshow(im)\n",
        "  axes[fig_index].set_title(method)\n",
        "  axes[fig_index].axis(\"off\")\n",
        "  fig_index += 1\n",
        "\n",
        "fig.tight_layout()\n",
        "fig.show()"
      ],
      "metadata": {
        "id": "ZerpmK67enQj"
      },
      "execution_count": null,
      "outputs": []
    },
    {
      "cell_type": "markdown",
      "source": [
        "# Transformadas Rápidas de Fourier (FFT)"
      ],
      "metadata": {
        "id": "WPQyrXkKf-jJ"
      }
    },
    {
      "cell_type": "markdown",
      "source": [
        "## TF Discretas 1-Dimensão"
      ],
      "metadata": {
        "id": "HKZTIEbagBEJ"
      }
    },
    {
      "cell_type": "code",
      "source": [
        "from scipy.fft import fft, ifft\n",
        "x = np.array([1.0, 2.0, 1.0, -1.0, 1.5])\n",
        "y = fft(x)\n",
        "y"
      ],
      "metadata": {
        "id": "WtB-LYDhgakF"
      },
      "execution_count": null,
      "outputs": []
    },
    {
      "cell_type": "code",
      "source": [
        "from scipy.fft import fft, fftfreq\n",
        "\n",
        "# Number of sample points\n",
        "N = 600\n",
        "\n",
        "# sample spacing\n",
        "T = 1.0 / 800.0\n",
        "x = np.linspace(0.0, N*T, N, endpoint=False)\n",
        "y = np.sin(50.0 * 2.0*np.pi*x) + 0.5*np.sin(80.0 * 2.0*np.pi*x)\n",
        "yf = fft(y)\n",
        "xf = fftfreq(N, T)[:N//2]\n",
        "\n",
        "import matplotlib.pyplot as plt\n",
        "plt.plot(xf, 2.0/N * np.abs(yf[0:N//2]))\n",
        "plt.grid()\n",
        "plt.show()"
      ],
      "metadata": {
        "id": "a70B2lHBgMXE"
      },
      "execution_count": null,
      "outputs": []
    },
    {
      "cell_type": "code",
      "source": [
        "plt.plot(x,y)\n",
        "plt.grid()\n",
        "plt.show()"
      ],
      "metadata": {
        "id": "MIU4i1vM2hDZ"
      },
      "execution_count": null,
      "outputs": []
    },
    {
      "cell_type": "markdown",
      "source": [
        "## FFT Discreta Multidimensional"
      ],
      "metadata": {
        "id": "s8sE7yXPgjaY"
      }
    },
    {
      "cell_type": "code",
      "source": [
        "from scipy.fft import ifftn\n",
        "import matplotlib.pyplot as plt\n",
        "import matplotlib.cm as cm\n",
        "\n",
        "N = 30\n",
        "f, ((ax1, ax2, ax3), (ax4, ax5, ax6)) = plt.subplots(2, 3, sharex='col', sharey='row')\n",
        "xf = np.zeros((N,N))\n",
        "\n",
        "xf[0, 5] = 1\n",
        "xf[0, N-5] = 1\n",
        "Z = ifftn(xf)\n",
        "\n",
        "ax1.imshow(xf, cmap=cm.Reds)\n",
        "ax4.imshow(np.real(Z), cmap=cm.gray)\n",
        "\n",
        "xf = np.zeros((N, N))\n",
        "xf[5, 0] = 1\n",
        "xf[N-5, 0] = 1\n",
        "Z = ifftn(xf)\n",
        "\n",
        "ax2.imshow(xf, cmap=cm.Reds)\n",
        "ax5.imshow(np.real(Z), cmap=cm.gray)\n",
        "\n",
        "xf = np.zeros((N, N))\n",
        "xf[5, 10] = 1\n",
        "xf[N-5, N-10] = 1\n",
        "Z = ifftn(xf)\n",
        "\n",
        "ax3.imshow(xf, cmap=cm.Reds)\n",
        "ax6.imshow(np.real(Z), cmap=cm.gray)\n",
        "plt.show()"
      ],
      "metadata": {
        "id": "C-yW0wWggob1"
      },
      "execution_count": null,
      "outputs": []
    },
    {
      "cell_type": "markdown",
      "source": [
        "## Transformadas Discretas de Cosseno"
      ],
      "metadata": {
        "id": "wcDxTj_Sgz-e"
      }
    },
    {
      "cell_type": "code",
      "source": [
        "from scipy.fft import dct, idct\n",
        "import matplotlib.pyplot as plt\n",
        "\n",
        "N = 100\n",
        "t = np.linspace(0,20,N, endpoint=False)\n",
        "x = np.exp(-t/3)*np.cos(2*t)\n",
        "\n",
        "y = dct(x, norm='ortho')\n",
        "window = np.zeros(N)\n",
        "window[:20] = 1\n",
        "yr = idct(y*window, norm='ortho')\n",
        "plt.plot(t, x, '-bx')\n",
        "plt.plot(t, yr, 'ro')\n",
        "\n",
        "window = np.zeros(N)\n",
        "window[:15] = 1\n",
        "yr = idct(y*window, norm='ortho')\n",
        "plt.plot(t, yr, 'g+')\n",
        "\n",
        "plt.legend(['x', '$x_{20}$', '$x_{15}$'])\n",
        "plt.grid()\n",
        "plt.show()"
      ],
      "metadata": {
        "id": "vDudiyD8g05-"
      },
      "execution_count": null,
      "outputs": []
    },
    {
      "cell_type": "markdown",
      "source": [
        "# Dados Espaciais"
      ],
      "metadata": {
        "id": "0Prc9V_IhW8n"
      }
    },
    {
      "cell_type": "markdown",
      "source": [
        "## Estruturas Convexas"
      ],
      "metadata": {
        "id": "Y_tI7ME0hbUh"
      }
    },
    {
      "cell_type": "code",
      "source": [
        "from scipy.spatial import ConvexHull\n",
        "rng = np.random.default_rng()\n",
        "points = rng.random((30, 2))   # 30 random points in 2-D\n",
        "hull = ConvexHull(points)\n",
        "\n",
        "import matplotlib.pyplot as plt\n",
        "plt.plot(points[:,0], points[:,1], 'o')\n",
        "for simplex in hull.simplices:\n",
        "    plt.plot(points[simplex,0], points[simplex,1], 'k-')\n",
        "plt.show()"
      ],
      "metadata": {
        "id": "5gnjhY6Wha2t"
      },
      "execution_count": null,
      "outputs": []
    },
    {
      "cell_type": "markdown",
      "source": [
        "## Divisão de Espaço Vizinho"
      ],
      "metadata": {
        "id": "0n1MWjg0hn1J"
      }
    },
    {
      "cell_type": "code",
      "source": [
        "from scipy.spatial import KDTree\n",
        "points = np.array([[0, 0], [0, 1], [0, 2], [1, 0], [1, 1], [1, 2],\n",
        "                   [2, 0], [2, 1], [2, 2]])\n",
        "tree = KDTree(points)\n",
        "tree.query([0.1, 0.1])\n",
        "\n",
        "x = np.linspace(-0.5, 2.5, 31)\n",
        "y = np.linspace(-0.5, 2.5, 33)\n",
        "xx, yy = np.meshgrid(x, y)\n",
        "xy = np.c_[xx.ravel(), yy.ravel()]\n",
        "\n",
        "import matplotlib.pyplot as plt\n",
        "dx_half, dy_half = np.diff(x[:2])[0] / 2., np.diff(y[:2])[0] / 2.\n",
        "x_edges = np.concatenate((x - dx_half, [x[-1] + dx_half]))\n",
        "y_edges = np.concatenate((y - dy_half, [y[-1] + dy_half]))\n",
        "plt.pcolormesh(x_edges, y_edges, tree.query(xy)[1].reshape(33, 31), shading='flat')\n",
        "plt.plot(points[:,0], points[:,1], 'ko')\n",
        "plt.show()"
      ],
      "metadata": {
        "id": "uy-eLSgMhrtu"
      },
      "execution_count": null,
      "outputs": []
    },
    {
      "cell_type": "code",
      "source": [
        "import numpy as np\n",
        "from scipy import spatial\n",
        "import matplotlib.pyplot as plt\n",
        "\n",
        "def mandala(n_iter, n_points, radius):\n",
        "  fig = plt.figure(figsize=(10, 10))\n",
        "  ax = fig.add_subplot(111)\n",
        "  ax.set_axis_off()\n",
        "  ax.set_aspect('equal', adjustable='box')\n",
        "\n",
        "  angles = np.linspace(0, 2*np.pi * (1 - 1/n_points), num=n_points) + np.pi/2\n",
        "  xy = np.array([[0, 0]])\n",
        "  for k in range(n_iter):\n",
        "    t1 = np.array([])\n",
        "    t2 = np.array([])\n",
        "    for i in range(xy.shape[0]):\n",
        "      t1 = np.append(t1, xy[i, 0] + radius**k * np.cos(angles))\n",
        "      t2 = np.append(t2, xy[i, 1] + radius**k * np.sin(angles))\n",
        "    xy = np.column_stack((t1, t2))\n",
        "\n",
        "  spatial.voronoi_plot_2d(spatial.Voronoi(xy), ax=ax)\n",
        "  return fig\n",
        "\n",
        "n_iter = 3\n",
        "n_points = 6\n",
        "radius = 4\n",
        "\n",
        "fig = mandala(n_iter, n_points, radius)\n",
        "plt.show()"
      ],
      "metadata": {
        "id": "BSujMwDchzCC"
      },
      "execution_count": null,
      "outputs": []
    },
    {
      "cell_type": "markdown",
      "source": [
        "# Atividades"
      ],
      "metadata": {
        "id": "0TIp2sdX4l6e"
      }
    },
    {
      "cell_type": "markdown",
      "source": [
        "## Otimização"
      ],
      "metadata": {
        "id": "yQ-_oz1s5Efv"
      }
    },
    {
      "cell_type": "markdown",
      "source": [
        "Encontre o valor mínimo da função abaixo com o método 'Nelder Mead':"
      ],
      "metadata": {
        "id": "wsWR1WEb4on7"
      }
    },
    {
      "cell_type": "code",
      "source": [
        "import numpy as np\n",
        "import matplotlib.pyplot as plt\n",
        "\n",
        "def f(x):\n",
        "    return x**2 + 10*np.sin(x)\n",
        "\n",
        "x = np.arange(-10, 10, 0.1)\n",
        "plt.plot(x, f(x))\n",
        "plt.show()"
      ],
      "metadata": {
        "id": "YFjA_XeP42t1"
      },
      "execution_count": null,
      "outputs": []
    },
    {
      "cell_type": "code",
      "source": [
        "from scipy import optimize\n",
        "\n",
        "xi = [10]\n",
        "optimize.minimize(f,xi)"
      ],
      "metadata": {
        "id": "8TDCo3it49Ap"
      },
      "execution_count": null,
      "outputs": []
    },
    {
      "cell_type": "markdown",
      "source": [
        "## Análise de Sinal"
      ],
      "metadata": {
        "id": "1NjMrOLq5OGI"
      }
    },
    {
      "cell_type": "markdown",
      "source": [
        "Sinal Chirp"
      ],
      "metadata": {
        "id": "yeCxAPiW5Qzi"
      }
    },
    {
      "cell_type": "code",
      "source": [
        "import numpy as np\n",
        "import matplotlib.pyplot as plt\n",
        "\n",
        "matr = int(input('Forneça sua matrícula: '))\n",
        "np.random.seed(matr)\n",
        "\n",
        "time_step = .01\n",
        "time_vec = np.arange(0, 70, time_step)\n",
        "\n",
        "# gerador de sinal chirp (sinal no qual a frequência aumenta ou diminui com o tempo)\n",
        "sig = np.sin(0.5 * np.pi * time_vec * (1 + .1 * time_vec))\n",
        "\n",
        "plt.figure(figsize=(8, 5))\n",
        "plt.plot(time_vec, sig)\n",
        "plt.show()"
      ],
      "metadata": {
        "id": "b_1VhnXL5XtX"
      },
      "execution_count": null,
      "outputs": []
    },
    {
      "cell_type": "markdown",
      "source": [
        "Extraia o Espectrograma do sinal Chirp"
      ],
      "metadata": {
        "id": "uZiYEvcC7xCO"
      }
    },
    {
      "cell_type": "code",
      "source": [
        "from scipy.signal import spectrogram\n",
        "\n",
        "frequencias, tempo, espectrograma = spectrogram(time_vec,fs=sig)\n",
        "\n",
        "plt.figure(figsize=(8, 5))\n",
        "plt.imshow(espectrograma, aspect='auto', cmap='hot_r', origin='lower')\n",
        "plt.title('Espectrograma')\n",
        "plt.ylabel('faixa de frequencia')\n",
        "plt.xlabel('Janela de tempo')\n",
        "plt.tight_layout()\n",
        "plt.show()"
      ],
      "metadata": {
        "id": "G6SkOPeO5a2T"
      },
      "execution_count": null,
      "outputs": []
    },
    {
      "cell_type": "markdown",
      "source": [
        "Traçar o PSD (Densidade Espectral de Potência):"
      ],
      "metadata": {
        "id": "4f17-CzK8NHi"
      }
    },
    {
      "cell_type": "code",
      "source": [
        "from scipy.signal import welch\n",
        "\n",
        "freqs, psd = welch()\n",
        "\n",
        "plt.figure(figsize=(8, 5))\n",
        "plt.semilogx(freqs, psd)\n",
        "plt.title('PSD')\n",
        "plt.xlabel('Frequencia')\n",
        "plt.ylabel('Potência')\n",
        "plt.tight_layout()\n",
        "plt.show()"
      ],
      "metadata": {
        "id": "HlrrJ9lp8VHw"
      },
      "execution_count": null,
      "outputs": []
    },
    {
      "cell_type": "markdown",
      "source": [
        "## Aproximação de Funções"
      ],
      "metadata": {
        "id": "Gi6-RsF98msw"
      }
    },
    {
      "cell_type": "code",
      "source": [
        "import numpy as np\n",
        "import matplotlib.pyplot as plt\n",
        "\n",
        "np.random.seed(matr)\n",
        "\n",
        "x_data = np.linspace(-5, 5, num=50)\n",
        "y_data = 2.9 * np.sin(1.5 * x_data) + np.random.normal(size=50)\n",
        "\n",
        "plt.figure(figsize=(8, 5))\n",
        "plt.scatter(x_data, y_data)\n",
        "plt.show()"
      ],
      "metadata": {
        "id": "cnQhJPLM8pza"
      },
      "execution_count": null,
      "outputs": []
    },
    {
      "cell_type": "code",
      "source": [
        "from scipy.optimize import curve_fit\n",
        "\n",
        "def func_aprox(x, a, b):\n",
        "    return a * np.sin(b * x)\n",
        "\n",
        "params, params_covariance = curve_fit(func_aprox,x_data,y_data)\n",
        "\n",
        "\n",
        "plt.figure(figsize=(8, 5))\n",
        "plt.scatter(x_data, y_data, label='Dados')\n",
        "plt.plot(x_data, func_aprox(x_data, params[0], params[1]), label='Função ajustada')\n",
        "plt.legend(loc='best')\n",
        "plt.show()"
      ],
      "metadata": {
        "id": "7SdHSutM8zNT"
      },
      "execution_count": null,
      "outputs": []
    }
  ]
}