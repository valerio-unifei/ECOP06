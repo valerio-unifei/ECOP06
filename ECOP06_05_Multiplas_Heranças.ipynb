{
  "nbformat": 4,
  "nbformat_minor": 0,
  "metadata": {
    "colab": {
      "provenance": [],
      "authorship_tag": "ABX9TyMhUiNA6C9uNR3VMJIbZiUU",
      "include_colab_link": true
    },
    "kernelspec": {
      "name": "python3",
      "display_name": "Python 3"
    },
    "language_info": {
      "name": "python"
    }
  },
  "cells": [
    {
      "cell_type": "markdown",
      "metadata": {
        "id": "view-in-github",
        "colab_type": "text"
      },
      "source": [
        "<a href=\"https://colab.research.google.com/github/valerio-unifei/ECOP06/blob/main/ECOP06_05_Multiplas_Heran%C3%A7as.ipynb\" target=\"_parent\"><img src=\"https://colab.research.google.com/assets/colab-badge.svg\" alt=\"Open In Colab\"/></a>"
      ]
    },
    {
      "cell_type": "markdown",
      "source": [
        "# Herança Múltipla"
      ],
      "metadata": {
        "id": "OkmYsXUFU51N"
      }
    },
    {
      "cell_type": "markdown",
      "source": [
        "Uma classe pode ser derivada de mais de uma classe base em Python, semelhante a C++. Isso é chamado de herança múltipla.\n",
        "\n",
        "Na herança múltipla, os recursos de todas as classes base são herdados na classe derivada. A sintaxe para herança múltipla é semelhante à herança única."
      ],
      "metadata": {
        "id": "46zHD1OCfJ2t"
      }
    },
    {
      "cell_type": "code",
      "source": [
        "class Classe1:\n",
        "  def metodo1(self):\n",
        "    print('metodo1')\n",
        "\n",
        "class Classe2:\n",
        "  def metodo2(self):\n",
        "    print('metodo2')\n",
        "\n",
        "class ClasseDerivada(Classe1, Classe2):\n",
        "    pass\n",
        "\n",
        "# Crie um objeto da ClasseDerivada e chame os métodos \"metodo1\" e \"metodo2\"\n"
      ],
      "metadata": {
        "id": "82R_dYbqfJe7"
      },
      "execution_count": null,
      "outputs": []
    },
    {
      "cell_type": "markdown",
      "source": [
        "## Problemas"
      ],
      "metadata": {
        "id": "4AOHwMACguB2"
      }
    },
    {
      "cell_type": "markdown",
      "source": [
        "A herança múltipla tem uma má reputação na medida em que a maioria das linguagens de programação modernas não a suporta.\n",
        "\n",
        "Em vez disso, as linguagens de programação modernas suportam o conceito de interfaces.\n",
        "\n",
        "Nessas linguagens, você herda de uma única classe base e depois implementa várias interfaces, para que sua classe possa ser reutilizada em diferentes situações."
      ],
      "metadata": {
        "id": "zFmf90hFgRM0"
      }
    },
    {
      "cell_type": "code",
      "execution_count": null,
      "metadata": {
        "id": "W9Hxxmv6UzI-"
      },
      "outputs": [],
      "source": [
        "# Classes Iniciais de pagamento\n",
        "class Employee:\n",
        "  def __init__(self, id, name):\n",
        "    self.id = id\n",
        "    self.name = name\n",
        "  def calculate_payroll(self):\n",
        "    pass\n",
        "\n",
        "class SalaryEmployee(Employee):\n",
        "  def __init__(self, id, name, weekly_salary):\n",
        "    super().__init__(id, name)\n",
        "    self.weekly_salary = weekly_salary\n",
        "  def calculate_payroll(self):\n",
        "    return self.weekly_salary\n",
        "\n",
        "class HourlyEmployee(Employee):\n",
        "  def __init__(self, id, name, hours_worked, hour_rate):\n",
        "    super().__init__(id, name)\n",
        "    self.hours_worked = hours_worked\n",
        "    self.hour_rate = hour_rate\n",
        "  def calculate_payroll(self):\n",
        "    return self.hours_worked * self.hour_rate\n",
        "\n",
        "class CommissionEmployee(SalaryEmployee):\n",
        "  def __init__(self, id, name, weekly_salary, commission):\n",
        "    super().__init__(id, name, weekly_salary)\n",
        "    self.commission = commission\n",
        "  def calculate_payroll(self):\n",
        "    fixed = super().calculate_payroll()\n",
        "    return fixed + self.commission\n",
        "\n",
        "empregados = [\n",
        "    SalaryEmployee(1, 'John Smith', 1500),\n",
        "    HourlyEmployee(2, 'Jane Doe', 40, 15),\n",
        "    CommissionEmployee(3, 'Kevin Bacon', 1000, 250),\n",
        "    ]\n",
        "\n",
        "for em in empregados:\n",
        "  print('Empregado: {0} Salário: US$ {1:0,.2f}'.format(em.name,em.calculate_payroll()))"
      ]
    },
    {
      "cell_type": "markdown",
      "source": [
        "Inserindo mais classes derivadas:"
      ],
      "metadata": {
        "id": "dVatOt06nmgw"
      }
    },
    {
      "cell_type": "code",
      "source": [
        "class Manager(SalaryEmployee):\n",
        "  def work(self, hours):\n",
        "    print(f'{self.name} screams and yells for {hours} hours.')\n",
        "\n",
        "class Secretary(SalaryEmployee):\n",
        "  def work(self, hours):\n",
        "    print(f'{self.name} expends {hours} hours doing office paperwork.')\n",
        "\n",
        "class SalesPerson(CommissionEmployee):\n",
        "  def work(self, hours):\n",
        "    print(f'{self.name} expends {hours} hours on the phone.')\n",
        "\n",
        "class FactoryWorker(HourlyEmployee):\n",
        "  def work(self, hours):\n",
        "    print(f'{self.name} manufactures gadgets for {hours} hours.')\n",
        "\n",
        "class ProductivitySystem:\n",
        "  def track(self, employees, hours):\n",
        "    print('Tracking Employee Productivity')\n",
        "    print('==============================')\n",
        "    for employee in employees:\n",
        "        employee.work(hours)\n",
        "    print('')\n",
        "\n",
        "class PayrollSystem:\n",
        "  def calculate_payroll(self, employees):\n",
        "    print('Calculating Payroll')\n",
        "    print('===================')\n",
        "    for employee in employees:\n",
        "      print('Empregado: {0} Salário: US$ {1:0,.2f}'.format(\n",
        "          employee.name,\n",
        "          employee.calculate_payroll(),\n",
        "          ))\n",
        "\n",
        "empregados = [\n",
        "    Manager(1, 'John Smith', 1500),\n",
        "    Secretary(2, 'Jane Doe', 1500),\n",
        "    SalesPerson(3, 'Kevin Bacon', 1000, 250),\n",
        "    FactoryWorker(2, 'Jane Doe', 40, 15),\n",
        "    ]\n",
        "\n",
        "ps = ProductivitySystem()\n",
        "ps.track(empregados,44)\n",
        "rs = PayrollSystem()\n",
        "rs.calculate_payroll(empregados)"
      ],
      "metadata": {
        "id": "clO_WcJ-lZ0e"
      },
      "execution_count": null,
      "outputs": []
    },
    {
      "cell_type": "markdown",
      "source": [
        "<img src=\"https://files.realpython.com/media/ic-class-explosion.a3d42b8c9b91.jpg\">"
      ],
      "metadata": {
        "id": "_qDvzIvwnN28"
      }
    },
    {
      "cell_type": "code",
      "source": [
        "class TemporarySecretary(Secretary, HourlyEmployee):\n",
        "    def __init__(self, id, name, hours_worked, hour_rate):\n",
        "        super().__init__(id, name, hours_worked, hour_rate)\n",
        "\n",
        "empregados = [\n",
        "    Manager(1, 'John Smith', 1500),\n",
        "    Secretary(2, 'Jane Doe', 1500),\n",
        "    SalesPerson(3, 'Kevin Bacon', 1000, 250),\n",
        "    FactoryWorker(2, 'Jane Doe', 40, 15),\n",
        "    TemporarySecretary(5, 'Robin Williams', 40, 9),\n",
        "    ]\n",
        "\n",
        "ps = ProductivitySystem()\n",
        "ps.track(empregados,44)\n",
        "rs = PayrollSystem()\n",
        "rs.calculate_payroll(empregados)"
      ],
      "metadata": {
        "id": "xHlp7b7oksaF"
      },
      "execution_count": null,
      "outputs": []
    },
    {
      "cell_type": "markdown",
      "source": [
        "Invertendo heranças:"
      ],
      "metadata": {
        "id": "2wbKf0WSoDjr"
      }
    },
    {
      "cell_type": "code",
      "source": [],
      "metadata": {
        "id": "tLBaXH1goDBb"
      },
      "execution_count": null,
      "outputs": []
    },
    {
      "cell_type": "markdown",
      "source": [
        "Analisando heranças:"
      ],
      "metadata": {
        "id": "45zYa_enoa2j"
      }
    },
    {
      "cell_type": "code",
      "source": [
        "TemporarySecretary.__mro__"
      ],
      "metadata": {
        "id": "JR2f7-6tohqN"
      },
      "execution_count": null,
      "outputs": []
    },
    {
      "cell_type": "markdown",
      "source": [
        "Forçando o construtor na classe \"HourlyEmployee\""
      ],
      "metadata": {
        "id": "LxQQZgqdomFA"
      }
    },
    {
      "cell_type": "code",
      "source": [],
      "metadata": {
        "id": "cqO5dbJ-o1Hu"
      },
      "execution_count": null,
      "outputs": []
    },
    {
      "cell_type": "markdown",
      "source": [
        "Sobreescrevando o método \"calculate_payroll\" e usando classe \"HourlyEmployee\""
      ],
      "metadata": {
        "id": "r0-u5meho27B"
      }
    },
    {
      "cell_type": "code",
      "source": [],
      "metadata": {
        "id": "qrLTzM27pSKP"
      },
      "execution_count": null,
      "outputs": []
    },
    {
      "cell_type": "markdown",
      "source": [
        "Destaque para o [Problema do Diamante!](https://en.wikipedia.org/wiki/Multiple_inheritance#The_diamond_problem)\n",
        "\n",
        "<img src=\"https://files.realpython.com/media/ic-diamond-problem.8e685f12d3c2.jpg\">"
      ],
      "metadata": {
        "id": "6uPMRYJPpc2u"
      }
    },
    {
      "cell_type": "markdown",
      "source": [
        "# Aplicação Prática"
      ],
      "metadata": {
        "id": "euexBEcjNyiv"
      }
    },
    {
      "cell_type": "markdown",
      "source": [
        "<img src=\"https://www.novus.com.br/blog/wp-content/uploads/2020/06/2-1.jpg\">"
      ],
      "metadata": {
        "id": "FvX3TnPqY2LH"
      }
    },
    {
      "cell_type": "code",
      "source": [
        "class Aquecedor:\n",
        "  \"\"\"Aquecedor de água\"\"\"\n",
        "  def __init__(self, temp_ambiente=20, intervalo_segundos=0.5):\n",
        "    self._temp = temp_ambiente\n",
        "    self._dt = intervalo_segundos\n",
        "    self._mv = 0\n",
        "  @property\n",
        "  def MV(self):\n",
        "    return self._mv\n",
        "  @MV.setter\n",
        "  def MV(self, valor):\n",
        "    self._mv = valor\n",
        "    self._temp += self._mv * self._dt\n",
        "  @property\n",
        "  def PV(self):\n",
        "    return self._temp\n",
        "\n",
        "class ControladorP:\n",
        "  \"\"\"Controlador apenas com Proporcional\"\"\"\n",
        "  def __init__(self, Kp, SP, limites_saida=(-100,100)):\n",
        "    self._proporcional = Kp\n",
        "    self.SP = SP\n",
        "    self.limites_saida = limites_saida\n",
        "  def __corte(self, valor):\n",
        "    minimo, maximo = self.limites_saida\n",
        "    return min(max(valor, minimo), maximo)\n",
        "  def MV(self,PV):\n",
        "    erro = self.SP - PV\n",
        "    mv = self._proporcional * erro\n",
        "    return self.__corte(mv)"
      ],
      "metadata": {
        "id": "kVDv-RJuZcv-"
      },
      "execution_count": null,
      "outputs": []
    },
    {
      "cell_type": "markdown",
      "source": [
        "Controlando o aquecedor pelo sistema Proporcional:"
      ],
      "metadata": {
        "id": "69iRHyoH7z3S"
      }
    },
    {
      "cell_type": "code",
      "source": [
        "import matplotlib.pyplot as plt\n",
        "plt.rcParams[\"figure.figsize\"] = (15,10)\n",
        "\n",
        "processo = Aquecedor(temp_ambiente=15)\n",
        "controle = ControladorP(Kp=0.1,SP=25)\n",
        "\n",
        "sp,x,y = [],[],[]\n",
        "\n",
        "for i in range(200):\n",
        "  t = i/2\n",
        "  x.append(t)\n",
        "  y.append(processo.PV)\n",
        "  sp.append(controle.SP)\n",
        "\n",
        "  mv = controle.MV(processo.PV)\n",
        "  processo.MV = mv\n",
        "  if t > 50:\n",
        "    controle.SP = 40\n",
        "\n",
        "plt.plot(x, y, label='medida')\n",
        "plt.plot(x, sp, label='desejado')\n",
        "plt.xlabel('tempo')\n",
        "plt.ylabel('temperatura')\n",
        "plt.legend()\n",
        "_ = plt.show()"
      ],
      "metadata": {
        "id": "A14jvDFa5Hnh"
      },
      "execution_count": null,
      "outputs": []
    },
    {
      "cell_type": "markdown",
      "source": [
        "Usando a ideia da biblioteca: [Simple-PID](https://github.com/m-lundberg/simple-pid)"
      ],
      "metadata": {
        "id": "DuIDxonH413u"
      }
    },
    {
      "cell_type": "code",
      "source": [
        "# Implemente um controlado PI herdado de \"ControladorP\"\n",
        "\n",
        "class ControladorPI(ControladorP):\n",
        "  pass\n",
        "\n"
      ],
      "metadata": {
        "id": "uGyR1LHe47MD"
      },
      "execution_count": null,
      "outputs": []
    }
  ]
}