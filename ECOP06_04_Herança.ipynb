{
  "nbformat": 4,
  "nbformat_minor": 0,
  "metadata": {
    "colab": {
      "provenance": [],
      "authorship_tag": "ABX9TyML8GaIkZSOJIFlKrIEoC5p",
      "include_colab_link": true
    },
    "kernelspec": {
      "name": "python3",
      "display_name": "Python 3"
    },
    "language_info": {
      "name": "python"
    }
  },
  "cells": [
    {
      "cell_type": "markdown",
      "metadata": {
        "id": "view-in-github",
        "colab_type": "text"
      },
      "source": [
        "<a href=\"https://colab.research.google.com/github/valerio-unifei/ECOP06/blob/main/ECOP06_04_Heran%C3%A7a.ipynb\" target=\"_parent\"><img src=\"https://colab.research.google.com/assets/colab-badge.svg\" alt=\"Open In Colab\"/></a>"
      ]
    },
    {
      "cell_type": "markdown",
      "source": [
        "# Herança de Classes"
      ],
      "metadata": {
        "id": "-CVNDpsxUc5l"
      }
    },
    {
      "cell_type": "markdown",
      "source": [
        "[Documentação](https://www.geeksforgeeks.org/inheritance-in-python/)\n",
        "\n",
        "[Oficial](https://docs.python.org/pt-br/3.8/tutorial/classes.html)\n",
        "\n",
        "Herança é a capacidade de uma classe derivar ou herdar as propriedades de outra classe.\n",
        "\n",
        "Os benefícios da herança são:\n",
        "- Representa bem os relacionamentos do mundo real.\n",
        "- Ele fornece a reutilização de um código. Não temos que escrever o mesmo código repetidamente. Além disso, permite adicionar mais recursos a uma classe sem modificá-la.\n",
        "- É de natureza transitiva, o que significa que, se a classe B herdar de outra classe A, todas as subclasses de B herdarão automaticamente da classe A."
      ],
      "metadata": {
        "id": "0BF183xGUhDX"
      }
    },
    {
      "cell_type": "markdown",
      "source": [
        "## Exemplo sem herança"
      ],
      "metadata": {
        "id": "2ZK23ZAXOYM3"
      }
    },
    {
      "cell_type": "code",
      "source": [
        "class Pessoa:\n",
        "  def __init__(self, nome, cpf, endereco):\n",
        "    self.nome = nome\n",
        "    self.cpf = cpf\n",
        "    self.endereco = endereco\n",
        "\n",
        "class Aluno:\n",
        "  def __init__(self, nome, cpf, endereco, matricula, curso):\n",
        "    self.nome = nome\n",
        "    self.cpf = cpf\n",
        "    self.endereco = endereco\n",
        "    self.matricula = matricula\n",
        "    self.curso = curso\n",
        "\n",
        "class Docente:\n",
        "  def __init__(self, nome, cpf, endereco, siape, instituto):\n",
        "    self.nome = nome\n",
        "    self.cpf = cpf\n",
        "    self.endereco = endereco\n",
        "    self.siape = siape\n",
        "    self.instituto = instituto\n",
        "\n",
        "p1 = Pessoa('Carlos','1112223344','Av BPS 1303')\n",
        "a1 = Aluno('Carlos','1112223344','Av BPS 1303','8867','Elétrica')\n",
        "d1 = Docente('Carlos','1112223344','Av BPS 1303','142515','IESTI')\n",
        "print(p1.__dict__)\n",
        "print(a1.__dict__)\n",
        "print(d1.__dict__)"
      ],
      "metadata": {
        "id": "DA9GGcqNJXo8"
      },
      "execution_count": null,
      "outputs": []
    },
    {
      "cell_type": "markdown",
      "source": [
        "# Herança Simples"
      ],
      "metadata": {
        "id": "WCz5IZpVV_Z0"
      }
    },
    {
      "cell_type": "markdown",
      "source": [
        "## Classe Herdada"
      ],
      "metadata": {
        "id": "2dC0Lau3Uzu1"
      }
    },
    {
      "cell_type": "code",
      "source": [
        "class Aluno(Pessoa):\n",
        "  def __init__(self, nome, cpf, endereco, matricula, curso):\n",
        "    pass\n",
        "\n",
        "class Docente(Pessoa):\n",
        "  def __init__(self, nome, cpf, endereco, siape, instituto):\n",
        "    pass\n",
        "\n",
        "a1 = Aluno('Carlos','1112223344','Av BPS 1303','8867','Elétrica')\n",
        "d1 = Docente('Carlos','1112223344','Av BPS 1303','142515','IESTI')\n",
        "print(a1.__dict__)\n",
        "print(d1.__dict__)"
      ],
      "metadata": {
        "id": "S4_W2uYCNj6G"
      },
      "execution_count": null,
      "outputs": []
    },
    {
      "cell_type": "markdown",
      "source": [
        "### Reescrita de Métodos"
      ],
      "metadata": {
        "id": "HZt-KBtUOimS"
      }
    },
    {
      "cell_type": "code",
      "source": [
        "class Veiculo:\n",
        "  def __init__(self, nome, rodas):\n",
        "    self.nome = nome\n",
        "    self.rodas = rodas\n",
        "  def info(self):\n",
        "    return f'Veículo base: {self.nome} Rodas:{self.rodas}'\n",
        "\n",
        "v1 = Veiculo('Bicicleta',2)\n",
        "v1.info()"
      ],
      "metadata": {
        "id": "PkGi00cYOlB5"
      },
      "execution_count": null,
      "outputs": []
    },
    {
      "cell_type": "code",
      "source": [
        "class Carro(Veiculo):\n",
        "  def __init__(self, nome):\n",
        "    super().__init__(nome,4)\n",
        "\n",
        "c1 = Carro('Fiesta')\n",
        "c1.info()"
      ],
      "metadata": {
        "id": "DBatlDaFlLnf"
      },
      "execution_count": null,
      "outputs": []
    },
    {
      "cell_type": "code",
      "source": [
        "class Carro(Veiculo):\n",
        "  def __init__(self, nome):\n",
        "    super().__init__(nome,4)\n",
        "  def info(self):\n",
        "    return super().info()\n",
        "\n",
        "c1 = Carro('Fiesta')\n",
        "c1.info()"
      ],
      "metadata": {
        "id": "L538lJO-qrEl"
      },
      "execution_count": null,
      "outputs": []
    },
    {
      "cell_type": "markdown",
      "source": [
        "# Polimorfismo"
      ],
      "metadata": {
        "id": "JC522rhgq7TH"
      }
    },
    {
      "cell_type": "code",
      "source": [
        "class RelatorioVeiculos:\n",
        "  def __init__(self, cabecalho):\n",
        "    self.cabecalho = cabecalho\n",
        "    self.veiculos = []\n",
        "\n",
        "  def adiciona(self, veiculo:Veiculo):\n",
        "    self.veiculos.append(veiculo)\n",
        "\n",
        "  def gerar(self):\n",
        "    pass\n",
        "\n"
      ],
      "metadata": {
        "id": "kgD-EtRnrLKi"
      },
      "execution_count": null,
      "outputs": []
    },
    {
      "cell_type": "markdown",
      "source": [
        "## Duck Typing"
      ],
      "metadata": {
        "id": "VDU789NOt7ec"
      }
    },
    {
      "cell_type": "markdown",
      "source": [
        "Duck typing é um estilo de codificação de linguagens dinamicamente tipadas onde o tipo de uma variável não importa, contanto que seu comportamento seja o desejado.\n",
        "\n",
        "O nome \"tipagem de pato\" vem da expressão \"se anda como pato, nada como um pato e faz quack como um pato, então provavelmente é um pato\"."
      ],
      "metadata": {
        "id": "2NlaSE2buorI"
      }
    },
    {
      "cell_type": "code",
      "source": [
        "class Pato:\n",
        "  def __init__(self):\n",
        "    pass\n",
        "  def\tgrasna(self):\n",
        "    return 'quack!'\n",
        "\n",
        "class Ganso:\n",
        "  def __init__(self):\n",
        "    pass\n",
        "  def\tgrasna(self):\n",
        "    return 'quack!'\n",
        "\n",
        "pato = Pato()\n",
        "print(pato.grasna())\n",
        "ganso = Ganso()\n",
        "print(ganso.grasna())"
      ],
      "metadata": {
        "id": "zcLapCDyuB_V"
      },
      "execution_count": null,
      "outputs": []
    },
    {
      "cell_type": "code",
      "source": [
        "animais = [Pato(),Ganso(),Pato(),Ganso(),Ganso(),Pato(),Pato(),Ganso(),Pato()]\n",
        "for a in animais:\n",
        "  print(a.grasna())"
      ],
      "metadata": {
        "id": "FTv48MCouYiN"
      },
      "execution_count": null,
      "outputs": []
    },
    {
      "cell_type": "markdown",
      "source": [
        "# Atividade"
      ],
      "metadata": {
        "id": "fLo05W9SwEvj"
      }
    },
    {
      "cell_type": "markdown",
      "source": [
        "Crie duas subclasses da classe Conta: ContaCorrente e ContaPoupanca.\n",
        "Ambas terão o método atualiza() reescrito:\n",
        "- a ContaCorrente deve atualizar-se com o dobro da taxa\n",
        "- a ContaPoupanca deve atualizar-se com o triplo da taxa.\n",
        "\n",
        "Além disso, a ContaCorrente deve reescrever o método deposita() a fim de retirar uma taxa bancária de dez centavos de cada depósito."
      ],
      "metadata": {
        "id": "CIVGrfhkwGfZ"
      }
    },
    {
      "cell_type": "code",
      "source": [],
      "metadata": {
        "id": "-8jrJtfwwxJN"
      },
      "execution_count": null,
      "outputs": []
    },
    {
      "cell_type": "markdown",
      "source": [
        "# Classe Abstrata"
      ],
      "metadata": {
        "id": "qMYpFCjCw6Y8"
      }
    },
    {
      "cell_type": "code",
      "source": [
        "import abc # Abstract Base Classes\n",
        "\n",
        "class Veiculo(abc.ABC):\n",
        "\n",
        "  @abc.abstractmethod\n",
        "  def info(self):\n",
        "    pass\n",
        "\n",
        "v = Veiculo()"
      ],
      "metadata": {
        "id": "RMvBMa6bxTlr"
      },
      "execution_count": null,
      "outputs": []
    },
    {
      "cell_type": "code",
      "source": [
        "class Carro(Veiculo):\n",
        "\n",
        "  def info(self):\n",
        "    pass\n",
        "\n",
        "c = Carro()"
      ],
      "metadata": {
        "id": "Xpsfd4AQzyW2"
      },
      "execution_count": null,
      "outputs": []
    },
    {
      "cell_type": "markdown",
      "source": [
        "# Atividade"
      ],
      "metadata": {
        "id": "_Waau2bvz-WR"
      }
    },
    {
      "cell_type": "markdown",
      "source": [
        "Modifique a classe Conta para abstrata e reescreva as subclasses:"
      ],
      "metadata": {
        "id": "Lh8rpGDJ0Akc"
      }
    },
    {
      "cell_type": "code",
      "source": [],
      "metadata": {
        "id": "YasoPp3Fz_9c"
      },
      "execution_count": null,
      "outputs": []
    }
  ]
}