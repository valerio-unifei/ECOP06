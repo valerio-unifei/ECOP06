{
  "nbformat": 4,
  "nbformat_minor": 0,
  "metadata": {
    "colab": {
      "provenance": [],
      "toc_visible": true,
      "authorship_tag": "ABX9TyPS3Y4YOKEmtgKMYk3N8+AN",
      "include_colab_link": true
    },
    "kernelspec": {
      "name": "python3",
      "display_name": "Python 3"
    },
    "language_info": {
      "name": "python"
    }
  },
  "cells": [
    {
      "cell_type": "markdown",
      "metadata": {
        "id": "view-in-github",
        "colab_type": "text"
      },
      "source": [
        "<a href=\"https://colab.research.google.com/github/valerio-unifei/ECOP06/blob/main/ECOP06_22_%C3%81rvore_Bin%C3%A1ria.ipynb\" target=\"_parent\"><img src=\"https://colab.research.google.com/assets/colab-badge.svg\" alt=\"Open In Colab\"/></a>"
      ]
    },
    {
      "cell_type": "markdown",
      "source": [
        "# Árvore Binária de Busca (ou Busca Binária)"
      ],
      "metadata": {
        "id": "9bXthVxWEcid"
      }
    },
    {
      "cell_type": "markdown",
      "source": [
        "Baseado em:\n",
        "\n",
        "<a href=\"https://realpython.com/binary-search-python/\"><img src=\"https://files.realpython.com/media/How-to-Do-a-Binary-Search-in-Python_Watermarked.e44b17443dd2.jpg\"></a>"
      ],
      "metadata": {
        "id": "CVA5age8hkEu"
      }
    },
    {
      "cell_type": "markdown",
      "source": [
        "Uma árvore binária é uma estrutura de dados caracterizada por um elemento distinto, denominado raiz, com dois ponteiros para duas estruturas diferentes, denominadas subárvore esquerda e subárvore direita.\n",
        "\n",
        "A definição é recursiva e devido a isso, muitas operações sobre árvores binárias utilizam recursão.\n",
        "\n",
        "É o tipo de árvore mais utilizado na computação.\n",
        "\n",
        "A principal utilização de árvores binárias são as árvores binárias de busca (*Binary Search Tree* - BST)."
      ],
      "metadata": {
        "id": "9IjavoVzEqx1"
      }
    },
    {
      "cell_type": "markdown",
      "source": [
        "# Avaliação das Buscas Binárias"
      ],
      "metadata": {
        "id": "hkGiKcOnFNQ1"
      }
    },
    {
      "cell_type": "markdown",
      "source": [
        "## Base de Dados"
      ],
      "metadata": {
        "id": "RTDicjA3FQoN"
      }
    },
    {
      "cell_type": "code",
      "source": [
        "import random\n",
        "random.seed(42)\n",
        "# gerando valores\n",
        "valores = list(range(200,100_000))\n",
        "# desordenando balores\n",
        "random.shuffle(valores)\n",
        "\n",
        "valores[:10]"
      ],
      "metadata": {
        "id": "nGtaCfNCF9-K"
      },
      "execution_count": null,
      "outputs": []
    },
    {
      "cell_type": "markdown",
      "source": [
        "## Métodos de Busca"
      ],
      "metadata": {
        "id": "_wDIKt2pGHhE"
      }
    },
    {
      "cell_type": "markdown",
      "source": [
        "### Aleatório"
      ],
      "metadata": {
        "id": "tnmE98_iJxAG"
      }
    },
    {
      "cell_type": "code",
      "source": [
        "def busca_aleatoria(itens, procurado):\n",
        "  random.seed(42)\n",
        "  while True:\n",
        "    elemento_aleatorio = random.choice(itens)\n",
        "    if elemento_aleatorio == procurado:\n",
        "      return elemento_aleatorio\n",
        "\n",
        "busca_aleatoria(valores,500)"
      ],
      "metadata": {
        "id": "Hgd_39lzGJWh"
      },
      "execution_count": null,
      "outputs": []
    },
    {
      "cell_type": "code",
      "source": [
        "import timeit\n",
        "\n",
        "timeit.timeit(lambda: busca_aleatoria(valores,500), number=100)"
      ],
      "metadata": {
        "id": "uFR6Cx-OHsKn"
      },
      "execution_count": null,
      "outputs": []
    },
    {
      "cell_type": "markdown",
      "source": [
        "### Linear"
      ],
      "metadata": {
        "id": "xN3tdjqNJzgW"
      }
    },
    {
      "cell_type": "code",
      "source": [
        "def busca_linear(itens, procurado):\n",
        "  for valor in itens:\n",
        "    if valor == procurado:\n",
        "      return valor\n",
        "\n",
        "busca_linear(valores,500)"
      ],
      "metadata": {
        "id": "A5aRWtGKH3Hy"
      },
      "execution_count": null,
      "outputs": []
    },
    {
      "cell_type": "code",
      "source": [
        "timeit.timeit(lambda: busca_linear(valores,500), number=100)"
      ],
      "metadata": {
        "id": "ADnsJcPbJenK"
      },
      "execution_count": null,
      "outputs": []
    },
    {
      "cell_type": "markdown",
      "source": [
        "### Ordenada"
      ],
      "metadata": {
        "id": "GDnmvGAAJ1c-"
      }
    },
    {
      "cell_type": "markdown",
      "source": [
        "https://docs.python.org/3.8/library/bisect.html"
      ],
      "metadata": {
        "id": "GSUM6sNHK2Bm"
      }
    },
    {
      "cell_type": "code",
      "source": [
        "import bisect\n",
        "\n",
        "def busca_ordenada(itens, procurado):\n",
        "  indice = bisect.bisect_left(itens,procurado)\n",
        "  return itens[indice]\n",
        "\n",
        "busca_ordenada(sorted(valores),500)"
      ],
      "metadata": {
        "id": "iatBsol3Kozc"
      },
      "execution_count": null,
      "outputs": []
    },
    {
      "cell_type": "code",
      "source": [
        "timeit.timeit(lambda: busca_ordenada(sorted(valores),500), number=100)"
      ],
      "metadata": {
        "id": "z7oRztIdggSV"
      },
      "execution_count": null,
      "outputs": []
    },
    {
      "cell_type": "code",
      "source": [
        "ordenado = sorted(valores)\n",
        "timeit.timeit(lambda: busca_ordenada(ordenado,500), number=100)"
      ],
      "metadata": {
        "id": "SsqrGCrzgmDe"
      },
      "execution_count": null,
      "outputs": []
    },
    {
      "cell_type": "markdown",
      "source": [
        "# Montando Listas Indexadas"
      ],
      "metadata": {
        "id": "I9ywwsHwiR4z"
      }
    },
    {
      "cell_type": "code",
      "source": [
        "import string\n",
        "\n",
        "def gera_texto():\n",
        "  letras = string.ascii_letters + string.digits\n",
        "  return ''.join(random.choice(letras) for i in range(10))\n",
        "\n",
        "gera_texto()"
      ],
      "metadata": {
        "id": "qXqWu7Gjh1UW"
      },
      "execution_count": null,
      "outputs": []
    },
    {
      "cell_type": "code",
      "source": [
        "random.seed(42)\n",
        "textos = [gera_texto() for _ in range(5)]\n",
        "textos"
      ],
      "metadata": {
        "id": "PnnIeU24jS-V"
      },
      "execution_count": null,
      "outputs": []
    },
    {
      "cell_type": "code",
      "source": [
        "indexado = []\n",
        "for tex in textos:\n",
        "  bisect.insort(indexado,tex)\n",
        "indexado"
      ],
      "metadata": {
        "id": "LxFBtpANjhAQ"
      },
      "execution_count": null,
      "outputs": []
    },
    {
      "cell_type": "markdown",
      "source": [
        "## Visualizando a Árvore"
      ],
      "metadata": {
        "id": "WUG50iGIj_c5"
      }
    },
    {
      "cell_type": "code",
      "source": [
        "!pip install binarytree"
      ],
      "metadata": {
        "id": "gYVmJZ28kBzi"
      },
      "execution_count": null,
      "outputs": []
    },
    {
      "cell_type": "code",
      "source": [
        "import binarytree\n",
        "import random\n",
        "import string\n",
        "\n",
        "random.seed(42)\n",
        "\n",
        "def gera_texto():\n",
        "  letras = string.ascii_letters + string.digits\n",
        "  return ''.join(random.choice(letras) for i in range(10))\n",
        "\n",
        "textos = [gera_texto() for _ in range(10)]\n",
        "print('Textos =',textos)\n",
        "\n",
        "root = binarytree.build(textos)\n",
        "print('\\nÁrvore:\\n',root)"
      ],
      "metadata": {
        "id": "VHnZ_opZkFEj"
      },
      "execution_count": null,
      "outputs": []
    },
    {
      "cell_type": "code",
      "source": [
        "random.seed(42)\n",
        "aleatorios = [random.randint(0,1_000) for _ in range(10)]\n",
        "root = binarytree.build(aleatorios)\n",
        "print('\\nÁrvore:\\n',root)"
      ],
      "metadata": {
        "id": "9Y23VT9Rj9Nw"
      },
      "execution_count": null,
      "outputs": []
    },
    {
      "cell_type": "markdown",
      "source": [
        "# Atividade"
      ],
      "metadata": {
        "id": "-080E-YXoxh0"
      }
    },
    {
      "cell_type": "markdown",
      "source": [
        "Descubra qual código é mais rápido gerando números aleatórios e ordenando a cada inserção com:\n",
        "- **sorted()**\n",
        "- **bisect.insort()**"
      ],
      "metadata": {
        "id": "-b5AGxJAoz0T"
      }
    },
    {
      "cell_type": "code",
      "source": [
        "import random\n",
        "import timeit\n",
        "import bisect\n",
        "\n",
        "random.seed(42)\n",
        "\n",
        "def gerar():\n",
        "  return random.randint(0,10_000)\n",
        "\n"
      ],
      "metadata": {
        "id": "8FGFz-7qozcM"
      },
      "execution_count": null,
      "outputs": []
    }
  ]
}