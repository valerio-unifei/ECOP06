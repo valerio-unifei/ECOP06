{
  "nbformat": 4,
  "nbformat_minor": 0,
  "metadata": {
    "colab": {
      "provenance": [],
      "authorship_tag": "ABX9TyMhoz/O5/8h0ieBhO4hyOd4",
      "include_colab_link": true
    },
    "kernelspec": {
      "name": "python3",
      "display_name": "Python 3"
    },
    "language_info": {
      "name": "python"
    }
  },
  "cells": [
    {
      "cell_type": "markdown",
      "metadata": {
        "id": "view-in-github",
        "colab_type": "text"
      },
      "source": [
        "<a href=\"https://colab.research.google.com/github/valerio-unifei/ECOP06/blob/main/ECOP06_06_Interface.ipynb\" target=\"_parent\"><img src=\"https://colab.research.google.com/assets/colab-badge.svg\" alt=\"Open In Colab\"/></a>"
      ]
    },
    {
      "cell_type": "markdown",
      "source": [
        "# Interface"
      ],
      "metadata": {
        "id": "UbbUDPt_irhU"
      }
    },
    {
      "cell_type": "markdown",
      "source": [
        "Disponibilidade de atributos públicos definidos (variáveis e métodos), não tem construtor e define o funcionamento de classes herdadas.\n",
        "\n",
        "Não existe uma palavra reservada de Interface no Python, diferente de outras linguagem.\n",
        "\n",
        "Toda a classe possui uma interface, inclusive classes abstratas."
      ],
      "metadata": {
        "id": "AfxX3I_ajMzW"
      }
    },
    {
      "cell_type": "code",
      "execution_count": null,
      "metadata": {
        "id": "mlCsriY4Wk4D"
      },
      "outputs": [],
      "source": [
        "import abc\n",
        "\n",
        "class FourWheelVehicle (abc.ABC):\n",
        "  @abc.abstractmethod\n",
        "  def SpeedUp( self ):\n",
        "    pass\n",
        "\n",
        "class Car(FourWheelVehicle) :\n",
        "  def SpeedUp(self):\n",
        "    print(\" Running! \")\n",
        "\n",
        "class TwoWheelVehicle (abc.ABC) :\n",
        "  @abc.abstractmethod\n",
        "  def SpeedUp(self):\n",
        "    pass\n",
        "\n",
        "class Bike(TwoWheelVehicle) :\n",
        "  def SpeedUp(self) :\n",
        "    print(\" Running!.. \")"
      ]
    },
    {
      "cell_type": "markdown",
      "source": [
        "Determine as heranças das classes com o comando \"isinstance\"."
      ],
      "metadata": {
        "id": "iJNtQdoZY7RU"
      }
    },
    {
      "cell_type": "code",
      "source": [
        "a = Bike ()\n",
        "s = Car()"
      ],
      "metadata": {
        "id": "niHRtkOwZDGT"
      },
      "execution_count": null,
      "outputs": []
    },
    {
      "cell_type": "markdown",
      "source": [
        "# Iteradores"
      ],
      "metadata": {
        "id": "bxrHNCVEZLDE"
      }
    },
    {
      "cell_type": "markdown",
      "source": [
        "Implementando os comandos:\n",
        "\n",
        "\n",
        "```\n",
        "def __iter__(self):\n",
        "  pass\n",
        "\n",
        "def __next__(self):\n",
        "  pass\n",
        "```\n",
        "\n"
      ],
      "metadata": {
        "id": "aHV-vewAZWDL"
      }
    },
    {
      "cell_type": "code",
      "source": [
        "class MyNumbers:\n",
        "  def __iter__(self):\n",
        "    self.a = 1\n",
        "    return self\n",
        "\n",
        "  def __next__(self):\n",
        "    x = self.a\n",
        "    self.a += 1\n",
        "    return x\n",
        "\n",
        "myobj = MyNumbers()\n",
        "myiter = iter(myobj)"
      ],
      "metadata": {
        "id": "D1v9sQknZVvU"
      },
      "execution_count": null,
      "outputs": []
    },
    {
      "cell_type": "markdown",
      "source": [
        "Utilizando:\n",
        "\n",
        "\n",
        "```\n",
        "next(<iterador>)\n",
        "```\n",
        "\n"
      ],
      "metadata": {
        "id": "XXVYHZz4Z_ii"
      }
    },
    {
      "cell_type": "code",
      "source": [
        "next(myiter)"
      ],
      "metadata": {
        "id": "n0x-QH6EZ7sb"
      },
      "execution_count": null,
      "outputs": []
    },
    {
      "cell_type": "markdown",
      "source": [
        "Utilizando a repetição:"
      ],
      "metadata": {
        "id": "5qIJlXrHaJ_q"
      }
    },
    {
      "cell_type": "code",
      "source": [
        "for x in myiter:\n",
        "  print(x)"
      ],
      "metadata": {
        "id": "IbYZtfPcaNHb"
      },
      "execution_count": null,
      "outputs": []
    },
    {
      "cell_type": "markdown",
      "source": [
        "# Composição"
      ],
      "metadata": {
        "id": "N52GkJWRkFWr"
      }
    },
    {
      "cell_type": "markdown",
      "source": [
        "Composição é um conceito que modela uma relação.\n",
        "\n",
        "Ele permite criar tipos complexos combinando objetos de outros tipos.\n",
        "\n",
        "As classes que contêm objetos de outras classes geralmente são chamadas de compostos, onde as classes usadas para criar tipos mais complexos são chamadas de componentes."
      ],
      "metadata": {
        "id": "7iawdrKEkzIi"
      }
    },
    {
      "cell_type": "code",
      "source": [
        "class Component:\n",
        "  def __init__(self):\n",
        "    print('Component class object created...')\n",
        "\n",
        "  def m1(self):\n",
        "    print('Component class m1() method executed...')\n",
        "\n",
        "class Composite:\n",
        "\tdef __init__(self):\n",
        "\t\tself.obj1 = Component()\n",
        "\t\tprint('Composite class object also created...')\n",
        "\n",
        "\tdef m2(self):\n",
        "\t\tprint('Composite class m2() method executed...')\n",
        "\t\tself.obj1.m1()\n",
        "\n",
        "obj2 = Composite()\n",
        "obj2.m2()"
      ],
      "metadata": {
        "id": "jkhK0FHTlyI5"
      },
      "execution_count": null,
      "outputs": []
    },
    {
      "cell_type": "markdown",
      "source": [
        "## Aplicação Real"
      ],
      "metadata": {
        "id": "_3QQG7ehpkwa"
      }
    },
    {
      "cell_type": "markdown",
      "source": [
        "Utilizando o serviço de API do INPE para obter previsão do tempo dos próximos dias."
      ],
      "metadata": {
        "id": "EyA5aLBzaqXr"
      }
    },
    {
      "cell_type": "markdown",
      "source": [
        "Obtendo o ID da cidade no sistema do INPE em XML"
      ],
      "metadata": {
        "id": "mIhAdwRSa1FS"
      }
    },
    {
      "cell_type": "code",
      "source": [
        "import requests\n",
        "import urllib.parse\n",
        "from xml.etree import ElementTree\n",
        "\n",
        "city_url = 'http://servicos.cptec.inpe.br/XML/listaCidades?city=' + urllib.parse.quote(input())\n",
        "response = requests.get(city_url)\n",
        "response.content"
      ],
      "metadata": {
        "id": "PmyU_49mrUfh"
      },
      "execution_count": null,
      "outputs": []
    },
    {
      "cell_type": "markdown",
      "source": [
        "Organizando XML para dicionário:"
      ],
      "metadata": {
        "id": "Ncu_Stb1bANi"
      }
    },
    {
      "cell_type": "code",
      "source": [
        "tree = ElementTree.fromstring(response.content)\n",
        "cidades=[]\n",
        "for c in tree:\n",
        "  ct={}\n",
        "  for a in c:\n",
        "    ct[a.tag]=a.text\n",
        "  cidades.append(ct)\n",
        "cidades"
      ],
      "metadata": {
        "id": "XGe_WJara9Jr"
      },
      "execution_count": null,
      "outputs": []
    },
    {
      "cell_type": "markdown",
      "source": [
        "Obtendo XML com dados das previsões:"
      ],
      "metadata": {
        "id": "nphy_PDra4jy"
      }
    },
    {
      "cell_type": "code",
      "source": [
        "cidade_id = int(cidades[0]['id'])\n",
        "prev_url = f'http://servicos.cptec.inpe.br/XML/cidade/{cidade_id}/previsao.xml'\n",
        "response = requests.get(prev_url)\n",
        "dias = ElementTree.fromstring(response.content)\n",
        "for d in dias:\n",
        "  for n in d:\n",
        "    print(n.tag,':',n.text)"
      ],
      "metadata": {
        "id": "5As7v2Dztehr"
      },
      "execution_count": null,
      "outputs": []
    },
    {
      "cell_type": "markdown",
      "source": [
        "**Proposta**: construa um conjunto de classes para armazenar os dados de previsão para um conjunto de cidades fornecido."
      ],
      "metadata": {
        "id": "49K8l_jObH1L"
      }
    },
    {
      "cell_type": "code",
      "source": [
        "import requests\n",
        "import urllib.parse\n",
        "from xml.etree import ElementTree\n",
        "\n",
        "def ExtractContent(content):\n",
        "  arvore = ElementTree.fromstring(content)\n",
        "  itens = []\n",
        "  for ramo in arvore:\n",
        "    item = {}\n",
        "    for folha in ramo:\n",
        "      item[folha.tag] = folha.text\n",
        "    if len(item.keys()) > 0:\n",
        "      itens.append(item)\n",
        "  return itens\n",
        "\n",
        "# classe de previsao\n",
        "class Previsao:\n",
        "  def __init__(self, cidade_id):\n",
        "    self.cidade_id = cidade_id\n",
        "    prev_url = f'http://servicos.cptec.inpe.br/XML/cidade/{cidade_id}/previsao.xml'\n",
        "    response = requests.get(prev_url)\n",
        "    self.dias = ExtractContent(response.content)\n",
        "  def __repr__(self):\n",
        "    saida = ''\n",
        "    for dia in self.dias:\n",
        "      saida+= '{} [máxima: {} mínima: {}] {} \\n'.format(\n",
        "          dia['dia'],dia['maxima'],dia['minima'],dia['tempo'],\n",
        "      )\n",
        "    return saida\n",
        "\n",
        "# criando a classe que busca a cidade\n",
        "class Cidade:\n",
        "  def __init__(self, cidade_nome:str):\n",
        "    self.cidade_nome = cidade_nome\n",
        "    self.cidade_inpe = []\n",
        "    self.previsao = None\n",
        "  def carregar(self):\n",
        "    self.city_url = 'http://servicos.cptec.inpe.br/XML/listaCidades?city=' + urllib.parse.quote(self.cidade_nome)\n",
        "    response = requests.get(self.city_url)\n",
        "    # pegando a 1a cidade\n",
        "    self.cidades_inpe = ExtractContent(response.content)\n",
        "    if len(self.cidades_inpe) > 0:\n",
        "      self.previsao = Previsao(self.cidades_inpe[0]['id'])\n",
        "    return self\n",
        "  def __repr__(self):\n",
        "    if len(self.cidades_inpe) > 0:\n",
        "      saida = '{}-{}'.format(self.cidades_inpe[0]['nome'],self.cidades_inpe[0]['uf'])\n",
        "      saida += '\\n'\n",
        "      saida +=  self.previsao.__repr__()\n",
        "      return saida\n",
        "    else:\n",
        "      return 'Cidade não encontrada'\n",
        "\n",
        "ci = Cidade('Sorocaba')\n",
        "ci.carregar()"
      ],
      "metadata": {
        "id": "ch5ddq5TbRUj"
      },
      "execution_count": null,
      "outputs": []
    }
  ]
}