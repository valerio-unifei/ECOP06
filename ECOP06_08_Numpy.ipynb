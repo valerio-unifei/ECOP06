{
  "nbformat": 4,
  "nbformat_minor": 0,
  "metadata": {
    "colab": {
      "provenance": [],
      "collapsed_sections": [
        "PS3eztdzc6qv",
        "53uywnNfdjA_",
        "1VgcbY_Jfjs3",
        "LgnKIv0ggPeA",
        "4P80bv4plcsl",
        "MNX9vqOFZtGs",
        "13AT6xGtiuvn",
        "a3MIRHGumlQq",
        "9LgKmj-KqXYA",
        "Kn_hF5GBqbGR",
        "Vu-ZdnRHqpFg",
        "jqIppHsWsvIY",
        "UwHZIRf21Iqf",
        "ID0gbH5HV1Qc"
      ],
      "authorship_tag": "ABX9TyNmudP+zZGehfUjSYG2qSGS",
      "include_colab_link": true
    },
    "kernelspec": {
      "name": "python3",
      "display_name": "Python 3"
    },
    "language_info": {
      "name": "python"
    }
  },
  "cells": [
    {
      "cell_type": "markdown",
      "metadata": {
        "id": "view-in-github",
        "colab_type": "text"
      },
      "source": [
        "<a href=\"https://colab.research.google.com/github/valerio-unifei/ECOP06/blob/main/ECOP06_08_Numpy.ipynb\" target=\"_parent\"><img src=\"https://colab.research.google.com/assets/colab-badge.svg\" alt=\"Open In Colab\"/></a>"
      ]
    },
    {
      "cell_type": "markdown",
      "source": [
        "# Numpy"
      ],
      "metadata": {
        "id": "PS3eztdzc6qv"
      }
    },
    {
      "cell_type": "markdown",
      "source": [
        "Numpy é a biblioteca principal para computação científica em Python.\n",
        "\n",
        "Ele fornece um objeto array multidimensional de alto desempenho e ferramentas para trabalhar com esses arrays."
      ],
      "metadata": {
        "id": "RCYsLLneddtn"
      }
    },
    {
      "cell_type": "code",
      "source": [
        "import numpy as np\n",
        "np.__version__"
      ],
      "metadata": {
        "id": "SODAt-kWdjwn"
      },
      "execution_count": null,
      "outputs": []
    },
    {
      "cell_type": "markdown",
      "source": [
        "## Matrizes"
      ],
      "metadata": {
        "id": "53uywnNfdjA_"
      }
    },
    {
      "cell_type": "markdown",
      "source": [
        "Um array numpy é uma grade de valores, todos do mesmo tipo, e é indexado por uma tupla de inteiros não negativos.\n",
        "\n",
        "O número de dimensões é a classificação da matriz, a forma de uma matriz é uma tupla de inteiros que fornece o tamanho da matriz ao longo de cada dimensão."
      ],
      "metadata": {
        "id": "oUGuRDP1d8Cf"
      }
    },
    {
      "cell_type": "code",
      "execution_count": null,
      "metadata": {
        "id": "-JA78DpmbtPY"
      },
      "outputs": [],
      "source": [
        "a = np.array([1, 2, 3])\n",
        "a"
      ]
    },
    {
      "cell_type": "code",
      "source": [
        "type(a)"
      ],
      "metadata": {
        "id": "xrfXjU79ee32"
      },
      "execution_count": null,
      "outputs": []
    },
    {
      "cell_type": "code",
      "source": [
        "a.dtype"
      ],
      "metadata": {
        "id": "aw2Y_kFcXnkL"
      },
      "execution_count": null,
      "outputs": []
    },
    {
      "cell_type": "code",
      "source": [
        "a.shape"
      ],
      "metadata": {
        "id": "MYkBOwEVfDS_"
      },
      "execution_count": null,
      "outputs": []
    },
    {
      "cell_type": "code",
      "source": [
        "a.ndim"
      ],
      "metadata": {
        "id": "GAIxvzq4xIH5"
      },
      "execution_count": null,
      "outputs": []
    },
    {
      "cell_type": "code",
      "source": [
        "a.size"
      ],
      "metadata": {
        "id": "JErCwNPRXqmC"
      },
      "execution_count": null,
      "outputs": []
    },
    {
      "cell_type": "code",
      "source": [
        "a.itemsize"
      ],
      "metadata": {
        "id": "jv8U20QnXtr6"
      },
      "execution_count": null,
      "outputs": []
    },
    {
      "cell_type": "code",
      "source": [
        "print(a[0], a[1], a[2])"
      ],
      "metadata": {
        "id": "gZ7eZCGxfHGP"
      },
      "execution_count": null,
      "outputs": []
    },
    {
      "cell_type": "code",
      "source": [
        "a[0] = 5\n",
        "a"
      ],
      "metadata": {
        "id": "uLgFuKUofK5v"
      },
      "execution_count": null,
      "outputs": []
    },
    {
      "cell_type": "code",
      "source": [
        "b = np.array([[1,2,3],[4,5,6]])\n",
        "b"
      ],
      "metadata": {
        "id": "oFgj8NOKfQff"
      },
      "execution_count": null,
      "outputs": []
    },
    {
      "cell_type": "code",
      "source": [
        "type(b)"
      ],
      "metadata": {
        "id": "1aEsqCtufXWf"
      },
      "execution_count": null,
      "outputs": []
    },
    {
      "cell_type": "code",
      "source": [
        "b.shape"
      ],
      "metadata": {
        "id": "zq6EKbpXfT-I"
      },
      "execution_count": null,
      "outputs": []
    },
    {
      "cell_type": "code",
      "source": [
        "b.ndim"
      ],
      "metadata": {
        "id": "QuDu1KsrxCE5"
      },
      "execution_count": null,
      "outputs": []
    },
    {
      "cell_type": "code",
      "source": [
        "print(b[0, 0], b[0, 1], b[1, 0])"
      ],
      "metadata": {
        "id": "6tv73jZQfcFH"
      },
      "execution_count": null,
      "outputs": []
    },
    {
      "cell_type": "markdown",
      "source": [
        "# Funções para Criar Vetores"
      ],
      "metadata": {
        "id": "1VgcbY_Jfjs3"
      }
    },
    {
      "cell_type": "code",
      "source": [
        "np.zeros((2,2))"
      ],
      "metadata": {
        "id": "4FRvgXiVfkyn"
      },
      "execution_count": null,
      "outputs": []
    },
    {
      "cell_type": "code",
      "source": [
        "np.ones((1,2))"
      ],
      "metadata": {
        "id": "JePTgj3ifnQP"
      },
      "execution_count": null,
      "outputs": []
    },
    {
      "cell_type": "code",
      "source": [
        "np.full((2,2), 7)"
      ],
      "metadata": {
        "id": "xmMOPOnVfsH_"
      },
      "execution_count": null,
      "outputs": []
    },
    {
      "cell_type": "code",
      "source": [
        "np.eye(2)"
      ],
      "metadata": {
        "id": "xfkC_vs_fvH3"
      },
      "execution_count": null,
      "outputs": []
    },
    {
      "cell_type": "code",
      "source": [
        "np.arange(10)"
      ],
      "metadata": {
        "id": "TwB-OSQDhWin"
      },
      "execution_count": null,
      "outputs": []
    },
    {
      "cell_type": "code",
      "source": [
        "np.arange(2, 10, dtype=float)"
      ],
      "metadata": {
        "id": "c0BuYgqshfrn"
      },
      "execution_count": null,
      "outputs": []
    },
    {
      "cell_type": "code",
      "source": [
        "np.arange(2, 3, 0.1)"
      ],
      "metadata": {
        "id": "JbnVA2PGhmlx"
      },
      "execution_count": null,
      "outputs": []
    },
    {
      "cell_type": "code",
      "source": [
        "np.random.random((2,2))"
      ],
      "metadata": {
        "id": "7ujcCbNWfyOX"
      },
      "execution_count": null,
      "outputs": []
    },
    {
      "cell_type": "code",
      "source": [
        "np.linspace(1., 4., 6)"
      ],
      "metadata": {
        "id": "e8ooB0XQhqBf"
      },
      "execution_count": null,
      "outputs": []
    },
    {
      "cell_type": "code",
      "source": [
        "np.diag([1, 2, 3])"
      ],
      "metadata": {
        "id": "Hl_ehd7-h1OP"
      },
      "execution_count": null,
      "outputs": []
    },
    {
      "cell_type": "code",
      "source": [
        "np.diag([1, 2, 3], 1)"
      ],
      "metadata": {
        "id": "TCXImUeUh9QI"
      },
      "execution_count": null,
      "outputs": []
    },
    {
      "cell_type": "code",
      "source": [
        "a = np.array([[1, 2], [3, 4]])\n",
        "np.diag(a)"
      ],
      "metadata": {
        "id": "BHxWZOCmh_rX"
      },
      "execution_count": null,
      "outputs": []
    },
    {
      "cell_type": "code",
      "source": [
        "np.indices((3,3))"
      ],
      "metadata": {
        "id": "s_Va1HHOiHD3"
      },
      "execution_count": null,
      "outputs": []
    },
    {
      "cell_type": "code",
      "source": [
        "# matriz Vandermonde: útil na geração de modelos lineares de mínimos quadrados\n",
        "np.vander((1, 2, 3, 4), 4)"
      ],
      "metadata": {
        "id": "Wq4mZ4P9iViY"
      },
      "execution_count": null,
      "outputs": []
    },
    {
      "cell_type": "markdown",
      "source": [
        "# Formatos"
      ],
      "metadata": {
        "id": "LgnKIv0ggPeA"
      }
    },
    {
      "cell_type": "markdown",
      "source": [
        "Arrays NumPy podem ser definidos usando sequências Python, como listas e tuplas.\n",
        "\n",
        "Listas e tuplas são definidas usando [...]e (...), respectivamente. Listas e tuplas podem definir a criação do ndarray:\n",
        "\n",
        "- uma lista de números criará uma matriz 1D,\n",
        "- uma lista de listas criará uma matriz 2D,\n",
        "- outras listas aninhadas criarão matrizes de dimensões mais altas.\n",
        "\n",
        "Em geral, qualquer objeto de matriz é chamado de ndarray no NumPy."
      ],
      "metadata": {
        "id": "36m55nS1gSlu"
      }
    },
    {
      "cell_type": "code",
      "source": [
        "a1D = np.array([1, 2, 3, 4])\n",
        "a1D"
      ],
      "metadata": {
        "id": "0Ls2P2YvgexO"
      },
      "execution_count": null,
      "outputs": []
    },
    {
      "cell_type": "code",
      "source": [
        "a2D = np.array([[1, 2], [3, 4]])\n",
        "a2D"
      ],
      "metadata": {
        "id": "fpqeLftdglpf"
      },
      "execution_count": null,
      "outputs": []
    },
    {
      "cell_type": "code",
      "source": [
        "a3D = np.array([[[1, 2], [3, 4]], [[5, 6], [7, 8]]])\n",
        "a3D"
      ],
      "metadata": {
        "id": "lJmMy2r_glev"
      },
      "execution_count": null,
      "outputs": []
    },
    {
      "cell_type": "markdown",
      "source": [
        "Ao usar numpy.arraypara definir um novo array, você deve considerar o dtype dos elementos no array, que pode ser especificado explicitamente.\n",
        "\n",
        "Esse recurso oferece mais controle sobre as estruturas de dados subjacentes e como os elementos são manipulados nas funções C/C++."
      ],
      "metadata": {
        "id": "Nn8o8hsigwOH"
      }
    },
    {
      "cell_type": "code",
      "source": [
        "np.array([[1,2],[3,4]], dtype=np.float64)"
      ],
      "metadata": {
        "id": "y41w1fqelcih"
      },
      "execution_count": null,
      "outputs": []
    },
    {
      "cell_type": "code",
      "source": [
        "np.array([[1.,2.],[3.,4.]], dtype=np.int64)"
      ],
      "metadata": {
        "id": "5kMOBxgQR1ZR"
      },
      "execution_count": null,
      "outputs": []
    },
    {
      "cell_type": "code",
      "source": [
        "np.array([[1, 2], [3, 4]], dtype=np.complex64)"
      ],
      "metadata": {
        "id": "BmSXh9qGUbFr"
      },
      "execution_count": null,
      "outputs": []
    },
    {
      "cell_type": "markdown",
      "source": [
        "## Estouro de Variáveis"
      ],
      "metadata": {
        "id": "4P80bv4plcsl"
      }
    },
    {
      "cell_type": "code",
      "source": [
        "np.array([127, 128, 129], dtype=np.int8)"
      ],
      "metadata": {
        "id": "vx7ZkG4Ggv-v"
      },
      "execution_count": null,
      "outputs": []
    },
    {
      "cell_type": "markdown",
      "source": [
        "uint32 = inteiro 32 bits não sinalizado ( >= 0 )\n",
        "\n",
        "int32 = inteiro 32 bits sinalizado"
      ],
      "metadata": {
        "id": "qKFyiNQwm9hu"
      }
    },
    {
      "cell_type": "code",
      "source": [
        "a = np.array([2, 3, 4], dtype=np.uint32)\n",
        "b = np.array([5, 6, 7], dtype=np.uint32)\n",
        "a - b"
      ],
      "metadata": {
        "id": "6fIlw5OHhEBf"
      },
      "execution_count": null,
      "outputs": []
    },
    {
      "cell_type": "code",
      "source": [
        "a - b.astype(np.int32)"
      ],
      "metadata": {
        "id": "1g_SLB9YhQ33"
      },
      "execution_count": null,
      "outputs": []
    },
    {
      "cell_type": "markdown",
      "source": [
        "## Ponto flutuante IEEE 754"
      ],
      "metadata": {
        "id": "MNX9vqOFZtGs"
      }
    },
    {
      "cell_type": "markdown",
      "source": [
        "Valores especiais definidos em numpy: nan, inf"
      ],
      "metadata": {
        "id": "RXio46NnZv_r"
      }
    },
    {
      "cell_type": "code",
      "source": [
        "np.nan == np.nan"
      ],
      "metadata": {
        "id": "YEtakeBmZ1Qc"
      },
      "execution_count": null,
      "outputs": []
    },
    {
      "cell_type": "code",
      "source": [
        "np.isnan(np.nan)"
      ],
      "metadata": {
        "id": "NrvrcKjMZ5Xa"
      },
      "execution_count": null,
      "outputs": []
    },
    {
      "cell_type": "code",
      "source": [
        "np.array([1., 0., np.nan, 3., np.inf])"
      ],
      "metadata": {
        "id": "R1PWP6uVZ9wc"
      },
      "execution_count": null,
      "outputs": []
    },
    {
      "cell_type": "code",
      "source": [
        "d = np.array([1,1,1])/0"
      ],
      "metadata": {
        "id": "3EfAkPKTaZu9"
      },
      "execution_count": null,
      "outputs": []
    },
    {
      "cell_type": "code",
      "source": [
        "d"
      ],
      "metadata": {
        "id": "l1jgRdFEcgZ-"
      },
      "execution_count": null,
      "outputs": []
    },
    {
      "cell_type": "markdown",
      "source": [
        "# Indexação"
      ],
      "metadata": {
        "id": "13AT6xGtiuvn"
      }
    },
    {
      "cell_type": "code",
      "source": [
        "a = np.array([[1,2,3,4], [5,6,7,8], [9,10,11,12]])\n",
        "a[:2, 1:3]"
      ],
      "metadata": {
        "id": "lNzCfqVdiwxA"
      },
      "execution_count": null,
      "outputs": []
    },
    {
      "cell_type": "code",
      "source": [
        "a[:, 1]"
      ],
      "metadata": {
        "id": "jzXss_dvjblO"
      },
      "execution_count": null,
      "outputs": []
    },
    {
      "cell_type": "code",
      "source": [
        "a[:, 1:2]"
      ],
      "metadata": {
        "id": "x9p4wuDnjjZ_"
      },
      "execution_count": null,
      "outputs": []
    },
    {
      "cell_type": "code",
      "source": [
        "b = np.array([0, 2, 1])\n",
        "a[np.arange(3), b]"
      ],
      "metadata": {
        "id": "7AvecJWrjlw_"
      },
      "execution_count": null,
      "outputs": []
    },
    {
      "cell_type": "code",
      "source": [
        "a[np.arange(3), b] += 10\n",
        "a"
      ],
      "metadata": {
        "id": "WdVLd8hik9Xn"
      },
      "execution_count": null,
      "outputs": []
    },
    {
      "cell_type": "code",
      "source": [
        "a > 10"
      ],
      "metadata": {
        "id": "GEYwe6z4lGdo"
      },
      "execution_count": null,
      "outputs": []
    },
    {
      "cell_type": "code",
      "source": [
        "a[ a > 10 ]"
      ],
      "metadata": {
        "id": "pHTdv2-2lIlP"
      },
      "execution_count": null,
      "outputs": []
    },
    {
      "cell_type": "markdown",
      "source": [
        "# Operações"
      ],
      "metadata": {
        "id": "a3MIRHGumlQq"
      }
    },
    {
      "cell_type": "code",
      "source": [
        "x = np.array([[1,2],[3,4]], dtype=np.float64)\n",
        "x"
      ],
      "metadata": {
        "id": "qm4i_kZGpzYY"
      },
      "execution_count": null,
      "outputs": []
    },
    {
      "cell_type": "code",
      "source": [
        "y = np.array([[5,6],[7,8]], dtype=np.float64)\n",
        "y"
      ],
      "metadata": {
        "id": "DhNJhxHYmyxZ"
      },
      "execution_count": null,
      "outputs": []
    },
    {
      "cell_type": "markdown",
      "source": [
        "## Entre Vetores"
      ],
      "metadata": {
        "id": "9LgKmj-KqXYA"
      }
    },
    {
      "cell_type": "code",
      "source": [
        "x + y"
      ],
      "metadata": {
        "id": "z58JpxEvmyxZ"
      },
      "execution_count": null,
      "outputs": []
    },
    {
      "cell_type": "code",
      "source": [
        "np.add(x, y)"
      ],
      "metadata": {
        "id": "2lBPZ6MQmyxa"
      },
      "execution_count": null,
      "outputs": []
    },
    {
      "cell_type": "code",
      "source": [
        "x - y # np.subtract(x, y)"
      ],
      "metadata": {
        "id": "h-vw-wzAmyxa"
      },
      "execution_count": null,
      "outputs": []
    },
    {
      "cell_type": "code",
      "source": [
        "x * y # np.multiply(x, y)"
      ],
      "metadata": {
        "id": "zl_vAJodmyxa"
      },
      "execution_count": null,
      "outputs": []
    },
    {
      "cell_type": "code",
      "source": [
        "x / y # np.divide(x, y)"
      ],
      "metadata": {
        "id": "PtmPei5Rmyxa"
      },
      "execution_count": null,
      "outputs": []
    },
    {
      "cell_type": "code",
      "source": [
        "np.sqrt(x)"
      ],
      "metadata": {
        "id": "iizKg_gXmyxa"
      },
      "execution_count": null,
      "outputs": []
    },
    {
      "cell_type": "markdown",
      "source": [
        "## Cáculo Escalar"
      ],
      "metadata": {
        "id": "Kn_hF5GBqbGR"
      }
    },
    {
      "cell_type": "code",
      "source": [
        "x + 2"
      ],
      "metadata": {
        "id": "zzNhm4QSpsXA"
      },
      "execution_count": null,
      "outputs": []
    },
    {
      "cell_type": "code",
      "source": [
        "x * 3"
      ],
      "metadata": {
        "id": "N1WoabJjpvAP"
      },
      "execution_count": null,
      "outputs": []
    },
    {
      "cell_type": "code",
      "source": [
        "x / 4"
      ],
      "metadata": {
        "id": "k9mttPM9qQXI"
      },
      "execution_count": null,
      "outputs": []
    },
    {
      "cell_type": "markdown",
      "source": [
        "## Produto Interno"
      ],
      "metadata": {
        "id": "Vu-ZdnRHqpFg"
      }
    },
    {
      "cell_type": "markdown",
      "source": [
        "<img src=\"https://lhmet.github.io/adar-ebook/images/multilicacaoMatricial.png\">"
      ],
      "metadata": {
        "id": "bIB8Sx7Qr7SI"
      }
    },
    {
      "cell_type": "code",
      "source": [
        "A = np.array([[2,3],[1,0],[4,5]])\n",
        "B = np.array([[3,1],[2,4]])\n",
        "np.dot(A,B)"
      ],
      "metadata": {
        "id": "5pjNKMZ0sJhJ"
      },
      "execution_count": null,
      "outputs": []
    },
    {
      "cell_type": "markdown",
      "source": [
        "Outros exemplos:"
      ],
      "metadata": {
        "id": "RLqXcEsCsbjp"
      }
    },
    {
      "cell_type": "code",
      "source": [
        "x = np.array([[1,2],[3,4]])\n",
        "y = np.array([[5,6],[7,8]])\n",
        "\n",
        "v = np.array([9,10])\n",
        "w = np.array([11, 12])\n",
        "\n",
        "v.dot(w) # np.dot(v, w)"
      ],
      "metadata": {
        "id": "XjCBIJ-1rRlw"
      },
      "execution_count": null,
      "outputs": []
    },
    {
      "cell_type": "code",
      "source": [
        "x.dot(v) # np.dot(x, v)"
      ],
      "metadata": {
        "id": "oGXQzQzKrb6Y"
      },
      "execution_count": null,
      "outputs": []
    },
    {
      "cell_type": "code",
      "source": [
        "x.dot(y)"
      ],
      "metadata": {
        "id": "kcf7s00lrh-w"
      },
      "execution_count": null,
      "outputs": []
    },
    {
      "cell_type": "markdown",
      "source": [
        "## Outras Operações"
      ],
      "metadata": {
        "id": "jqIppHsWsvIY"
      }
    },
    {
      "cell_type": "code",
      "source": [
        "a = np.array([[0.45053314, 0.17296777, 0.34376245, 0.5510652],\n",
        "              [0.54627315, 0.05093587, 0.40067661, 0.55645993],\n",
        "              [0.12697628, 0.82485143, 0.26590556, 0.56917101]])\n",
        "a"
      ],
      "metadata": {
        "id": "Z56TaD_CtTqy"
      },
      "execution_count": null,
      "outputs": []
    },
    {
      "cell_type": "code",
      "source": [
        "np.sum(a) # a.sum()"
      ],
      "metadata": {
        "id": "4pzUFc5hsusw"
      },
      "execution_count": null,
      "outputs": []
    },
    {
      "cell_type": "code",
      "source": [
        "a.max()"
      ],
      "metadata": {
        "id": "1GWXLOMTyyLp"
      },
      "execution_count": null,
      "outputs": []
    },
    {
      "cell_type": "code",
      "source": [
        "a.min()"
      ],
      "metadata": {
        "id": "DwmXXIJwy195"
      },
      "execution_count": null,
      "outputs": []
    },
    {
      "cell_type": "code",
      "source": [
        "a.min(axis=0)"
      ],
      "metadata": {
        "id": "2-sEE-TizMu4"
      },
      "execution_count": null,
      "outputs": []
    },
    {
      "cell_type": "code",
      "source": [
        "a.min(axis=1)"
      ],
      "metadata": {
        "id": "bl54YaPxzbzY"
      },
      "execution_count": null,
      "outputs": []
    },
    {
      "cell_type": "code",
      "source": [
        "a.T"
      ],
      "metadata": {
        "id": "S9jq9i2MtD3p"
      },
      "execution_count": null,
      "outputs": []
    },
    {
      "cell_type": "code",
      "source": [
        "np.empty_like(a)"
      ],
      "metadata": {
        "id": "TXKk8G_4tWuo"
      },
      "execution_count": null,
      "outputs": []
    },
    {
      "cell_type": "code",
      "source": [
        "np.tile(a, (4, 1))"
      ],
      "metadata": {
        "id": "29KcUHxkt5FY"
      },
      "execution_count": null,
      "outputs": []
    },
    {
      "cell_type": "code",
      "source": [
        "np.reshape(a, (12, 1))"
      ],
      "metadata": {
        "id": "R66da2nluDgA"
      },
      "execution_count": null,
      "outputs": []
    },
    {
      "cell_type": "code",
      "source": [
        "a = np.array([1, 2, 3, 4])\n",
        "b = np.array([5, 6, 7, 8])\n",
        "\n",
        "np.concatenate((a, b))"
      ],
      "metadata": {
        "id": "v5OjWsh8vkyY"
      },
      "execution_count": null,
      "outputs": []
    },
    {
      "cell_type": "code",
      "source": [
        "x = np.array([[1, 2], [3, 4]])\n",
        "y = np.array([[5, 6]])\n",
        "\n",
        "np.concatenate((x, y))"
      ],
      "metadata": {
        "id": "juQW9zvNv2E5"
      },
      "execution_count": null,
      "outputs": []
    },
    {
      "cell_type": "code",
      "source": [
        "a = np.array([1, 2, 3, 4, 5, 6])\n",
        "\n",
        "a[np.newaxis, :]"
      ],
      "metadata": {
        "id": "7Jz9b2W_w5_f"
      },
      "execution_count": null,
      "outputs": []
    },
    {
      "cell_type": "code",
      "source": [
        "a[:, np.newaxis]"
      ],
      "metadata": {
        "id": "4cggbUwlyeJz"
      },
      "execution_count": null,
      "outputs": []
    },
    {
      "cell_type": "code",
      "source": [
        "np.unique([1,1,2,2,3,3,4,4,5,5])"
      ],
      "metadata": {
        "id": "ez1mjgMKz9UR"
      },
      "execution_count": null,
      "outputs": []
    },
    {
      "cell_type": "code",
      "source": [
        "np.flip([1,1,2,2,3,3,4,4,5,5])"
      ],
      "metadata": {
        "id": "4FuIYNzM0QsJ"
      },
      "execution_count": null,
      "outputs": []
    },
    {
      "cell_type": "code",
      "source": [
        "a = np.array([[0.45053314, 0.17296777, 0.34376245, 0.5510652],\n",
        "              [0.54627315, 0.05093587, 0.40067661, 0.55645993],\n",
        "              [0.12697628, 0.82485143, 0.26590556, 0.56917101]])\n",
        "a.flatten()"
      ],
      "metadata": {
        "id": "HmwSNtZK0SlI"
      },
      "execution_count": null,
      "outputs": []
    },
    {
      "cell_type": "code",
      "source": [
        "b = a.ravel()\n",
        "b[4] = 0.9999\n",
        "a"
      ],
      "metadata": {
        "id": "7iQe5uxl0kgA"
      },
      "execution_count": null,
      "outputs": []
    },
    {
      "cell_type": "code",
      "source": [
        "d = np.array([1., 0., np.nan, 3.])"
      ],
      "metadata": {
        "id": "rDxbPdR2YmRc"
      },
      "execution_count": null,
      "outputs": []
    },
    {
      "cell_type": "markdown",
      "source": [
        "## Fórmulas Matemáticas"
      ],
      "metadata": {
        "id": "OUKj6gWX07zq"
      }
    },
    {
      "cell_type": "markdown",
      "source": [
        "<img src=\"https://numpy.org/doc/stable/_images/np_MSE_formula.png\">"
      ],
      "metadata": {
        "id": "as2rnSCv0-8B"
      }
    },
    {
      "cell_type": "markdown",
      "source": [
        "<img src=\"https://numpy.org/doc/stable/_images/np_MSE_implementation.png\">"
      ],
      "metadata": {
        "id": "y_px5gR11Bex"
      }
    },
    {
      "cell_type": "markdown",
      "source": [
        "### Atividade"
      ],
      "metadata": {
        "id": "7Z9tkFliWBWD"
      }
    },
    {
      "cell_type": "markdown",
      "source": [
        "Calcule o MSE (Erro médio quadrático) dos vetores gerados abaixo:"
      ],
      "metadata": {
        "id": "xSW_sA1gWDrU"
      }
    },
    {
      "cell_type": "code",
      "source": [
        "np.random.seed(int(input('Forneça sua matrícula: ')))\n",
        "\n",
        "real = np.random.random(100)\n",
        "previsto = np.random.random(100)"
      ],
      "metadata": {
        "id": "yd3kMZEXWxVl"
      },
      "execution_count": null,
      "outputs": []
    },
    {
      "cell_type": "code",
      "source": [
        "# implemente o erro aqui\n"
      ],
      "metadata": {
        "id": "u_z9qpmUXi9X"
      },
      "execution_count": null,
      "outputs": []
    },
    {
      "cell_type": "markdown",
      "source": [
        "Identifique qual cálculo é mais rápido dotList vs dotNumpy.\n",
        "\n",
        "Rode 1000 vezes cada um para comparar o tempo com o comando \"%%time\"."
      ],
      "metadata": {
        "id": "VbCatApTX5nI"
      }
    },
    {
      "cell_type": "code",
      "source": [
        "a = np.random.randn(1000)\n",
        "b = np.random.randn(1000)\n",
        "\n",
        "A = list(a)\n",
        "B = list(b)\n",
        "\n",
        "def dotList():\n",
        "    dot = 0\n",
        "    for i in range(len(A)):\n",
        "        dot += A[i]*B[i]\n",
        "    return dot\n",
        "\n",
        "def dotNumpy():\n",
        "    return np.dot(a,b)"
      ],
      "metadata": {
        "id": "rXmEPmruYLvc"
      },
      "execution_count": null,
      "outputs": []
    },
    {
      "cell_type": "code",
      "source": [
        "%%time\n",
        "# implemente aqui"
      ],
      "metadata": {
        "id": "VuIaJ24yYE3z"
      },
      "execution_count": null,
      "outputs": []
    },
    {
      "cell_type": "markdown",
      "source": [
        "# Manipulação de Arquivos"
      ],
      "metadata": {
        "id": "UwHZIRf21Iqf"
      }
    },
    {
      "cell_type": "code",
      "source": [
        "a = np.array([1, 2, 3, 4, 5, 6])\n",
        "np.save('arquivo', a)\n",
        "\n",
        "np.load('arquivo.npy')"
      ],
      "metadata": {
        "id": "Vqi0UNsl2Bix"
      },
      "execution_count": null,
      "outputs": []
    },
    {
      "cell_type": "code",
      "source": [
        "b = np.array([1, 2, 3, 4, 5, 6, 7, 8])\n",
        "np.savetxt('arquivo.txt', b)\n",
        "\n",
        "np.loadtxt('arquivo.txt')"
      ],
      "metadata": {
        "id": "lxDoCzsj3UAh"
      },
      "execution_count": null,
      "outputs": []
    },
    {
      "cell_type": "code",
      "source": [
        "c = np.array([[-2.58289208,  0.43014843, -1.24082018, 1.59572603],\n",
        "              [ 0.99027828, 1.17150989,  0.94125714, -0.14692469],\n",
        "              [ 0.76989341,  0.81299683, -0.95068423, 0.11769564],\n",
        "              [ 0.20484034,  0.34784527,  1.96979195, 0.51992837]])\n",
        "np.savetxt('colunas.txt', c)"
      ],
      "metadata": {
        "id": "CeBqzTcn3kdI"
      },
      "execution_count": null,
      "outputs": []
    },
    {
      "cell_type": "code",
      "source": [
        "%%writefile sistemas.txt\n",
        "0 1 2 3 4 5 6 7 8 9\n",
        "10 11 12 13 14 15 16 17 18 19\n",
        "20 21 22 23 24 25 26 27 28 29"
      ],
      "metadata": {
        "id": "2Y8GMD3BSD-L"
      },
      "execution_count": null,
      "outputs": []
    },
    {
      "cell_type": "code",
      "source": [
        "np.loadtxt('sistemas.txt').astype(int)"
      ],
      "metadata": {
        "id": "vFi5mYhUSVKD"
      },
      "execution_count": null,
      "outputs": []
    },
    {
      "cell_type": "markdown",
      "source": [
        "# Sistemas Lineares"
      ],
      "metadata": {
        "id": "ID0gbH5HV1Qc"
      }
    },
    {
      "cell_type": "markdown",
      "source": [
        "https://numpy.org/doc/stable/reference/routines.linalg.html"
      ],
      "metadata": {
        "id": "3fgpvwvcgY0N"
      }
    },
    {
      "cell_type": "code",
      "source": [
        "a = np.array([[1, 2], [3, 5]])\n",
        "b = np.array([1, 2])\n",
        "\n",
        "x = np.linalg.solve(a, b)\n",
        "x"
      ],
      "metadata": {
        "id": "6AhA240pV_tD"
      },
      "execution_count": null,
      "outputs": []
    },
    {
      "cell_type": "markdown",
      "source": [
        "Confirmando:"
      ],
      "metadata": {
        "id": "mqkJeP5-fYcV"
      }
    },
    {
      "cell_type": "code",
      "source": [
        "np.dot(a, x)"
      ],
      "metadata": {
        "id": "Z93XHRp8flDk"
      },
      "execution_count": null,
      "outputs": []
    },
    {
      "cell_type": "code",
      "source": [
        "np.allclose(np.dot(a, x), b)"
      ],
      "metadata": {
        "id": "gKZE2A8xeQcX"
      },
      "execution_count": null,
      "outputs": []
    },
    {
      "cell_type": "markdown",
      "source": [
        "## Autovalores e Autovetores"
      ],
      "metadata": {
        "id": "Db3rRtzjZTxa"
      }
    },
    {
      "cell_type": "code",
      "source": [
        "a = np.array([[1,2], [3,4]])\n",
        "autovalores, autovetores = np.linalg.eig(a)\n",
        "print('autovalores:',autovalores,'\\n')\n",
        "print('autovetores:',autovetores)"
      ],
      "metadata": {
        "id": "WRmH4r2VZaqu"
      },
      "execution_count": null,
      "outputs": []
    },
    {
      "cell_type": "markdown",
      "source": [
        "## Atividade"
      ],
      "metadata": {
        "id": "9pacrNXbftTm"
      }
    },
    {
      "cell_type": "markdown",
      "source": [
        "Implemente a solução do sistema abaixo:"
      ],
      "metadata": {
        "id": "vyq3Us8yfveM"
      }
    },
    {
      "cell_type": "markdown",
      "source": [
        "<img src=\"https://escolaeducacao.com.br/wp-content/uploads/2020/04/sistema-exemplo1-300x151.jpg\">"
      ],
      "metadata": {
        "id": "encAlxc6faOE"
      }
    },
    {
      "cell_type": "code",
      "source": [],
      "metadata": {
        "id": "x8iykUEufcke"
      },
      "execution_count": null,
      "outputs": []
    }
  ]
}