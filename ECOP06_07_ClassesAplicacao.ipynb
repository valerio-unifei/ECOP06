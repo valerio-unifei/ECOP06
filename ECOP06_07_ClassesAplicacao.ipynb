{
  "nbformat": 4,
  "nbformat_minor": 0,
  "metadata": {
    "colab": {
      "provenance": [],
      "authorship_tag": "ABX9TyOkt7+lOTOVbmx5g5VOZZ66",
      "include_colab_link": true
    },
    "kernelspec": {
      "name": "python3",
      "display_name": "Python 3"
    },
    "language_info": {
      "name": "python"
    }
  },
  "cells": [
    {
      "cell_type": "markdown",
      "metadata": {
        "id": "view-in-github",
        "colab_type": "text"
      },
      "source": [
        "<a href=\"https://colab.research.google.com/github/valerio-unifei/ECOP06/blob/main/ECOP06_07_ClassesAplicacao.ipynb\" target=\"_parent\"><img src=\"https://colab.research.google.com/assets/colab-badge.svg\" alt=\"Open In Colab\"/></a>"
      ]
    },
    {
      "cell_type": "markdown",
      "source": [
        "# Aplicação com Classes"
      ],
      "metadata": {
        "id": "oVzRVZbetXEr"
      }
    },
    {
      "cell_type": "markdown",
      "source": [
        "## Proposta"
      ],
      "metadata": {
        "id": "trGOS7lxtdhd"
      }
    },
    {
      "cell_type": "markdown",
      "source": [
        "Crie um programa que realize a extração de dados por API de fundos de investimento disponíveis.\n",
        "\n",
        "São os objetivos do programa:\n",
        "- Listar 10 fundos embaralhados (shuffle) por seu número de matrícula;\n",
        "- Obter o histórico desses fundos;\n",
        "- Comparar os fundos com o CDI;\n",
        "- Comparar os fundos com o IBovespa;\n",
        "- Identificar com o maior redimento até o momento;\n",
        "- Identificar com o menor redimento até o momento."
      ],
      "metadata": {
        "id": "SkAiqK0Bte0J"
      }
    },
    {
      "cell_type": "markdown",
      "source": [
        "### Fontes de Dados"
      ],
      "metadata": {
        "id": "QrcXQlFlvE6S"
      }
    },
    {
      "cell_type": "markdown",
      "source": [
        "**Fundos de Investimento**"
      ],
      "metadata": {
        "id": "Ly4MFwUMwvwa"
      }
    },
    {
      "cell_type": "markdown",
      "source": [
        "Site base: https://investnews.com.br/comparador-fundos/"
      ],
      "metadata": {
        "id": "DR4fDEHj1RNm"
      }
    },
    {
      "cell_type": "code",
      "source": [
        "import requests\n",
        "\n",
        "# Lista de fundos da aplicação\n",
        "fundos = requests.get('https://s3.sa-east-1.amazonaws.com/br.com.easynvest.cms.uploads/cvm/fundos').json()\n",
        "# CDI básico dos bancos\n",
        "cdi = requests.get('https://s3.sa-east-1.amazonaws.com/br.com.easynvest.cms.uploads/cvm/cdi').json()\n",
        "# Indice Bovespa\n",
        "ibov = requests.get('https://s3.sa-east-1.amazonaws.com/br.com.easynvest.cms.uploads/cvm/ibovespa').json()\n",
        "# Busca de Histórico de Fundo\n",
        "id = fundos[56]['c']\n",
        "his = requests.get(f'https://s3.sa-east-1.amazonaws.com/br.com.easynvest.cms.uploads/cvm/{id}').json()\n",
        "his[:3]"
      ],
      "metadata": {
        "id": "wN6qRxSXxgVj"
      },
      "execution_count": null,
      "outputs": []
    },
    {
      "cell_type": "markdown",
      "source": [
        "# Solução"
      ],
      "metadata": {
        "id": "e9ABMscutfF6"
      }
    },
    {
      "cell_type": "code",
      "execution_count": null,
      "metadata": {
        "id": "ZoeNlmjspknr"
      },
      "outputs": [],
      "source": []
    }
  ]
}