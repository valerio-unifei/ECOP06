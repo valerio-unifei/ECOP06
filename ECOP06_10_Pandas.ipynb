{
  "nbformat": 4,
  "nbformat_minor": 0,
  "metadata": {
    "colab": {
      "provenance": [],
      "authorship_tag": "ABX9TyOaJhZCfzi5Xx12gPL0ceF7",
      "include_colab_link": true
    },
    "kernelspec": {
      "name": "python3",
      "display_name": "Python 3"
    },
    "language_info": {
      "name": "python"
    }
  },
  "cells": [
    {
      "cell_type": "markdown",
      "metadata": {
        "id": "view-in-github",
        "colab_type": "text"
      },
      "source": [
        "<a href=\"https://colab.research.google.com/github/valerio-unifei/ECOP06/blob/main/ECOP06_10_Pandas.ipynb\" target=\"_parent\"><img src=\"https://colab.research.google.com/assets/colab-badge.svg\" alt=\"Open In Colab\"/></a>"
      ]
    },
    {
      "cell_type": "markdown",
      "source": [
        "# Pandas"
      ],
      "metadata": {
        "id": "18uOk3wnJM0l"
      }
    },
    {
      "cell_type": "markdown",
      "source": [
        "<img src=\"https://files.realpython.com/media/Reading-and-Writing-Data-With-Pandas_Watermarked.435ef1c38466.jpg\">\n",
        "\n",
        "- Um objeto DataFrame rápido e eficiente para manipulação de dados com indexação integrada;\n",
        "- Ferramentas para leitura e gravação de dados entre estruturas de dados na memória e diferentes formatos: CSV e arquivos de texto, Microsoft Excel, bancos de dados SQL e o formato HDF5 rápido;\n",
        "- Alinhamento inteligente de dados e tratamento integrado de dados ausentes : obtenha alinhamento automático baseado em rótulos em cálculos e manipule facilmente dados confusos em uma forma ordenada;\n",
        "- Remodelação flexível e pivotagem de conjuntos de dados;\n",
        "- Fatiamento inteligente baseado em rótulo , indexação sofisticada e subconjunto de grandes conjuntos de dados;\n",
        "- As colunas podem ser inseridas e excluídas de estruturas de dados para mutabilidade de tamanho ;\n",
        "- Agregar ou transformar dados com um poderoso grupo por mecanismo, permitindo operações divisão-executar-combinar em conjuntos de dados;\n",
        "- Fusão e junção de alto desempenho de conjuntos de dados;\n",
        "- A indexação de eixo hierárquico fornece uma maneira intuitiva de trabalhar com dados de alta dimensão em uma estrutura de dados de dimensão inferior;\n",
        "- Série temporal funcionalidade: geração de intervalo de datas e conversão de frequência, estatísticas de janela móvel, mudança de data e atraso. Crie até mesmo deslocamentos de tempo específicos do domínio e junte séries temporais sem perder dados;\n",
        "- Altamente otimizado para desempenho , com caminhos de código críticos escritos em Cython ou C.\n",
        "- Python com pandas está em uso em uma ampla variedade de domínios acadêmicos e comerciais , incluindo Finanças, Neurociência, Economia, Estatística, Publicidade, Web Analytics e muito mais."
      ],
      "metadata": {
        "id": "DyiL00fvJatF"
      }
    },
    {
      "cell_type": "code",
      "execution_count": null,
      "metadata": {
        "id": "5lSQry5cJGxB"
      },
      "outputs": [],
      "source": [
        "import pandas as pd\n",
        "pd.__version__"
      ]
    },
    {
      "cell_type": "markdown",
      "source": [
        "# Conceitos Básicos"
      ],
      "metadata": {
        "id": "hhXP-tvwKFBn"
      }
    },
    {
      "cell_type": "markdown",
      "source": [
        "As estruturas do Pandas são implementadas em duas classes:\n",
        "\n",
        "- DataFrame: Tabela formada por linhas e colunas;\n",
        "- Series: representação básica da coluna do DataFrame."
      ],
      "metadata": {
        "id": "M2PRl_JsKIPl"
      }
    },
    {
      "cell_type": "code",
      "source": [
        "# criando uma série\n",
        "pd.Series(['Poços de Caldas','Pouso Alegre','Varginha','Passos','Lavras','Itajubá'])"
      ],
      "metadata": {
        "id": "mdlwLm2fK10G"
      },
      "execution_count": null,
      "outputs": []
    },
    {
      "cell_type": "code",
      "source": [
        "# condensando séries em um DataFrame\n",
        "cidades = pd.Series(['Poços de Caldas','Pouso Alegre','Varginha','Passos','Lavras','Itajubá'])\n",
        "populacao = pd.Series([169838,154293,137608,115970,105756,97782])\n",
        "censo = pd.DataFrame({ 'Cidade': cidades, 'População': populacao })\n",
        "censo"
      ],
      "metadata": {
        "id": "v-lxsahuLqfO"
      },
      "execution_count": null,
      "outputs": []
    },
    {
      "cell_type": "code",
      "source": [
        "# Primeiras 5 linhas da tabela (cabeça = head)\n",
        "censo.head()"
      ],
      "metadata": {
        "id": "rEe2m1_jM5JN"
      },
      "execution_count": null,
      "outputs": []
    },
    {
      "cell_type": "code",
      "source": [
        "censo.tail(2)"
      ],
      "metadata": {
        "id": "U-qv7XQvNFFF"
      },
      "execution_count": null,
      "outputs": []
    },
    {
      "cell_type": "code",
      "source": [
        "censo.shape"
      ],
      "metadata": {
        "id": "HSLsdcSgNIYl"
      },
      "execution_count": null,
      "outputs": []
    },
    {
      "cell_type": "code",
      "source": [
        "len(censo)"
      ],
      "metadata": {
        "id": "t9FG45x1lCFR"
      },
      "execution_count": null,
      "outputs": []
    },
    {
      "cell_type": "code",
      "source": [
        "censo.columns"
      ],
      "metadata": {
        "id": "05mciapWNL6F"
      },
      "execution_count": null,
      "outputs": []
    },
    {
      "cell_type": "markdown",
      "source": [
        "## Acesso aos Dados"
      ],
      "metadata": {
        "id": "tX2tuHpcNgQn"
      }
    },
    {
      "cell_type": "code",
      "source": [
        "print('Tipo:',type(censo['Cidade']))\n",
        "print('Série:')\n",
        "censo['Cidade']"
      ],
      "metadata": {
        "id": "ks6IQb7_Nf2V"
      },
      "execution_count": null,
      "outputs": []
    },
    {
      "cell_type": "code",
      "source": [
        "print('Tipo:',type(censo['Cidade'][1]))\n",
        "print('Elemento:')\n",
        "censo['Cidade'][1]"
      ],
      "metadata": {
        "id": "xos3I7SdN1c2"
      },
      "execution_count": null,
      "outputs": []
    },
    {
      "cell_type": "code",
      "source": [
        "print('Tipo:',type(censo[:2]))\n",
        "print('Linhas:')\n",
        "censo[:2]"
      ],
      "metadata": {
        "id": "yHTiuMD4N819"
      },
      "execution_count": null,
      "outputs": []
    },
    {
      "cell_type": "code",
      "source": [
        "censo.values"
      ],
      "metadata": {
        "id": "1v-mskqAsi_P"
      },
      "execution_count": null,
      "outputs": []
    },
    {
      "cell_type": "code",
      "source": [
        "censo[censo.columns[1]].values"
      ],
      "metadata": {
        "id": "4hgYGmFdmYVq"
      },
      "execution_count": null,
      "outputs": []
    },
    {
      "cell_type": "code",
      "source": [
        "censo.index"
      ],
      "metadata": {
        "id": "olj8CuipB4n_"
      },
      "execution_count": null,
      "outputs": []
    },
    {
      "cell_type": "code",
      "source": [
        "for indice, linha in censo.iterrows():\n",
        "  print(indice, linha['Cidade'], linha['População'])"
      ],
      "metadata": {
        "id": "8CzDWc64tuih"
      },
      "execution_count": null,
      "outputs": []
    },
    {
      "cell_type": "code",
      "source": [
        "censo['População'][3]"
      ],
      "metadata": {
        "id": "CclaLow9A1I-"
      },
      "execution_count": null,
      "outputs": []
    },
    {
      "cell_type": "code",
      "source": [
        "censo.at[3,'População']"
      ],
      "metadata": {
        "id": "QKvslAMft6Vo"
      },
      "execution_count": null,
      "outputs": []
    },
    {
      "cell_type": "code",
      "source": [
        "censo.iat[3,1]"
      ],
      "metadata": {
        "id": "7ghlexwXt-24"
      },
      "execution_count": null,
      "outputs": []
    },
    {
      "cell_type": "code",
      "source": [
        "censo.at[1,'Cidade'] = 'P.A.'\n",
        "censo"
      ],
      "metadata": {
        "id": "l5piiJdGAhOK"
      },
      "execution_count": null,
      "outputs": []
    },
    {
      "cell_type": "markdown",
      "source": [
        "## Informações dos Dados"
      ],
      "metadata": {
        "id": "tXWIvtE04wEq"
      }
    },
    {
      "cell_type": "code",
      "source": [
        "censo.info()"
      ],
      "metadata": {
        "id": "5YvuJmaNCk8X"
      },
      "execution_count": null,
      "outputs": []
    },
    {
      "cell_type": "code",
      "source": [
        "censo.describe().T[['mean','std']]"
      ],
      "metadata": {
        "id": "5ksPPGccCmzS"
      },
      "execution_count": null,
      "outputs": []
    },
    {
      "cell_type": "markdown",
      "source": [
        "# Formato de Dados"
      ],
      "metadata": {
        "id": "LJmNWCR6gRn6"
      }
    },
    {
      "cell_type": "code",
      "source": [
        "houses = pd.read_csv('https://download.mlcc.google.com/mledu-datasets/california_housing_train.csv')\n",
        "print('Tamanho:',houses.shape)\n",
        "houses"
      ],
      "metadata": {
        "id": "KxBV6S2FBQJN"
      },
      "execution_count": null,
      "outputs": []
    },
    {
      "cell_type": "code",
      "source": [
        "houses.describe().T"
      ],
      "metadata": {
        "id": "zjpZiB_lHUO0"
      },
      "execution_count": null,
      "outputs": []
    },
    {
      "cell_type": "code",
      "source": [
        "anscombe = pd.read_json('/content/sample_data/anscombe.json')\n",
        "anscombe.head()"
      ],
      "metadata": {
        "id": "CWSjDfrKD7u0"
      },
      "execution_count": null,
      "outputs": []
    },
    {
      "cell_type": "code",
      "source": [
        "houses.to_excel('houses.xlsx',)"
      ],
      "metadata": {
        "id": "Qay9pT0wD1SW"
      },
      "execution_count": null,
      "outputs": []
    },
    {
      "cell_type": "code",
      "source": [
        "!wget https://github.com/valerio-unifei/ECAA07/raw/main/Bancos/chinook.db"
      ],
      "metadata": {
        "id": "1EC3abC2CDk-"
      },
      "execution_count": null,
      "outputs": []
    },
    {
      "cell_type": "code",
      "source": [
        "import sqlite3\n",
        "cnx = sqlite3.connect('chinook.db')\n",
        "customers = pd.read_sql_query(\"SELECT * FROM customers\", cnx, index_col='CustomerId')\n",
        "print('(linhas, colunas) =',customers.shape)\n",
        "customers.head()"
      ],
      "metadata": {
        "id": "t4ikc_s9AnrK"
      },
      "execution_count": null,
      "outputs": []
    },
    {
      "cell_type": "code",
      "source": [
        "houses.describe().T"
      ],
      "metadata": {
        "id": "aAUEcrcPsvBK"
      },
      "execution_count": null,
      "outputs": []
    },
    {
      "cell_type": "markdown",
      "source": [
        "# Manipulação de Informações"
      ],
      "metadata": {
        "id": "x4t20Ofz488B"
      }
    },
    {
      "cell_type": "markdown",
      "source": [
        "## Tabela 1"
      ],
      "metadata": {
        "id": "tR7i02HQ5BCd"
      }
    },
    {
      "cell_type": "code",
      "source": [
        "fundos = pd.read_json('https://s3.sa-east-1.amazonaws.com/br.com.easynvest.cms.uploads/cvm/fundos')\n",
        "print('(linhas, colunas) =',fundos.shape)\n",
        "fundos.head()"
      ],
      "metadata": {
        "id": "E5B1FHjb5Aoy"
      },
      "execution_count": null,
      "outputs": []
    },
    {
      "cell_type": "code",
      "source": [
        "# mudando indice da tabeal\n",
        "fundos = fundos.set_index('c')\n",
        "fundos"
      ],
      "metadata": {
        "id": "o7yEl_d69lMy"
      },
      "execution_count": null,
      "outputs": []
    },
    {
      "cell_type": "code",
      "source": [
        "fundos[fundos.columns[1:-1]]"
      ],
      "metadata": {
        "id": "8a7odzSYwEs1"
      },
      "execution_count": null,
      "outputs": []
    },
    {
      "cell_type": "code",
      "source": [
        "fundos.describe().T"
      ],
      "metadata": {
        "id": "ca2xIGBE7EdF"
      },
      "execution_count": null,
      "outputs": []
    },
    {
      "cell_type": "code",
      "source": [
        "# fundos com patrimônio (p) maior que 90000000\n",
        "pa = fundos[fundos['p'] > 90000000]\n",
        "print('(linhas, colunas) =',pa.shape)\n",
        "pa.head()"
      ],
      "metadata": {
        "id": "OEzhnbS16hI_"
      },
      "execution_count": null,
      "outputs": []
    },
    {
      "cell_type": "code",
      "source": [
        "# fundos com patrimônio (p) maior que 90000000 e quotas (q) maior ou igual 400\n",
        "pa = fundos[ (fundos['p'] > 90000000) & (fundos['q'] >= 400) ]\n",
        "print('(linhas, colunas) =',pa.shape)\n",
        "pa.head()"
      ],
      "metadata": {
        "id": "QsutbGLq7oUk"
      },
      "execution_count": null,
      "outputs": []
    },
    {
      "cell_type": "code",
      "source": [
        "# fundos com quotas (q) maior ou igual 400 e pertençam ao Banco do Brasil (BB)\n",
        "pa = fundos[ (fundos['q'] >= 400) & (fundos['a'].str.contains('BB')) ]\n",
        "print('(linhas, colunas) =',pa.shape)\n",
        "pa.head()"
      ],
      "metadata": {
        "id": "sZ7FgPBi77c1"
      },
      "execution_count": null,
      "outputs": []
    },
    {
      "cell_type": "code",
      "source": [
        "# Crie uma coluna com o valor individual das quotas em relação ao patrimônio\n",
        "pa = fundos[(fundos['q'] > 0) & (fundos['p'] >= 0)]\n",
        "pa['v'] = pa['p'] / pa['q']\n",
        "print('(linhas, colunas) =',pa.shape)\n",
        "pa.head()"
      ],
      "metadata": {
        "id": "DF-zNY0D8gvv"
      },
      "execution_count": null,
      "outputs": []
    },
    {
      "cell_type": "code",
      "source": [
        "# ordenar a coluna de valor de quotas crescente\n",
        "pa.sort_values('v')"
      ],
      "metadata": {
        "id": "3jiemyUT8zXs"
      },
      "execution_count": null,
      "outputs": []
    },
    {
      "cell_type": "code",
      "source": [
        "# ordenar a coluna de patrimônio descrescente\n",
        "pa.sort_values('p',ascending=False)"
      ],
      "metadata": {
        "id": "qdtqnCGK9-Mg"
      },
      "execution_count": null,
      "outputs": []
    },
    {
      "cell_type": "code",
      "source": [
        "pa['z'] = [0.] * len(pa)\n",
        "pa"
      ],
      "metadata": {
        "id": "JjRQqflhNOlt"
      },
      "execution_count": null,
      "outputs": []
    },
    {
      "cell_type": "code",
      "source": [
        "pa['pp'] = pa['p'].shift(1)\n",
        "pa"
      ],
      "metadata": {
        "id": "ocKiEDCnNnBk"
      },
      "execution_count": null,
      "outputs": []
    },
    {
      "cell_type": "markdown",
      "source": [
        "### Agrupando Dados"
      ],
      "metadata": {
        "id": "n_3R8Osx-QEu"
      }
    },
    {
      "cell_type": "code",
      "source": [
        "fundos['g'].unique()"
      ],
      "metadata": {
        "id": "Thc1L6J8xxVt"
      },
      "execution_count": null,
      "outputs": []
    },
    {
      "cell_type": "code",
      "source": [
        "grupos = fundos.groupby('g')\n",
        "for tipo, linhas in grupos:\n",
        "  print('Tipo:',tipo,'Fundos:', len(linhas))"
      ],
      "metadata": {
        "id": "Hk_ZTNk1-Sf4"
      },
      "execution_count": null,
      "outputs": []
    },
    {
      "cell_type": "code",
      "source": [
        "for tipo, linhas in grupos:\n",
        "  soma = linhas[['p','q']].sum()\n",
        "  print( '{} ({}) = {}'.format(tipo, len(linhas), soma.values) )"
      ],
      "metadata": {
        "id": "pmamvkdO_eRu"
      },
      "execution_count": null,
      "outputs": []
    },
    {
      "cell_type": "markdown",
      "source": [
        "# Atividades"
      ],
      "metadata": {
        "id": "gwFDzbvSASAh"
      }
    },
    {
      "cell_type": "markdown",
      "source": [
        "## Atividade Bovespa"
      ],
      "metadata": {
        "id": "DgYp5lfrDAbv"
      }
    },
    {
      "cell_type": "markdown",
      "source": [
        "Colete os dados da Bovespa pela Restfull API do link abaixo:\n",
        "\n",
        "https://s3.sa-east-1.amazonaws.com/br.com.easynvest.cms.uploads/cvm/ibovespa\n",
        "\n",
        "Converta o campo de dia/hora para datetime64 do Pandas"
      ],
      "metadata": {
        "id": "3QSp34RoCkLU"
      }
    },
    {
      "cell_type": "code",
      "source": [
        "ibov = pd.read_json('https://s3.sa-east-1.amazonaws.com/br.com.easynvest.cms.uploads/cvm/ibovespa')\n",
        "ibov['dia'] = pd.to_datetime(ibov['d'],format='%Y%m%d')\n",
        "ibov"
      ],
      "metadata": {
        "id": "zMIL0Cn7Cjmq"
      },
      "execution_count": null,
      "outputs": []
    },
    {
      "cell_type": "code",
      "source": [
        "ibov.info()"
      ],
      "metadata": {
        "id": "HI0nzTlP0jMa"
      },
      "execution_count": null,
      "outputs": []
    },
    {
      "cell_type": "code",
      "source": [],
      "metadata": {
        "id": "oi-dxcoK1SCq"
      },
      "execution_count": null,
      "outputs": []
    },
    {
      "cell_type": "markdown",
      "source": [
        "Selecione os dias do último mês:"
      ],
      "metadata": {
        "id": "YLMSvqBACvBc"
      }
    },
    {
      "cell_type": "code",
      "source": [
        "ibov[(ibov['dia'].dt.year==2022) & (ibov['dia'].dt.month==9)]"
      ],
      "metadata": {
        "id": "aJiEpiDyCuoE"
      },
      "execution_count": null,
      "outputs": []
    },
    {
      "cell_type": "markdown",
      "source": [
        "Faça a média mensal do último ano da Bovespa:"
      ],
      "metadata": {
        "id": "hjXVpLm2C67b"
      }
    },
    {
      "cell_type": "code",
      "source": [
        "ib21 = ibov[ibov['dia'].dt.year==2021]\n",
        "g21 = ib21.groupby(ib21['dia'].dt.month)\n",
        "g21['c'].mean()"
      ],
      "metadata": {
        "id": "198hyyWPC6b8"
      },
      "execution_count": null,
      "outputs": []
    },
    {
      "cell_type": "markdown",
      "source": [
        "## Atividade Chinook"
      ],
      "metadata": {
        "id": "k65wfk_aDD-A"
      }
    },
    {
      "cell_type": "markdown",
      "source": [
        "Liste das as tabelas do banco chinook.db com o comando SQL:\n",
        "\n",
        "'SELECT * FROM sqlite_master'"
      ],
      "metadata": {
        "id": "M65T-aL3DQAR"
      }
    },
    {
      "cell_type": "code",
      "source": [
        "import sqlite3\n",
        "cnx = sqlite3.connect('chinook.db')\n",
        "df = pd.read_sql_query('SELECT * FROM sqlite_master WHERE type=\"table\"',cnx)\n",
        "df"
      ],
      "metadata": {
        "id": "EFsRPsDEDPZo"
      },
      "execution_count": null,
      "outputs": []
    },
    {
      "cell_type": "markdown",
      "source": [
        "Carregue as tabelas clientes e lojas em DataFrames separados e os associe pelo comando '.join' do Pandas."
      ],
      "metadata": {
        "id": "liaYDdGPDZZY"
      }
    },
    {
      "cell_type": "code",
      "source": [
        "clientes = pd.read_sql_query('SELECT * FROM customers',cnx)\n",
        "clientes"
      ],
      "metadata": {
        "id": "WxKDOL6bDY0L"
      },
      "execution_count": null,
      "outputs": []
    },
    {
      "cell_type": "markdown",
      "source": [
        "Conte quantos clientes são por loja."
      ],
      "metadata": {
        "id": "VQqUINdrDsAt"
      }
    },
    {
      "cell_type": "code",
      "source": [
        "paises = clientes.groupby('Country')\n",
        "paises['CustomerId'].count()"
      ],
      "metadata": {
        "id": "FhWEJlqHDulr"
      },
      "execution_count": null,
      "outputs": []
    }
  ]
}