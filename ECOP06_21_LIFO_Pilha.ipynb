{
  "nbformat": 4,
  "nbformat_minor": 0,
  "metadata": {
    "colab": {
      "provenance": [],
      "authorship_tag": "ABX9TyNx2rlmIVwOcVP0+ImnXdNd",
      "include_colab_link": true
    },
    "kernelspec": {
      "name": "python3",
      "display_name": "Python 3"
    },
    "language_info": {
      "name": "python"
    }
  },
  "cells": [
    {
      "cell_type": "markdown",
      "metadata": {
        "id": "view-in-github",
        "colab_type": "text"
      },
      "source": [
        "<a href=\"https://colab.research.google.com/github/valerio-unifei/ECOP06/blob/main/ECOP06_21_LIFO_Pilha.ipynb\" target=\"_parent\"><img src=\"https://colab.research.google.com/assets/colab-badge.svg\" alt=\"Open In Colab\"/></a>"
      ]
    },
    {
      "cell_type": "markdown",
      "source": [
        "# LIFO"
      ],
      "metadata": {
        "id": "52eup4Id71Sh"
      }
    },
    {
      "cell_type": "markdown",
      "source": [
        "Baseado em:\n",
        "\n",
        "<a href=\"https://realpython.com/queue-in-python/#stack-last-in-first-out-lifo\"><img src=\"https://files.realpython.com/media/stack.475e76056033.jpg\"></a>"
      ],
      "metadata": {
        "id": "enyAEOK673zN"
      }
    },
    {
      "cell_type": "markdown",
      "source": [
        "Uma pilha é uma fila mais especializada, também conhecida como LIFO ou fila de **último a entrar, primeiro a sair**.\n",
        "\n",
        "Ele funciona quase exatamente como uma fila normal, exceto que os elementos agora devem entrar e sair dela por apenas uma extremidade chamada topo da pilha.\n",
        "\n",
        "O nome topo reflete o fato de que as pilhas do mundo real tendem a ser verticais.\n",
        "\n",
        "Uma pilha de pratos na pia da cozinha é um exemplo de pilha\n",
        "\n",
        "Quando a máquina de lavar louça está cheia, os funcionários colocam os pratos sujos no topo da pilha após a refeição.\n",
        "\n",
        "Quando não houver mais pratos limpos no armário, um funcionário faminto terá que abrir o último prato sujo do topo da pilha e limpá-lo com uma esponja antes de colocar o almoço no micro-ondas.\n",
        "\n",
        "Se houver um garfo muito necessário no fundo da pilha, alguma pobre alma terá que vasculhar todos os pratos acima, um por um, para chegar ao utensílio desejado.\n",
        "\n",
        "Da mesma forma, quando o pessoal da limpeza chega ao escritório no final de um dia útil, ele terá que passar pelas placas na ordem inversa antes de chegar à última no final da pilha."
      ],
      "metadata": {
        "id": "kJMLaYgY8Du5"
      }
    },
    {
      "cell_type": "markdown",
      "source": [
        "<img src=\"https://miro.medium.com/max/640/1*SXvNt0aIxrMSRG7ypKtM7Q.webp\">"
      ],
      "metadata": {
        "id": "SzXf0Ef08eS3"
      }
    },
    {
      "cell_type": "markdown",
      "source": [
        "## LifoQueue - Pilha Ilimitada"
      ],
      "metadata": {
        "id": "y86jBIVp8j23"
      }
    },
    {
      "cell_type": "code",
      "execution_count": null,
      "metadata": {
        "id": "DD1JZaOz7wzN"
      },
      "outputs": [],
      "source": [
        "lista = list(range(5,25))\n",
        "lista"
      ]
    },
    {
      "cell_type": "code",
      "source": [
        "import queue\n",
        "\n",
        "q = queue.LifoQueue()\n",
        "for i in lista:\n",
        "    q.put(i)\n",
        "\n",
        "q.empty(), q.full()"
      ],
      "metadata": {
        "id": "8BXrq6eM8uo5"
      },
      "execution_count": null,
      "outputs": []
    },
    {
      "cell_type": "code",
      "source": [
        "while not q.empty():\n",
        "  print(q.get(), end=', ')"
      ],
      "metadata": {
        "id": "nwP_s3Dp89AW"
      },
      "execution_count": null,
      "outputs": []
    },
    {
      "cell_type": "markdown",
      "source": [
        "## LifoQueue(maxsize=#) - Pilha Limitada"
      ],
      "metadata": {
        "id": "SNSnLqF89G3m"
      }
    },
    {
      "cell_type": "code",
      "source": [
        "q = queue.LifoQueue(maxsize=3)\n",
        "for i in lista:\n",
        "    q.put(i,block=False)\n",
        "\n",
        "q.empty(), q.full()"
      ],
      "metadata": {
        "id": "897ScdW09GdG"
      },
      "execution_count": null,
      "outputs": []
    },
    {
      "cell_type": "code",
      "source": [
        "q = queue.LifoQueue(maxsize=3)\n",
        "try:\n",
        "  for i in lista:\n",
        "    q.put(i, block=False)\n",
        "except queue.Full:\n",
        "  print(f'Pilha cheia com {q.maxsize} itens.')"
      ],
      "metadata": {
        "id": "gZqGRght9Sol"
      },
      "execution_count": null,
      "outputs": []
    },
    {
      "cell_type": "code",
      "source": [
        "while not q.empty():\n",
        "  print(q.get(), end=', ')"
      ],
      "metadata": {
        "id": "ZZ5F1NXv9idz"
      },
      "execution_count": null,
      "outputs": []
    },
    {
      "cell_type": "markdown",
      "source": [
        "# Atividades"
      ],
      "metadata": {
        "id": "ZuFNJ0nZ5r2r"
      }
    },
    {
      "cell_type": "markdown",
      "source": [
        "## Pilha Limitada por Negação"
      ],
      "metadata": {
        "id": "gHfik03k6CFh"
      }
    },
    {
      "cell_type": "markdown",
      "source": [
        "Faça um código que produza 3 mensagens por segundo, mas consuma apenas 2.\n",
        "\n",
        "Quando a lista estiver cheia, a mensagem mais nova deve ser ignorada sem processar, somente entra novas mensagens caso tenha espaço."
      ],
      "metadata": {
        "id": "HTb4Kafb7F8y"
      }
    },
    {
      "cell_type": "code",
      "source": [],
      "metadata": {
        "id": "eKzvwh1V7EKb"
      },
      "execution_count": null,
      "outputs": []
    },
    {
      "cell_type": "markdown",
      "source": [
        "## Pilha Limitada por Descarte"
      ],
      "metadata": {
        "id": "msv0QqDL5uNn"
      }
    },
    {
      "cell_type": "markdown",
      "source": [
        "Faça um código que produza 3 mensagens por segundo, mas consuma apenas 2.\n",
        "\n",
        "Quando a lista estiver cheia, a mensagem mais antiga deve ser descartada sem processar para receber a nova."
      ],
      "metadata": {
        "id": "kKWV9g9t5xJJ"
      }
    },
    {
      "cell_type": "code",
      "source": [],
      "metadata": {
        "id": "EM_M34Hi6BuP"
      },
      "execution_count": null,
      "outputs": []
    }
  ]
}