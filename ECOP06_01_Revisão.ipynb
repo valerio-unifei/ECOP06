{
  "nbformat": 4,
  "nbformat_minor": 0,
  "metadata": {
    "colab": {
      "provenance": [],
      "authorship_tag": "ABX9TyP9T4Sw96QHrCtXp54mNr7x",
      "include_colab_link": true
    },
    "kernelspec": {
      "name": "python3",
      "display_name": "Python 3"
    },
    "language_info": {
      "name": "python"
    }
  },
  "cells": [
    {
      "cell_type": "markdown",
      "metadata": {
        "id": "view-in-github",
        "colab_type": "text"
      },
      "source": [
        "<a href=\"https://colab.research.google.com/github/valerio-unifei/ECOP06/blob/main/ECOP06_01_Revis%C3%A3o.ipynb\" target=\"_parent\"><img src=\"https://colab.research.google.com/assets/colab-badge.svg\" alt=\"Open In Colab\"/></a>"
      ]
    },
    {
      "cell_type": "markdown",
      "source": [
        "# Revisão de Linguagem de Programação - Python"
      ],
      "metadata": {
        "id": "k2uftfiRPpL-"
      }
    },
    {
      "cell_type": "markdown",
      "source": [
        "Objetivo desta atividade:\n",
        "- Apresentar a programação em Notebook\n",
        "- Revisão de linguagem com Python\n",
        "- Utilização da linguagem Markdown para documentação"
      ],
      "metadata": {
        "id": "vfnJXR3JQang"
      }
    },
    {
      "cell_type": "markdown",
      "source": [
        "## Tipos de Variáveis"
      ],
      "metadata": {
        "id": "h1RhXc0xPunV"
      }
    },
    {
      "cell_type": "code",
      "source": [],
      "metadata": {
        "id": "Ckf4meGxPuEK"
      },
      "execution_count": null,
      "outputs": []
    },
    {
      "cell_type": "markdown",
      "source": [
        "## String"
      ],
      "metadata": {
        "id": "6oOA4dsBQGsY"
      }
    },
    {
      "cell_type": "code",
      "source": [],
      "metadata": {
        "id": "6zxtdYJYQLXq"
      },
      "execution_count": null,
      "outputs": []
    },
    {
      "cell_type": "markdown",
      "source": [
        "## Estrutura de Dados"
      ],
      "metadata": {
        "id": "TQIOYTmBQLpz"
      }
    },
    {
      "cell_type": "code",
      "source": [],
      "metadata": {
        "id": "61hI9R7qQVzx"
      },
      "execution_count": null,
      "outputs": []
    },
    {
      "cell_type": "markdown",
      "source": [
        "## Estruturas de Decisão"
      ],
      "metadata": {
        "id": "OZUTvUeXQYao"
      }
    },
    {
      "cell_type": "code",
      "source": [],
      "metadata": {
        "id": "himnpmrxQYBI"
      },
      "execution_count": null,
      "outputs": []
    },
    {
      "cell_type": "markdown",
      "source": [
        "## Estruturas de Repetição"
      ],
      "metadata": {
        "id": "YF5cJjYpQpnm"
      }
    },
    {
      "cell_type": "code",
      "source": [],
      "metadata": {
        "id": "sdQdGWxkQpMp"
      },
      "execution_count": null,
      "outputs": []
    }
  ]
}