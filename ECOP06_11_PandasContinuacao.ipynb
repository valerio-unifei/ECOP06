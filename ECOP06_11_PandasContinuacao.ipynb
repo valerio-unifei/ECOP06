{
  "nbformat": 4,
  "nbformat_minor": 0,
  "metadata": {
    "colab": {
      "provenance": [],
      "authorship_tag": "ABX9TyO6AU3lM618WS/qvprrr1ob",
      "include_colab_link": true
    },
    "kernelspec": {
      "name": "python3",
      "display_name": "Python 3"
    },
    "language_info": {
      "name": "python"
    }
  },
  "cells": [
    {
      "cell_type": "markdown",
      "metadata": {
        "id": "view-in-github",
        "colab_type": "text"
      },
      "source": [
        "<a href=\"https://colab.research.google.com/github/valerio-unifei/ECOP06/blob/main/ECOP06_11_PandasContinuacao.ipynb\" target=\"_parent\"><img src=\"https://colab.research.google.com/assets/colab-badge.svg\" alt=\"Open In Colab\"/></a>"
      ]
    },
    {
      "cell_type": "markdown",
      "source": [
        "# Pandas Continuação"
      ],
      "metadata": {
        "id": "18uOk3wnJM0l"
      }
    },
    {
      "cell_type": "markdown",
      "source": [
        "<img src=\"https://files.realpython.com/media/Python-Pandas-10-Tricks--Features-You-May-Not-Know-Watermark.e58bb5ce9835.jpg\">"
      ],
      "metadata": {
        "id": "DyiL00fvJatF"
      }
    },
    {
      "cell_type": "code",
      "execution_count": null,
      "metadata": {
        "id": "5lSQry5cJGxB"
      },
      "outputs": [],
      "source": [
        "import pandas as pd\n",
        "pd.__version__"
      ]
    },
    {
      "cell_type": "markdown",
      "source": [
        "# Funcionalidades Importantes"
      ],
      "metadata": {
        "id": "ePH_JGUUESdi"
      }
    },
    {
      "cell_type": "code",
      "source": [
        "# Tabela base para exemplos\n",
        "renda = pd.read_json(\n",
        "    'https://s3.sa-east-1.amazonaws.com/br.com.easynvest.cms.uploads/cvm/30102287000121')\n",
        "renda"
      ],
      "metadata": {
        "id": "qL5bZFOsEeAj"
      },
      "execution_count": null,
      "outputs": []
    },
    {
      "cell_type": "markdown",
      "source": [
        "## Correlação entre Colunas (Atributos)"
      ],
      "metadata": {
        "id": "R4yM-qpzGAsW"
      }
    },
    {
      "cell_type": "code",
      "source": [
        "renda.corr()"
      ],
      "metadata": {
        "id": "45C_4uRrF41o"
      },
      "execution_count": null,
      "outputs": []
    },
    {
      "cell_type": "code",
      "source": [
        "import seaborn as sns\n",
        "_ = sns.heatmap(renda.corr(),annot=True)"
      ],
      "metadata": {
        "id": "CQn6LpmWGEUk"
      },
      "execution_count": null,
      "outputs": []
    },
    {
      "cell_type": "markdown",
      "source": [
        "## Função de Modificação"
      ],
      "metadata": {
        "id": "qSL6uWnyGyUL"
      }
    },
    {
      "cell_type": "code",
      "source": [
        "renda['k'] = renda['p'].apply(\n",
        "    lambda x: 'bom' if x >= 5003000.00 else 'ruim'\n",
        "    )\n",
        "renda.head()"
      ],
      "metadata": {
        "id": "Ag8zvwhnG1kQ"
      },
      "execution_count": null,
      "outputs": []
    },
    {
      "cell_type": "markdown",
      "source": [
        "## Convertendo texto para classes"
      ],
      "metadata": {
        "id": "Qy_tI3gFH6bN"
      }
    },
    {
      "cell_type": "code",
      "source": [
        "valores, tipos = pd.factorize(renda['k'])\n",
        "valores, tipos"
      ],
      "metadata": {
        "id": "RRHUuUK5H5_U"
      },
      "execution_count": null,
      "outputs": []
    },
    {
      "cell_type": "code",
      "source": [
        "renda['k'].unique()"
      ],
      "metadata": {
        "id": "rx5mNyD5ISlc"
      },
      "execution_count": null,
      "outputs": []
    },
    {
      "cell_type": "markdown",
      "source": [
        "## Tabela Dinâmica"
      ],
      "metadata": {
        "id": "KvqUzYCaINaq"
      }
    },
    {
      "cell_type": "code",
      "source": [
        "df = pd.DataFrame({\n",
        "    'foo': ['one', 'one', 'one', 'two', 'two', 'two'],\n",
        "    'bar': ['A', 'B', 'C', 'A', 'B', 'C'],\n",
        "    'baz': [1, 2, 3, 4, 5, 6],\n",
        "    'zoo': ['x', 'y', 'z', 'q', 'w', 't']})\n",
        "df"
      ],
      "metadata": {
        "id": "g-wnjTzbeRqN"
      },
      "execution_count": null,
      "outputs": []
    },
    {
      "cell_type": "code",
      "source": [
        "df.pivot(index='foo', columns='bar', values='baz')"
      ],
      "metadata": {
        "id": "zgOBGXzRewUA"
      },
      "execution_count": null,
      "outputs": []
    },
    {
      "cell_type": "code",
      "source": [
        "df.pivot(index='foo', columns='bar', values=['baz', 'zoo'])"
      ],
      "metadata": {
        "id": "-u-0r_Iye5ws"
      },
      "execution_count": null,
      "outputs": []
    },
    {
      "cell_type": "code",
      "source": [
        "df = pd.DataFrame({\n",
        "       \"lev1\": [1, 1, 1, 2, 2, 2],\n",
        "       \"lev2\": [1, 1, 2, 1, 1, 2],\n",
        "       \"lev3\": [1, 2, 1, 2, 1, 2],\n",
        "       \"lev4\": [1, 2, 3, 4, 5, 6],\n",
        "       \"values\": [0, 1, 2, 3, 4, 5]})\n",
        "df.pivot(index=[\"lev1\", \"lev2\"], columns=[\"lev3\"],values=\"values\")"
      ],
      "metadata": {
        "id": "8jFrEHeYe-f3"
      },
      "execution_count": null,
      "outputs": []
    },
    {
      "cell_type": "markdown",
      "source": [
        "# Gráficos"
      ],
      "metadata": {
        "id": "6jAANkBefI6a"
      }
    },
    {
      "cell_type": "code",
      "source": [
        "_ = renda['p'].plot()"
      ],
      "metadata": {
        "id": "DdGVoX6ZfKge"
      },
      "execution_count": null,
      "outputs": []
    },
    {
      "cell_type": "code",
      "source": [
        "renda['c'].plot()"
      ],
      "metadata": {
        "id": "Psyb8Ru4fSCK"
      },
      "execution_count": null,
      "outputs": []
    },
    {
      "cell_type": "code",
      "source": [
        "renda['q'].plot()"
      ],
      "metadata": {
        "id": "yKQSiFyIfWkp"
      },
      "execution_count": null,
      "outputs": []
    },
    {
      "cell_type": "code",
      "source": [
        "renda[['c','p']].plot()"
      ],
      "metadata": {
        "id": "iENHAI3Bfg1a"
      },
      "execution_count": null,
      "outputs": []
    },
    {
      "cell_type": "code",
      "source": [
        "renda['p'].hist(bins=50)"
      ],
      "metadata": {
        "id": "NYRSAA5UflT0"
      },
      "execution_count": null,
      "outputs": []
    },
    {
      "cell_type": "code",
      "source": [
        "renda['c'].hist()"
      ],
      "metadata": {
        "id": "0Fhw06AtfrX0"
      },
      "execution_count": null,
      "outputs": []
    },
    {
      "cell_type": "markdown",
      "source": [
        "# Atividade"
      ],
      "metadata": {
        "id": "dG7ADEE0gb2u"
      }
    },
    {
      "cell_type": "markdown",
      "source": [
        "Utilizando a base de dados abaixo:\n",
        "- https://raw.githubusercontent.com/MainakRepositor/Datasets/master/Loan%20payments%20data.csv\n",
        "\n",
        "Carregue seus valores e converta as colunas \"object\" (texto) em números usando categorização de seus valores, use o comando:\n",
        "- https://pandas.pydata.org/docs/reference/api/pandas.factorize.html"
      ],
      "metadata": {
        "id": "yRPZJC6qgeQi"
      }
    },
    {
      "cell_type": "code",
      "source": [],
      "metadata": {
        "id": "e_-0cWATgd5m"
      },
      "execution_count": null,
      "outputs": []
    },
    {
      "cell_type": "markdown",
      "source": [
        "Converta o campo numérico 'age' para faixas de valores ```['baixo','médio','alto']``` usando o comando:\n",
        "- https://pandas.pydata.org/pandas-docs/stable/reference/api/pandas.cut.html"
      ],
      "metadata": {
        "id": "p-vhFr4BPwiH"
      }
    },
    {
      "cell_type": "code",
      "source": [],
      "metadata": {
        "id": "F-zrXlnEQSz-"
      },
      "execution_count": null,
      "outputs": []
    }
  ]
}