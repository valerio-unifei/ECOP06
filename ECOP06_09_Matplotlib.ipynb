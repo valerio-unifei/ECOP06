{
  "nbformat": 4,
  "nbformat_minor": 0,
  "metadata": {
    "colab": {
      "provenance": [],
      "authorship_tag": "ABX9TyPTmTSFW9BOgarB7MPMLs7F",
      "include_colab_link": true
    },
    "kernelspec": {
      "name": "python3",
      "display_name": "Python 3"
    },
    "language_info": {
      "name": "python"
    }
  },
  "cells": [
    {
      "cell_type": "markdown",
      "metadata": {
        "id": "view-in-github",
        "colab_type": "text"
      },
      "source": [
        "<a href=\"https://colab.research.google.com/github/valerio-unifei/ECOP06/blob/main/ECOP06_09_Matplotlib.ipynb\" target=\"_parent\"><img src=\"https://colab.research.google.com/assets/colab-badge.svg\" alt=\"Open In Colab\"/></a>"
      ]
    },
    {
      "cell_type": "markdown",
      "source": [
        "# MatPlotLib"
      ],
      "metadata": {
        "id": "eRWN0kW8i119"
      }
    },
    {
      "cell_type": "markdown",
      "source": [
        "Matplotlib é uma biblioteca abrangente para criar visualizações estáticas, animadas e interativas em Python.\n",
        "\n",
        "O Matplotlib torna as coisas fáceis fáceis e as difíceis possíveis.\n",
        "\n",
        "- Crie gráficos de qualidade de publicação;\n",
        "- Faça figuras interativas que podem ampliar, deslocar, atualizar;\n",
        "- Personalize o estilo visual e o layout;\n",
        "- Exporte para vários formatos de arquivo;\n",
        "- Incorporar no JupyterLab e nas interfaces gráficas do usuário;\n",
        "- Use uma rica variedade de pacotes de terceiros criados no Matplotlib."
      ],
      "metadata": {
        "id": "aQ1HRJiojg5V"
      }
    },
    {
      "cell_type": "code",
      "execution_count": null,
      "metadata": {
        "id": "-dkbJX0kij7H"
      },
      "outputs": [],
      "source": [
        "import matplotlib as mpl\n",
        "import matplotlib.pyplot as plt\n",
        "mpl.__version__"
      ]
    },
    {
      "cell_type": "markdown",
      "source": [
        "## Partes do Gráfico"
      ],
      "metadata": {
        "id": "uNOHqPSXyiPo"
      }
    },
    {
      "cell_type": "markdown",
      "source": [
        "<img src=\"https://www.hashtagtreinamentos.com/wp-content/uploads/2021/07/Saia-do-Zero-em-Graficos-no-Python-3.png.webp\">"
      ],
      "metadata": {
        "id": "rA1WIgamykP3"
      }
    },
    {
      "cell_type": "markdown",
      "source": [
        "# Tipos de Gráfico"
      ],
      "metadata": {
        "id": "CzQiwgf51vF2"
      }
    },
    {
      "cell_type": "markdown",
      "source": [
        "## Básico"
      ],
      "metadata": {
        "id": "fMauh_xVmmIk"
      }
    },
    {
      "cell_type": "code",
      "source": [
        "import numpy as np\n",
        "\n",
        "x = np.linspace(0, 10, 100)\n",
        "\n",
        "plt.plot(x, np.sin(x))\n",
        "plt.plot(x, np.cos(x))\n",
        "\n",
        "plt.show()"
      ],
      "metadata": {
        "id": "9IfJiJw2m4i0"
      },
      "execution_count": null,
      "outputs": []
    },
    {
      "cell_type": "code",
      "source": [
        "x = np.linspace(0, 10, 100)\n",
        "y = 4 + 2 * np.sin(2 * x)\n",
        "\n",
        "# plot\n",
        "fig, ax = plt.subplots()\n",
        "ax.plot(x, y, linewidth=2.0)\n",
        "ax.set(xlim=(0, 8), xticks=np.arange(1, 8),\n",
        "       ylim=(0, 8), yticks=np.arange(1, 8))\n",
        "plt.show()"
      ],
      "metadata": {
        "id": "BL5IlmTco4ON"
      },
      "execution_count": null,
      "outputs": []
    },
    {
      "cell_type": "code",
      "source": [
        "np.random.seed(42)\n",
        "x = 0.5 + np.arange(8)\n",
        "y = np.random.uniform(2, 7, len(x))\n",
        "\n",
        "plt.bar(x, y, width=1, edgecolor=\"white\", linewidth=0.7)\n",
        "plt.show()"
      ],
      "metadata": {
        "id": "pOPBIvNgn0sk"
      },
      "execution_count": null,
      "outputs": []
    },
    {
      "cell_type": "code",
      "source": [
        "np.random.seed(42)\n",
        "x = np.linspace(0, 8, 16)\n",
        "y1 = 3 + 4*x/8 + np.random.uniform(0.0, 0.5, len(x))\n",
        "y2 = 1 + 2*x/8 + np.random.uniform(0.0, 0.5, len(x))\n",
        "\n",
        "# plot\n",
        "fig, ax = plt.subplots()\n",
        "ax.fill_between(x, y1, y2, alpha=.5, linewidth=0)\n",
        "ax.plot(x, (y1 + y2)/2, linewidth=2)\n",
        "plt.show()"
      ],
      "metadata": {
        "id": "NP5oXacIomEE"
      },
      "execution_count": null,
      "outputs": []
    },
    {
      "cell_type": "code",
      "source": [
        "np.random.seed(42)\n",
        "x = 4 + np.random.normal(0, 2, 24)\n",
        "y = 4 + np.random.normal(0, 2, len(x))\n",
        "# size and color:\n",
        "sizes = np.random.uniform(15, 80, len(x))\n",
        "colors = np.random.uniform(15, 80, len(x))\n",
        "\n",
        "# plot\n",
        "plt.scatter(x, y, s=sizes, c=colors, vmin=0, vmax=100)\n",
        "plt.show()"
      ],
      "metadata": {
        "id": "VjVWZ2z6pETf"
      },
      "execution_count": null,
      "outputs": []
    },
    {
      "cell_type": "code",
      "source": [
        "x = np.arange(0, 10, 2)\n",
        "ay = [1, 1.25, 2, 2.75, 3]\n",
        "by = [1, 1, 1, 1, 1]\n",
        "cy = [2, 1, 2, 1, 2]\n",
        "y = np.vstack([ay, by, cy])\n",
        "\n",
        "# plot\n",
        "plt.stackplot(x, y)\n",
        "plt.show()"
      ],
      "metadata": {
        "id": "IsAG7fzzpLFt"
      },
      "execution_count": null,
      "outputs": []
    },
    {
      "cell_type": "code",
      "source": [
        "np.random.seed(42)\n",
        "x = 0.5 + np.arange(8)\n",
        "y = np.random.uniform(2, 7, len(x))\n",
        "\n",
        "# plot\n",
        "plt.step(x, y, linewidth=2.5)\n",
        "plt.show()"
      ],
      "metadata": {
        "id": "KPvkhyvPpWiv"
      },
      "execution_count": null,
      "outputs": []
    },
    {
      "cell_type": "markdown",
      "source": [
        "## Vetores"
      ],
      "metadata": {
        "id": "R9CKnN7ZtoQm"
      }
    },
    {
      "cell_type": "code",
      "source": [
        "X, Y = np.meshgrid([1, 2, 3, 4], [1, 2, 3, 4])\n",
        "angle = np.pi / 180 * np.array([[15., 30, 35, 45],\n",
        "                                [25., 40, 55, 60],\n",
        "                                [35., 50, 65, 75],\n",
        "                                [45., 60, 75, 90]])\n",
        "amplitude = np.array([[5, 10, 25, 50],\n",
        "                      [10, 15, 30, 60],\n",
        "                      [15, 26, 50, 70],\n",
        "                      [20, 45, 80, 100]])\n",
        "U = amplitude * np.sin(angle)\n",
        "V = amplitude * np.cos(angle)\n",
        "\n",
        "# plot:\n",
        "fig, ax = plt.subplots()\n",
        "ax.barbs(X, Y, U, V, barbcolor='C0', flagcolor='C0', length=7, linewidth=1.5)\n",
        "ax.set(xlim=(0, 4.5), ylim=(0, 4.5))\n",
        "plt.show()"
      ],
      "metadata": {
        "id": "ROxNwVvosaYu"
      },
      "execution_count": null,
      "outputs": []
    },
    {
      "cell_type": "code",
      "source": [
        "X, Y = np.meshgrid(np.linspace(-3, 3, 256), np.linspace(-3, 3, 256))\n",
        "Z = (1 - X/2 + X**5 + Y**3) * np.exp(-X**2 - Y**2)\n",
        "levels = np.linspace(np.min(Z), np.max(Z), 7)\n",
        "\n",
        "# plot\n",
        "plt.contour(X, Y, Z, levels=levels)\n",
        "plt.show()"
      ],
      "metadata": {
        "id": "GSMA2wZasgx-"
      },
      "execution_count": null,
      "outputs": []
    },
    {
      "cell_type": "code",
      "source": [
        "# plot\n",
        "plt.contourf(X, Y, Z, levels=levels)\n",
        "plt.show()"
      ],
      "metadata": {
        "id": "EwO5sRmqsrh3"
      },
      "execution_count": null,
      "outputs": []
    },
    {
      "cell_type": "code",
      "source": [
        "plt.imshow(Z)\n",
        "plt.show()"
      ],
      "metadata": {
        "id": "GIngmTbSsvZv"
      },
      "execution_count": null,
      "outputs": []
    },
    {
      "cell_type": "code",
      "source": [
        "# plot\n",
        "plt.pcolormesh(X, Y, Z, vmin=-0.5, vmax=1.0)\n",
        "plt.show()"
      ],
      "metadata": {
        "id": "oNv-ms8us6XF"
      },
      "execution_count": null,
      "outputs": []
    },
    {
      "cell_type": "code",
      "source": [
        "x = np.linspace(-4, 4, 6)\n",
        "y = np.linspace(-4, 4, 6)\n",
        "X, Y = np.meshgrid(x, y)\n",
        "U = X + Y\n",
        "V = Y - X\n",
        "\n",
        "# plot\n",
        "plt.quiver(X, Y, U, V, color=\"C0\", angles='xy',\n",
        "          scale_units='xy', scale=5, width=.015)\n",
        "plt.show()"
      ],
      "metadata": {
        "id": "Aqx9gs5_tJwE"
      },
      "execution_count": null,
      "outputs": []
    },
    {
      "cell_type": "code",
      "source": [
        "# make a stream function:\n",
        "X, Y = np.meshgrid(np.linspace(-3, 3, 256), np.linspace(-3, 3, 256))\n",
        "Z = (1 - X/2 + X**5 + Y**3) * np.exp(-X**2 - Y**2)\n",
        "# make U and V out of the streamfunction:\n",
        "V = np.diff(Z[1:, :], axis=1)\n",
        "U = -np.diff(Z[:, 1:], axis=0)\n",
        "\n",
        "plt.streamplot(X[1:, 1:], Y[1:, 1:], U, V)\n",
        "plt.show()"
      ],
      "metadata": {
        "id": "2kBbrelCtUcV"
      },
      "execution_count": null,
      "outputs": []
    },
    {
      "cell_type": "markdown",
      "source": [
        "## Desestruturado"
      ],
      "metadata": {
        "id": "NLafudpJtqWO"
      }
    },
    {
      "cell_type": "code",
      "source": [
        "# make data:\n",
        "np.random.seed(1)\n",
        "x = np.random.uniform(-3, 3, 256)\n",
        "y = np.random.uniform(-3, 3, 256)\n",
        "z = (1 - x/2 + x**5 + y**3) * np.exp(-x**2 - y**2)\n",
        "levels = np.linspace(z.min(), z.max(), 7)\n",
        "\n",
        "\n",
        "plt.plot(x, y, 'o', markersize=2, color='lightgrey')\n",
        "plt.tricontour(x, y, z, levels=levels)\n",
        "plt.show()"
      ],
      "metadata": {
        "id": "WyFycQFytsqF"
      },
      "execution_count": null,
      "outputs": []
    },
    {
      "cell_type": "code",
      "source": [
        "plt.plot(x, y, 'o', markersize=2, color='lightgrey')\n",
        "plt.tricontourf(x, y, z, levels=levels)\n",
        "plt.show()"
      ],
      "metadata": {
        "id": "xxX6f-Kwt3Nt"
      },
      "execution_count": null,
      "outputs": []
    },
    {
      "cell_type": "code",
      "source": [
        "plt.plot(x, y, 'o', markersize=2, color='lightgrey')\n",
        "plt.tripcolor(x, y, z)\n",
        "plt.show()"
      ],
      "metadata": {
        "id": "dS4f1vsit7p-"
      },
      "execution_count": null,
      "outputs": []
    },
    {
      "cell_type": "code",
      "source": [
        "plt.triplot(x, y)\n",
        "plt.show()"
      ],
      "metadata": {
        "id": "2CcbOt__uDel"
      },
      "execution_count": null,
      "outputs": []
    },
    {
      "cell_type": "markdown",
      "source": [
        "## Estatística"
      ],
      "metadata": {
        "id": "2Q7QgeVjuOym"
      }
    },
    {
      "cell_type": "code",
      "source": [
        "np.random.seed(42)\n",
        "D = np.random.normal((3, 5, 4), (1.25, 1.00, 1.25), (100, 3))\n",
        "\n",
        "# plot\n",
        "plt.boxplot(D, positions=[2, 4, 6], widths=1.5, patch_artist=True,\n",
        "                showmeans=False, showfliers=False,\n",
        "                medianprops={\"color\": \"white\", \"linewidth\": 0.5},\n",
        "                boxprops={\"facecolor\": \"C0\", \"edgecolor\": \"white\",\n",
        "                          \"linewidth\": 0.5},\n",
        "                whiskerprops={\"color\": \"C0\", \"linewidth\": 1.5},\n",
        "                capprops={\"color\": \"C0\", \"linewidth\": 1.5})\n",
        "plt.show()"
      ],
      "metadata": {
        "id": "c_fvor6iuTo9"
      },
      "execution_count": null,
      "outputs": []
    },
    {
      "cell_type": "code",
      "source": [
        "np.random.seed(42)\n",
        "x = [2, 4, 6]\n",
        "y = [3.6, 5, 4.2]\n",
        "yerr = [0.9, 1.2, 0.5]\n",
        "\n",
        "# plot:\n",
        "plt.errorbar(x, y, yerr, fmt='o', linewidth=2, capsize=6)\n",
        "plt.show()"
      ],
      "metadata": {
        "id": "_tk8ge_QvU9l"
      },
      "execution_count": null,
      "outputs": []
    },
    {
      "cell_type": "code",
      "source": [
        "np.random.seed(42)\n",
        "x = [2, 4, 6]\n",
        "D = np.random.gamma(4, size=(3, 50))\n",
        "\n",
        "# plot:\n",
        "plt.eventplot(D, orientation=\"vertical\", lineoffsets=x, linewidth=0.75)\n",
        "plt.show()"
      ],
      "metadata": {
        "id": "4CCNszzKvaJV"
      },
      "execution_count": null,
      "outputs": []
    },
    {
      "cell_type": "code",
      "source": [
        "np.random.seed(42)\n",
        "x = np.random.randn(5000)\n",
        "y = 1.2 * x + np.random.randn(5000) / 3\n",
        "\n",
        "# plot:\n",
        "plt.hexbin(x, y, gridsize=20)\n",
        "plt.show()"
      ],
      "metadata": {
        "id": "sUBO17V7vfn2"
      },
      "execution_count": null,
      "outputs": []
    },
    {
      "cell_type": "code",
      "source": [
        "np.random.seed(42)\n",
        "x = 4 + np.random.normal(0, 1.5, 200)\n",
        "\n",
        "# plot:\n",
        "plt.hist(x, bins=8, linewidth=0.5, edgecolor=\"white\")\n",
        "plt.show()"
      ],
      "metadata": {
        "id": "3HmBxjTtvlUe"
      },
      "execution_count": null,
      "outputs": []
    },
    {
      "cell_type": "code",
      "source": [
        "np.random.seed(42)\n",
        "x = np.random.randn(5000)\n",
        "y = 1.2 * x + np.random.randn(5000) / 3\n",
        "\n",
        "# plot:\n",
        "plt.hist2d(x, y, bins=(np.arange(-3, 3, 0.1), np.arange(-3, 3, 0.1)))\n",
        "plt.show()"
      ],
      "metadata": {
        "id": "O4s5wAv5vqVm"
      },
      "execution_count": null,
      "outputs": []
    },
    {
      "cell_type": "code",
      "source": [
        "x = [1, 2, 3, 4]\n",
        "colors = plt.get_cmap('Blues')(np.linspace(0.2, 0.7, len(x)))\n",
        "\n",
        "# plot\n",
        "fig, ax = plt.subplots()\n",
        "ax.pie(x, colors=colors, radius=3, center=(4, 4),\n",
        "       wedgeprops={\"linewidth\": 1, \"edgecolor\": \"white\"}, frame=True)\n",
        "\n",
        "ax.set(xlim=(0, 8), xticks=np.arange(1, 8),\n",
        "       ylim=(0, 8), yticks=np.arange(1, 8))\n",
        "\n",
        "plt.show()"
      ],
      "metadata": {
        "id": "vus11PbzvxcV"
      },
      "execution_count": null,
      "outputs": []
    },
    {
      "cell_type": "code",
      "source": [
        "np.random.seed(42)\n",
        "D = np.random.normal((3, 5, 4), (0.75, 1.00, 0.75), (200, 3))\n",
        "\n",
        "# plot:\n",
        "plt.violinplot(D, [2, 4, 6], widths=2,\n",
        "                   showmeans=False, showmedians=False, showextrema=False)\n",
        "plt.show()"
      ],
      "metadata": {
        "id": "aaeuCo0gv54t"
      },
      "execution_count": null,
      "outputs": []
    },
    {
      "cell_type": "markdown",
      "source": [
        "# Expandindo o Uso"
      ],
      "metadata": {
        "id": "kXAHevzixBt_"
      }
    },
    {
      "cell_type": "code",
      "source": [
        "x1 = np.linspace(0, 10, 100)\n",
        "\n",
        "plt.plot(x1, np.sin(x1), '-')\n",
        "plt.plot(x1, np.cos(x1), '--');"
      ],
      "metadata": {
        "id": "a6JmPPvRxEMV"
      },
      "execution_count": null,
      "outputs": []
    },
    {
      "cell_type": "code",
      "source": [
        "plt.subplot(2, 1, 1)\n",
        "plt.plot(x1, np.sin(x1))\n",
        "\n",
        "plt.subplot(2, 1, 2)\n",
        "plt.plot(x1, np.cos(x1));"
      ],
      "metadata": {
        "id": "Q2Lr2tZ0xM2W"
      },
      "execution_count": null,
      "outputs": []
    },
    {
      "cell_type": "markdown",
      "source": [
        "Tamanho da imagem:"
      ],
      "metadata": {
        "id": "YHC5f4ywxhvg"
      }
    },
    {
      "cell_type": "code",
      "source": [
        "plt.gcf()"
      ],
      "metadata": {
        "id": "TpWRb63Vxbme"
      },
      "execution_count": null,
      "outputs": []
    },
    {
      "cell_type": "code",
      "source": [
        "plt.plot([1, 2, 3, 4])\n",
        "plt.ylabel('Tensão')\n",
        "plt.show()"
      ],
      "metadata": {
        "id": "DntSo9Rfxp0O"
      },
      "execution_count": null,
      "outputs": []
    },
    {
      "cell_type": "code",
      "source": [
        "plt.plot([1, 2, 3, 4], [1, 4, 9, 16])\n",
        "plt.show()"
      ],
      "metadata": {
        "id": "B5FELGLux1m2"
      },
      "execution_count": null,
      "outputs": []
    },
    {
      "cell_type": "code",
      "source": [
        "x = np.linspace(0, 2, 100)\n",
        "\n",
        "plt.plot(x, x, label='linear')\n",
        "plt.plot(x, x**2, label='quadratico')\n",
        "plt.plot(x, x**3, label='cúbico')\n",
        "\n",
        "plt.title(\"Demonstração com Múltiplos Gráficos\")\n",
        "plt.legend()\n",
        "plt.xlabel('tempo')\n",
        "plt.ylabel('valor')\n",
        "plt.show()"
      ],
      "metadata": {
        "id": "nntGn-USx5Cu"
      },
      "execution_count": null,
      "outputs": []
    },
    {
      "cell_type": "code",
      "source": [
        "t = np.arange(0., 5., 0.2)\n",
        "\n",
        "plt.plot(t, t, 'r--', t, t**2, 'bs', t, t**3, 'g^')\n",
        "plt.show()"
      ],
      "metadata": {
        "id": "vSd19WelyQz2"
      },
      "execution_count": null,
      "outputs": []
    },
    {
      "cell_type": "markdown",
      "source": [
        "## Configurações"
      ],
      "metadata": {
        "id": "RJKfe8Vb0ElH"
      }
    },
    {
      "cell_type": "code",
      "source": [
        "plt.rcParams['figure.figsize'] = (15,10)\n",
        "plt.rcParams['axes.grid'] = True\n",
        "plt.rcParams['grid.color'] = 'gray'"
      ],
      "metadata": {
        "id": "Z1jLifSg0F9u"
      },
      "execution_count": null,
      "outputs": []
    },
    {
      "cell_type": "markdown",
      "source": [
        "# Salvando em Arquivo"
      ],
      "metadata": {
        "id": "COQRphT7zdiW"
      }
    },
    {
      "cell_type": "code",
      "source": [
        "fig = plt.figure()\n",
        "fig.canvas.get_supported_filetypes()"
      ],
      "metadata": {
        "id": "z7ZDEstyzfY-"
      },
      "execution_count": null,
      "outputs": []
    },
    {
      "cell_type": "code",
      "source": [
        "matrix1 = np.random.rand(10, 20)\n",
        "plt.contour(matrix1)\n",
        "plt.savefig('matrix.png')\n",
        "plt.show()"
      ],
      "metadata": {
        "id": "Va6m_kI_zu9w"
      },
      "execution_count": null,
      "outputs": []
    },
    {
      "cell_type": "markdown",
      "source": [
        "# Atividade"
      ],
      "metadata": {
        "id": "NRAe4YRW2Jsu"
      }
    },
    {
      "cell_type": "markdown",
      "source": [
        "## Ciência dos Materiais"
      ],
      "metadata": {
        "id": "roAlRKrcfmM7"
      }
    },
    {
      "cell_type": "markdown",
      "source": [
        "Um teste de tensão é realizado para determinar o comportamento tensão-deformação da borracha.\n",
        "\n",
        "Os valores de dados do teste são mostrados abaixo.\n",
        "\n",
        "<img src=\"https://miro.medium.com/max/4800/1*8khB5WkpCc1mKxAa5jRdiw.png\">\n",
        "\n",
        "Determine o polinômio que melhor se ajusta aos pontos de dados para que possamos prever aproximadamente os valores futuros com base nessa curva ajustada.\n",
        "\n",
        "A tarefa é obter um polinômio de enésimo grau que descreva a relação aproximada entre deformação e tensão para uma dada quantidade de dados.\n",
        "\n",
        "Este polinômio de enésimo grau é preciso e preciso em comparação com a interpolação linear, ele fornece o valor correto das tensões em uma determinada quantidade de deformação, para uma correspondência suficientemente precisa."
      ],
      "metadata": {
        "id": "ruf9B0EkcfnO"
      }
    },
    {
      "cell_type": "code",
      "source": [
        "deformacao = np.linspace(0,6,16)\n",
        "tensao = np.array([0,3,4.5,5.8,5.9,5.8,6.2,7.4,9.6,15.6,20.7,26.7,31.1,35.6,39.3,41.5])\n",
        "\n",
        "grau_polinomio = 4\n",
        "p = np.poly1d( np.polyfit(deformacao, tensao, deg=grau_polinomio) )\n",
        "print(p)\n",
        "\n",
        "# interpolação\n",
        "t = np.linspace(0, 6, 200)\n",
        "\n",
        "# plote os pontos deformação x tensão\n",
        "# plote a linha da interpolação t x p(t)"
      ],
      "metadata": {
        "id": "HvdOVCgv2JO-"
      },
      "execution_count": null,
      "outputs": []
    },
    {
      "cell_type": "markdown",
      "source": [
        "## Gerenciamento de desastres\n",
        "\n"
      ],
      "metadata": {
        "id": "V3aLvslAfiwT"
      }
    },
    {
      "cell_type": "markdown",
      "source": [
        "A partir de pesquisas recentes, verificou-se que a probabilidade de um terremoto aumenta à medida que as atividades magnéticas solares aumentam.\n",
        "\n",
        "O objetivo é investigar se a atividade magnética no Sol segue um ciclo definido.\n",
        "\n",
        "Uma das maneiras de quantificar as atividades magnéticas é medir o número de manchas solares a cada ano.\n",
        "\n",
        "O conjunto de dados contém os dados históricos do número de manchas solares observadas no ano de 1700 até o ano de 2019."
      ],
      "metadata": {
        "id": "8sHME4iMfvbw"
      }
    },
    {
      "cell_type": "code",
      "source": [
        "!gdown --fuzzy 1e5IcYQWhd7qImRTuFCnkHED5GrsEPcSs -O Earthquake.csv"
      ],
      "metadata": {
        "id": "rHTSKbbbfuYF"
      },
      "execution_count": null,
      "outputs": []
    },
    {
      "cell_type": "markdown",
      "source": [
        "A tarefa é encontrar a frequência em que a atividade magnética solar atinge o máximo e prever ainda em qual dos próximos anos ela estará em seu valor máximo.\n",
        "\n",
        "Então, é preciso encontrar a frequência que está em ciclos/ano em que o número de manchas solares ou a atividade magnética-solar atinge o máximo e, retribuindo essa frequência, obter anos após os quais a atividade solar atinge novamente seu máximo.\n",
        "\n",
        "Portanto, para encontrar a frequência, primeiro transforma-se os dados tabulares em uma série de soma de funções harmônicas com diferentes amplitudes e frequências através da função transformada de Fourier *np.fft.fft*, então a frequência de cada função harmônica representada por *np.fft.fftfreq* e, em seguida, plotar o **frequencia vs magnitude** da transformada de Fourier para visualizar as frequências nas quais a magnitude parece ser máxima e essa frequência seria aquela em ciclos/ano em que a atividade parece ser máxima."
      ],
      "metadata": {
        "id": "zi0F3bEDgZG2"
      }
    },
    {
      "cell_type": "code",
      "source": [
        "earthquake_data = # carregar o arquivo no Numpy\n",
        "A = np.fft.fft(np.array(earthquake_data['Sunspots']))\n",
        "sample = earthquake_data['Sunspots']\n",
        "n = sample.size\n",
        "freq = np.fft.fftfreq(n ,1)\n",
        "fft_theoretical = 2 * np.abs(A / n)\n",
        "fft_theoretical[0] = 0\n",
        "mask = freq > 0\n",
        "\n",
        "# plot 1 => earthquake_data.Year, earthquake_data.Sunspots\n",
        "# plot 2 => freq[mask], fft_theoretical[mask]"
      ],
      "metadata": {
        "id": "SQ9q4iI0gYrM"
      },
      "execution_count": null,
      "outputs": []
    }
  ]
}