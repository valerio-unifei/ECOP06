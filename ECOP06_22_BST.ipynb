{
  "nbformat": 4,
  "nbformat_minor": 0,
  "metadata": {
    "colab": {
      "provenance": [],
      "authorship_tag": "ABX9TyOOA15NKfsFnf25c6jHAO4D",
      "include_colab_link": true
    },
    "kernelspec": {
      "name": "python3",
      "display_name": "Python 3"
    },
    "language_info": {
      "name": "python"
    }
  },
  "cells": [
    {
      "cell_type": "markdown",
      "metadata": {
        "id": "view-in-github",
        "colab_type": "text"
      },
      "source": [
        "<a href=\"https://colab.research.google.com/github/valerio-unifei/ECOP06/blob/main/ECOP06_21_BST.ipynb\" target=\"_parent\"><img src=\"https://colab.research.google.com/assets/colab-badge.svg\" alt=\"Open In Colab\"/></a>"
      ]
    },
    {
      "cell_type": "markdown",
      "source": [
        "# Binary Search Tree"
      ],
      "metadata": {
        "id": "ZJbT7fgVTbZ8"
      }
    },
    {
      "cell_type": "markdown",
      "source": [
        "Baseado em:\n",
        "\n",
        "<a href=\"https://realpython.com/binary-search-python/\"><img src=\"https://files.realpython.com/media/How-to-Do-a-Binary-Search-in-Python_Watermarked.e44b17443dd2.jpg\"></a>"
      ],
      "metadata": {
        "id": "T4OO3xdHTewC"
      }
    },
    {
      "cell_type": "markdown",
      "source": [
        "A busca binária é um algoritmo clássico na ciência da computação.\n",
        "\n",
        "Implementar busca binária acaba sendo uma tarefa desafiadora, mesmo quando você entende o conceito.\n",
        "\n",
        "A menos que você esteja curioso ou tenha uma tarefa específica, você sempre deve aproveitar as bibliotecas existentes para fazer uma pesquisa binária em Python ou qualquer outra linguagem."
      ],
      "metadata": {
        "id": "OB9Rfn2ST2r-"
      }
    },
    {
      "cell_type": "markdown",
      "source": [
        "## Base para Comparações"
      ],
      "metadata": {
        "id": "EWBK0XWnVmyV"
      }
    },
    {
      "cell_type": "code",
      "execution_count": null,
      "metadata": {
        "colab": {
          "base_uri": "https://localhost:8080/"
        },
        "id": "KCQnQp5xTXnM",
        "outputId": "53d4fd11-685a-4ac3-a0d4-117ad6c9a5f5"
      },
      "outputs": [
        {
          "output_type": "stream",
          "name": "stdout",
          "text": [
            "--2022-12-04 22:52:27--  https://datasets.imdbws.com/title.basics.tsv.gz\n",
            "Resolving datasets.imdbws.com (datasets.imdbws.com)... 99.84.160.101, 99.84.160.48, 99.84.160.94, ...\n",
            "Connecting to datasets.imdbws.com (datasets.imdbws.com)|99.84.160.101|:443... connected.\n",
            "HTTP request sent, awaiting response... 200 OK\n",
            "Length: 164589517 (157M) [binary/octet-stream]\n",
            "Saving to: ‘title.basics.tsv.gz’\n",
            "\n",
            "title.basics.tsv.gz 100%[===================>] 156.96M  47.7MB/s    in 3.3s    \n",
            "\n",
            "2022-12-04 22:52:31 (47.7 MB/s) - ‘title.basics.tsv.gz’ saved [164589517/164589517]\n",
            "\n"
          ]
        }
      ],
      "source": [
        "!wget https://datasets.imdbws.com/title.basics.tsv.gz"
      ]
    },
    {
      "cell_type": "code",
      "source": [
        "!unzip title.basics.tsv.gz"
      ],
      "metadata": {
        "colab": {
          "base_uri": "https://localhost:8080/"
        },
        "id": "PvNvfbd7V_XA",
        "outputId": "f94c9b85-25b3-458e-a129-3b6fbbf6b881"
      },
      "execution_count": null,
      "outputs": [
        {
          "output_type": "stream",
          "name": "stdout",
          "text": [
            "Archive:  title.basics.tsv.gz\n",
            "  End-of-central-directory signature not found.  Either this file is not\n",
            "  a zipfile, or it constitutes one disk of a multi-part archive.  In the\n",
            "  latter case the central directory and zipfile comment will be found on\n",
            "  the last disk(s) of this archive.\n",
            "unzip:  cannot find zipfile directory in one of title.basics.tsv.gz or\n",
            "        title.basics.tsv.gz.zip, and cannot find title.basics.tsv.gz.ZIP, period.\n"
          ]
        }
      ]
    }
  ]
}
